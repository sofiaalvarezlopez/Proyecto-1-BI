{
 "cells": [
  {
   "cell_type": "markdown",
   "id": "d172c9a4",
   "metadata": {},
   "source": [
    "# Nombre Modelo "
   ]
  },
  {
   "cell_type": "markdown",
   "id": "c78ce1d5",
   "metadata": {},
   "source": [
    "## Librerias"
   ]
  },
  {
   "cell_type": "code",
   "execution_count": 3,
   "id": "3eaeb07b",
   "metadata": {},
   "outputs": [],
   "source": [
    "# Declaración de la semilla\n",
    "seed = 161\n",
    "\n",
    "# Para trabajar los datos\n",
    "import pandas as pd\n",
    "import numpy as np\n",
    "\n",
    "# Para visualizar los datos\n",
    "import matplotlib.pyplot as plt\n",
    "import seaborn as sns\n",
    "\n",
    "# Sklearn\n",
    "from sklearn import svm, datasets\n",
    "from sklearn.model_selection import GridSearchCV\n",
    "\n",
    "# Vectorizar\n",
    "from sklearn.feature_extraction.text import CountVectorizer, TfidfVectorizer\n",
    "\n",
    "#Split our dataset\n",
    "from sklearn.model_selection import train_test_split\n",
    "\n",
    "# Para el uso de pipelines\n",
    "from imblearn.pipeline import Pipeline\n",
    "\n",
    "# Importar/ Exportar modelos\n",
    "import joblib"
   ]
  },
  {
   "cell_type": "code",
   "execution_count": 10,
   "id": "4306f0b2",
   "metadata": {},
   "outputs": [
    {
     "name": "stdout",
     "output_type": "stream",
     "text": [
      "Collecting fastai\n",
      "  Downloading fastai-2.5.5-py3-none-any.whl (187 kB)\n",
      "Collecting fastprogress>=0.2.4\n",
      "  Downloading fastprogress-1.0.2-py3-none-any.whl (12 kB)\n",
      "Collecting torch<1.11,>=1.7.0\n",
      "  Downloading torch-1.10.2-cp38-cp38-win_amd64.whl (226.6 MB)\n",
      "Requirement already satisfied: pyyaml in c:\\users\\brend\\anaconda3\\lib\\site-packages (from fastai) (5.4.1)\n",
      "Collecting torchvision>=0.8.2\n",
      "  Downloading torchvision-0.12.0-cp38-cp38-win_amd64.whl (1.0 MB)\n",
      "Requirement already satisfied: matplotlib in c:\\users\\brend\\appdata\\roaming\\python\\python38\\site-packages (from fastai) (3.5.0)\n",
      "Collecting fastdownload<2,>=0.0.5\n",
      "  Downloading fastdownload-0.0.5-py3-none-any.whl (13 kB)\n",
      "Requirement already satisfied: scikit-learn in c:\\users\\brend\\anaconda3\\lib\\site-packages (from fastai) (1.0.2)\n",
      "Requirement already satisfied: pip in c:\\users\\brend\\anaconda3\\lib\\site-packages (from fastai) (21.0.1)\n",
      "Requirement already satisfied: pandas in c:\\users\\brend\\anaconda3\\lib\\site-packages (from fastai) (1.2.5)\n",
      "Requirement already satisfied: requests in c:\\users\\brend\\anaconda3\\lib\\site-packages (from fastai) (2.25.1)\n",
      "Requirement already satisfied: scipy in c:\\users\\brend\\anaconda3\\lib\\site-packages (from fastai) (1.6.2)\n",
      "Requirement already satisfied: spacy<4 in c:\\users\\brend\\anaconda3\\lib\\site-packages (from fastai) (2.3.7)\n",
      "Requirement already satisfied: pillow>6.0.0 in c:\\users\\brend\\appdata\\roaming\\python\\python38\\site-packages (from fastai) (8.4.0)\n",
      "Requirement already satisfied: packaging in c:\\users\\brend\\appdata\\roaming\\python\\python38\\site-packages (from fastai) (21.3)\n",
      "Collecting fastcore<1.5,>=1.3.27\n",
      "  Downloading fastcore-1.4.0-py3-none-any.whl (56 kB)\n",
      "Requirement already satisfied: plac<1.2.0,>=0.9.6 in c:\\users\\brend\\anaconda3\\lib\\site-packages (from spacy<4->fastai) (1.1.3)\n",
      "Requirement already satisfied: cymem<2.1.0,>=2.0.2 in c:\\users\\brend\\anaconda3\\lib\\site-packages (from spacy<4->fastai) (2.0.6)\n",
      "Requirement already satisfied: preshed<3.1.0,>=3.0.2 in c:\\users\\brend\\anaconda3\\lib\\site-packages (from spacy<4->fastai) (3.0.6)\n",
      "Note: you may need to restart the kernel to use updated packages.Requirement already satisfied: tqdm<5.0.0,>=4.38.0 in c:\\users\\brend\\anaconda3\\lib\\site-packages (from spacy<4->fastai) (4.46.0)\n",
      "Requirement already satisfied: thinc<7.5.0,>=7.4.1 in c:\\users\\brend\\anaconda3\\lib\\site-packages (from spacy<4->fastai) (7.4.5)\n",
      "Requirement already satisfied: wasabi<1.1.0,>=0.4.0 in c:\\users\\brend\\anaconda3\\lib\\site-packages (from spacy<4->fastai) (0.9.0)\n",
      "Requirement already satisfied: srsly<1.1.0,>=1.0.2 in c:\\users\\brend\\anaconda3\\lib\\site-packages (from spacy<4->fastai) (1.0.5)\n",
      "Requirement already satisfied: murmurhash<1.1.0,>=0.28.0 in c:\\users\\brend\\anaconda3\\lib\\site-packages (from spacy<4->fastai) (1.0.6)\n",
      "Requirement already satisfied: setuptools in c:\\users\\brend\\appdata\\roaming\\python\\python38\\site-packages (from spacy<4->fastai) (59.4.0)\n",
      "Requirement already satisfied: numpy>=1.15.0 in c:\\users\\brend\\appdata\\roaming\\python\\python38\\site-packages (from spacy<4->fastai) (1.21.4)\n",
      "Requirement already satisfied: catalogue<1.1.0,>=0.0.7 in c:\\users\\brend\\anaconda3\\lib\\site-packages (from spacy<4->fastai) (1.0.0)\n",
      "Requirement already satisfied: blis<0.8.0,>=0.4.0 in c:\\users\\brend\\anaconda3\\lib\\site-packages (from spacy<4->fastai) (0.7.7)\n",
      "Requirement already satisfied: idna<3,>=2.5 in c:\\users\\brend\\anaconda3\\lib\\site-packages (from requests->fastai) (2.10)\n",
      "Requirement already satisfied: urllib3<1.27,>=1.21.1 in c:\\users\\brend\\anaconda3\\lib\\site-packages (from requests->fastai) (1.26.4)\n",
      "\n",
      "Requirement already satisfied: certifi>=2017.4.17 in c:\\users\\brend\\anaconda3\\lib\\site-packages (from requests->fastai) (2021.10.8)\n",
      "Requirement already satisfied: chardet<5,>=3.0.2 in c:\\users\\brend\\anaconda3\\lib\\site-packages (from requests->fastai) (4.0.0)\n",
      "Requirement already satisfied: typing-extensions in c:\\users\\brend\\anaconda3\\lib\\site-packages (from torch<1.11,>=1.7.0->fastai) (3.7.4.3)\n",
      "Collecting torchvision>=0.8.2\n",
      "  Downloading torchvision-0.11.3-cp38-cp38-win_amd64.whl (947 kB)\n",
      "Requirement already satisfied: pyparsing>=2.2.1 in c:\\users\\brend\\appdata\\roaming\\python\\python38\\site-packages (from matplotlib->fastai) (3.0.6)\n",
      "Requirement already satisfied: setuptools-scm>=4 in c:\\users\\brend\\appdata\\roaming\\python\\python38\\site-packages (from matplotlib->fastai) (6.3.2)\n",
      "Requirement already satisfied: kiwisolver>=1.0.1 in c:\\users\\brend\\appdata\\roaming\\python\\python38\\site-packages (from matplotlib->fastai) (1.3.2)\n",
      "Requirement already satisfied: fonttools>=4.22.0 in c:\\users\\brend\\appdata\\roaming\\python\\python38\\site-packages (from matplotlib->fastai) (4.28.3)\n",
      "Requirement already satisfied: cycler>=0.10 in c:\\users\\brend\\appdata\\roaming\\python\\python38\\site-packages (from matplotlib->fastai) (0.11.0)\n",
      "Requirement already satisfied: python-dateutil>=2.7 in c:\\users\\brend\\appdata\\roaming\\python\\python38\\site-packages (from matplotlib->fastai) (2.8.2)\n",
      "Requirement already satisfied: six>=1.5 in c:\\users\\brend\\appdata\\roaming\\python\\python38\\site-packages (from python-dateutil>=2.7->matplotlib->fastai) (1.16.0)\n",
      "Requirement already satisfied: tomli>=1.0.0 in c:\\users\\brend\\appdata\\roaming\\python\\python38\\site-packages (from setuptools-scm>=4->matplotlib->fastai) (1.2.2)\n",
      "Requirement already satisfied: pytz>=2017.3 in c:\\users\\brend\\anaconda3\\lib\\site-packages (from pandas->fastai) (2021.1)\n",
      "Requirement already satisfied: joblib>=0.11 in c:\\users\\brend\\anaconda3\\lib\\site-packages (from scikit-learn->fastai) (1.0.1)\n",
      "Requirement already satisfied: threadpoolctl>=2.0.0 in c:\\users\\brend\\anaconda3\\lib\\site-packages (from scikit-learn->fastai) (2.1.0)\n",
      "Installing collected packages: torch, fastprogress, fastcore, torchvision, fastdownload, fastai\n",
      "Successfully installed fastai-2.5.5 fastcore-1.4.0 fastdownload-0.0.5 fastprogress-1.0.2 torch-1.10.2 torchvision-0.11.3\n"
     ]
    }
   ],
   "source": [
    "pip install fastai"
   ]
  },
  {
   "cell_type": "markdown",
   "id": "176d66ef",
   "metadata": {},
   "source": [
    "## Realización del modelo"
   ]
  },
  {
   "cell_type": "code",
   "execution_count": 6,
   "id": "0d8067ac",
   "metadata": {},
   "outputs": [
    {
     "data": {
      "text/html": [
       "<div>\n",
       "<style scoped>\n",
       "    .dataframe tbody tr th:only-of-type {\n",
       "        vertical-align: middle;\n",
       "    }\n",
       "\n",
       "    .dataframe tbody tr th {\n",
       "        vertical-align: top;\n",
       "    }\n",
       "\n",
       "    .dataframe thead th {\n",
       "        text-align: right;\n",
       "    }\n",
       "</style>\n",
       "<table border=\"1\" class=\"dataframe\">\n",
       "  <thead>\n",
       "    <tr style=\"text-align: right;\">\n",
       "      <th></th>\n",
       "      <th>problems_described</th>\n",
       "      <th>medical_abstracts</th>\n",
       "      <th>words</th>\n",
       "    </tr>\n",
       "  </thead>\n",
       "  <tbody>\n",
       "    <tr>\n",
       "      <th>0</th>\n",
       "      <td>1</td>\n",
       "      <td>Ovarian myxoma. A study of two cases with long...</td>\n",
       "      <td>ov myxom study two cas longterm followup two c...</td>\n",
       "    </tr>\n",
       "    <tr>\n",
       "      <th>1</th>\n",
       "      <td>1</td>\n",
       "      <td>Intraperitoneal yttrium-90-labeled monoclonal ...</td>\n",
       "      <td>intraperiton yttrium90labeled monoclon antibod...</td>\n",
       "    </tr>\n",
       "    <tr>\n",
       "      <th>2</th>\n",
       "      <td>1</td>\n",
       "      <td>Chemical carcinogenesis: too many rodent carci...</td>\n",
       "      <td>chem carcinogenes many rod carcinog admin chem...</td>\n",
       "    </tr>\n",
       "    <tr>\n",
       "      <th>3</th>\n",
       "      <td>1</td>\n",
       "      <td>Comparison of FRTL-5 cell growth in vitro with...</td>\n",
       "      <td>comparison frtl5 cel grow vitro xenotranspl ce...</td>\n",
       "    </tr>\n",
       "    <tr>\n",
       "      <th>4</th>\n",
       "      <td>1</td>\n",
       "      <td>Invasive lobular carcinoma: mammographic findi...</td>\n",
       "      <td>invas lobul carcinom mammograph find 10year ex...</td>\n",
       "    </tr>\n",
       "    <tr>\n",
       "      <th>...</th>\n",
       "      <td>...</td>\n",
       "      <td>...</td>\n",
       "      <td>...</td>\n",
       "    </tr>\n",
       "    <tr>\n",
       "      <th>5269</th>\n",
       "      <td>5</td>\n",
       "      <td>Stress and sudden death. The case of the long ...</td>\n",
       "      <td>stress sud dea cas long qt syndrom idiopath lo...</td>\n",
       "    </tr>\n",
       "    <tr>\n",
       "      <th>5270</th>\n",
       "      <td>5</td>\n",
       "      <td>Acute deterioration of renal function associat...</td>\n",
       "      <td>acut detery ren funct assocy ent hyperoxalur e...</td>\n",
       "    </tr>\n",
       "    <tr>\n",
       "      <th>5271</th>\n",
       "      <td>5</td>\n",
       "      <td>Catheterization of coronary artery bypass graf...</td>\n",
       "      <td>cathet coron artery bypass graft descend aort ...</td>\n",
       "    </tr>\n",
       "    <tr>\n",
       "      <th>5272</th>\n",
       "      <td>5</td>\n",
       "      <td>The electrocardiogram in chronic obstructive p...</td>\n",
       "      <td>electrocardiogram chronic obstruct pulmon dise...</td>\n",
       "    </tr>\n",
       "    <tr>\n",
       "      <th>5273</th>\n",
       "      <td>5</td>\n",
       "      <td>Reactivity of eccentric and concentric coronar...</td>\n",
       "      <td>react ecc cont coron stenos chronic stabl angi...</td>\n",
       "    </tr>\n",
       "  </tbody>\n",
       "</table>\n",
       "<p>5274 rows × 3 columns</p>\n",
       "</div>"
      ],
      "text/plain": [
       "      problems_described                                  medical_abstracts  \\\n",
       "0                      1  Ovarian myxoma. A study of two cases with long...   \n",
       "1                      1  Intraperitoneal yttrium-90-labeled monoclonal ...   \n",
       "2                      1  Chemical carcinogenesis: too many rodent carci...   \n",
       "3                      1  Comparison of FRTL-5 cell growth in vitro with...   \n",
       "4                      1  Invasive lobular carcinoma: mammographic findi...   \n",
       "...                  ...                                                ...   \n",
       "5269                   5  Stress and sudden death. The case of the long ...   \n",
       "5270                   5  Acute deterioration of renal function associat...   \n",
       "5271                   5  Catheterization of coronary artery bypass graf...   \n",
       "5272                   5  The electrocardiogram in chronic obstructive p...   \n",
       "5273                   5  Reactivity of eccentric and concentric coronar...   \n",
       "\n",
       "                                                  words  \n",
       "0     ov myxom study two cas longterm followup two c...  \n",
       "1     intraperiton yttrium90labeled monoclon antibod...  \n",
       "2     chem carcinogenes many rod carcinog admin chem...  \n",
       "3     comparison frtl5 cel grow vitro xenotranspl ce...  \n",
       "4     invas lobul carcinom mammograph find 10year ex...  \n",
       "...                                                 ...  \n",
       "5269  stress sud dea cas long qt syndrom idiopath lo...  \n",
       "5270  acut detery ren funct assocy ent hyperoxalur e...  \n",
       "5271  cathet coron artery bypass graft descend aort ...  \n",
       "5272  electrocardiogram chronic obstruct pulmon dise...  \n",
       "5273  react ecc cont coron stenos chronic stabl angi...  \n",
       "\n",
       "[5274 rows x 3 columns]"
      ]
     },
     "execution_count": 6,
     "metadata": {},
     "output_type": "execute_result"
    }
   ],
   "source": [
    "# Cargamos el dataset\n",
    "datos=pd.read_csv('train_Data.csv', sep=',', encoding = 'utf-8')\n",
    "datos\n",
    "datos.drop([\"Unnamed: 0\"], axis =1)"
   ]
  },
  {
   "cell_type": "code",
   "execution_count": 7,
   "id": "a2167aba",
   "metadata": {},
   "outputs": [
    {
     "ename": "NameError",
     "evalue": "name 'text_classifier_learner' is not defined",
     "output_type": "error",
     "traceback": [
      "\u001b[1;31m---------------------------------\u001b[0m",
      "\u001b[1;31mNameError\u001b[0mTraceback (most recent call last)",
      "\u001b[1;32m<ipython-input-7-cf4b614e1b7a>\u001b[0m in \u001b[0;36m<module>\u001b[1;34m\u001b[0m\n\u001b[0;32m      1\u001b[0m \u001b[0mMODEL_PATH\u001b[0m \u001b[1;33m=\u001b[0m \u001b[1;34m\"/tmp/model/\"\u001b[0m\u001b[1;33m\u001b[0m\u001b[1;33m\u001b[0m\u001b[0m\n\u001b[1;32m----> 2\u001b[1;33m \u001b[0mlearn\u001b[0m \u001b[1;33m=\u001b[0m \u001b[0mtext_classifier_learner\u001b[0m\u001b[1;33m(\u001b[0m\u001b[0mdata_clas\u001b[0m\u001b[1;33m,\u001b[0m\u001b[0mmodel_dir\u001b[0m\u001b[1;33m=\u001b[0m\u001b[0mMODEL_PATH\u001b[0m\u001b[1;33m,\u001b[0m\u001b[0march\u001b[0m\u001b[1;33m=\u001b[0m\u001b[0mAWD_LSTM\u001b[0m\u001b[1;33m)\u001b[0m\u001b[1;33m\u001b[0m\u001b[1;33m\u001b[0m\u001b[0m\n\u001b[0m\u001b[0;32m      3\u001b[0m \u001b[0mlearn\u001b[0m\u001b[1;33m.\u001b[0m\u001b[0mfit_one_cycle\u001b[0m\u001b[1;33m(\u001b[0m\u001b[1;36m5\u001b[0m\u001b[1;33m)\u001b[0m\u001b[1;33m\u001b[0m\u001b[1;33m\u001b[0m\u001b[0m\n",
      "\u001b[1;31mNameError\u001b[0m: name 'text_classifier_learner' is not defined"
     ]
    }
   ],
   "source": [
    "MODEL_PATH = \"/tmp/model/\"\n",
    "learn = text_classifier_learner(data_clas,model_dir=MODEL_PATH,arch=AWD_LSTM)\n",
    "learn.fit_one_cycle(5)"
   ]
  },
  {
   "cell_type": "code",
   "execution_count": 8,
   "id": "5020cfbd",
   "metadata": {},
   "outputs": [
    {
     "ename": "NameError",
     "evalue": "name 'learn' is not defined",
     "output_type": "error",
     "traceback": [
      "\u001b[1;31m---------------------------------\u001b[0m",
      "\u001b[1;31mNameError\u001b[0mTraceback (most recent call last)",
      "\u001b[1;32m<ipython-input-8-59d8ceac4335>\u001b[0m in \u001b[0;36m<module>\u001b[1;34m\u001b[0m\n\u001b[1;32m----> 1\u001b[1;33m \u001b[0mlearn\u001b[0m\u001b[1;33m.\u001b[0m\u001b[0munfreeze\u001b[0m\u001b[1;33m(\u001b[0m\u001b[1;33m)\u001b[0m\u001b[1;33m\u001b[0m\u001b[1;33m\u001b[0m\u001b[0m\n\u001b[0m\u001b[0;32m      2\u001b[0m \u001b[0mlearn\u001b[0m\u001b[1;33m.\u001b[0m\u001b[0mfit_one_cycle\u001b[0m\u001b[1;33m(\u001b[0m\u001b[1;36m5\u001b[0m\u001b[1;33m)\u001b[0m\u001b[1;33m\u001b[0m\u001b[1;33m\u001b[0m\u001b[0m\n",
      "\u001b[1;31mNameError\u001b[0m: name 'learn' is not defined"
     ]
    }
   ],
   "source": [
    "learn.unfreeze()\n",
    "learn.fit_one_cycle(5)"
   ]
  },
  {
   "cell_type": "markdown",
   "id": "7608b3b9",
   "metadata": {},
   "source": [
    "## Guardar el modelo"
   ]
  },
  {
   "cell_type": "code",
   "execution_count": null,
   "id": "855f274e",
   "metadata": {},
   "outputs": [],
   "source": []
  },
  {
   "cell_type": "code",
   "execution_count": null,
   "id": "326a79f9",
   "metadata": {},
   "outputs": [],
   "source": []
  }
 ],
 "metadata": {
  "kernelspec": {
   "display_name": "Python 3",
   "language": "python",
   "name": "python3"
  },
  "language_info": {
   "codemirror_mode": {
    "name": "ipython",
    "version": 3
   },
   "file_extension": ".py",
   "mimetype": "text/x-python",
   "name": "python",
   "nbconvert_exporter": "python",
   "pygments_lexer": "ipython3",
   "version": "3.8.8"
  },
  "toc": {
   "base_numbering": 1,
   "nav_menu": {},
   "number_sections": true,
   "sideBar": true,
   "skip_h1_title": false,
   "title_cell": "Table of Contents",
   "title_sidebar": "Contents",
   "toc_cell": false,
   "toc_position": {},
   "toc_section_display": true,
   "toc_window_display": false
  },
  "varInspector": {
   "cols": {
    "lenName": 16,
    "lenType": 16,
    "lenVar": 40
   },
   "kernels_config": {
    "python": {
     "delete_cmd_postfix": "",
     "delete_cmd_prefix": "del ",
     "library": "var_list.py",
     "varRefreshCmd": "print(var_dic_list())"
    },
    "r": {
     "delete_cmd_postfix": ") ",
     "delete_cmd_prefix": "rm(",
     "library": "var_list.r",
     "varRefreshCmd": "cat(var_dic_list()) "
    }
   },
   "types_to_exclude": [
    "module",
    "function",
    "builtin_function_or_method",
    "instance",
    "_Feature"
   ],
   "window_display": false
  }
 },
 "nbformat": 4,
 "nbformat_minor": 5
}
