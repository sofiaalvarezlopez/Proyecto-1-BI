{
 "cells": [
  {
   "cell_type": "markdown",
   "id": "8fa70b6a",
   "metadata": {},
   "source": [
    "# Validación de los modelos"
   ]
  },
  {
   "cell_type": "code",
   "execution_count": 8,
   "id": "76048f5e",
   "metadata": {},
   "outputs": [],
   "source": [
    "import numpy as np\n",
    "import pandas as pd\n",
    "import joblib\n",
    "from sklearn.metrics import accuracy_score, confusion_matrix, classification_report, plot_confusion_matrix\n",
    "\n",
    "data_test = pd.read_csv('test_Data.csv', sep=',', encoding = 'utf-8')\n",
    "data_test.drop([\"Unnamed: 0\"], axis = 1)\n",
    "X_test = data_test[\"medical_abstracts\"]\n",
    "Y_test = data_testparam_grid = {\"multi_nv__alpha\": np.arange(0, 1, 0.05), \"multi_nv__fit_prior\": (True, False), \"tf_id_vec__ngram_range\":[(1,1),(1,2),(1,3)]}['problems_described']"
   ]
  },
  {
   "cell_type": "markdown",
   "id": "339f3185",
   "metadata": {},
   "source": [
    "## Validación Multinomial Naive Bayes"
   ]
  },
  {
   "cell_type": "code",
   "execution_count": 14,
   "id": "6b5cfe93",
   "metadata": {},
   "outputs": [],
   "source": [
    "file_name_modelo_mnb = \"multinomial_nb.joblib\"\n",
    "\n",
    "modelo_mnb = joblib.load(file_name_modelo_mnb)\n",
    "\n",
    "Y_predicted_problems_mnb = modelo_mnb.predict(X_test)"
   ]
  },
  {
   "cell_type": "code",
   "execution_count": 12,
   "id": "921c788c",
   "metadata": {},
   "outputs": [
    {
     "data": {
      "text/plain": [
       "0.5704166666666667"
      ]
     },
     "execution_count": 12,
     "metadata": {},
     "output_type": "execute_result"
    }
   ],
   "source": [
    "modelo_mnb.score(X_test, Y_test)"
   ]
  },
  {
   "cell_type": "code",
   "execution_count": 15,
   "id": "b80e5885",
   "metadata": {
    "scrolled": true
   },
   "outputs": [
    {
     "name": "stdout",
     "output_type": "stream",
     "text": [
      "              precision    recall  f1-score   support\n",
      "\n",
      "           1       0.69      0.77      0.73       526\n",
      "           2       0.47      0.77      0.58       248\n",
      "           3       0.44      0.76      0.56       320\n",
      "           4       0.62      0.86      0.72       507\n",
      "           5       0.62      0.12      0.20       799\n",
      "\n",
      "    accuracy                           0.57      2400\n",
      "   macro avg       0.57      0.66      0.56      2400\n",
      "weighted avg       0.59      0.57      0.51      2400\n",
      "\n"
     ]
    }
   ],
   "source": [
    "print(classification_report(Y_test, Y_predicted_problems_mnb))"
   ]
  },
  {
   "cell_type": "code",
   "execution_count": 16,
   "id": "b3c52131",
   "metadata": {
    "scrolled": true
   },
   "outputs": [
    {
     "name": "stderr",
     "output_type": "stream",
     "text": [
      "C:\\Users\\Alvaro\\anaconda3\\lib\\site-packages\\sklearn\\utils\\deprecation.py:87: FutureWarning: Function plot_confusion_matrix is deprecated; Function `plot_confusion_matrix` is deprecated in 1.0 and will be removed in 1.2. Use one of the class methods: ConfusionMatrixDisplay.from_predictions or ConfusionMatrixDisplay.from_estimator.\n",
      "  warnings.warn(msg, category=FutureWarning)\n"
     ]
    },
    {
     "data": {
      "text/plain": [
       "<sklearn.metrics._plot.confusion_matrix.ConfusionMatrixDisplay at 0x1c12cd6b040>"
      ]
     },
     "execution_count": 16,
     "metadata": {},
     "output_type": "execute_result"
    },
    {
     "data": {
      "image/png": "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\n",
      "text/plain": [
       "<Figure size 432x288 with 2 Axes>"
      ]
     },
     "metadata": {
      "needs_background": "light"
     },
     "output_type": "display_data"
    }
   ],
   "source": [
    "plot_confusion_matrix(modelo_mnb, X_test, Y_test)"
   ]
  },
  {
   "cell_type": "markdown",
   "id": "0bc5c8ee",
   "metadata": {},
   "source": [
    "## Validación OneVSRest"
   ]
  },
  {
   "cell_type": "code",
   "execution_count": 14,
   "id": "45155372",
   "metadata": {},
   "outputs": [],
   "source": [
    "file_name_modelo_ovr = \"OneVsRest.joblib\"\n",
    "\n",
    "modelo_ovr = joblib.load(file_name_modelo_ovr)\n",
    "\n",
    "Y_predicted_problems_ovr = modelo_mnb.predict(X_test)"
   ]
  },
  {
   "cell_type": "code",
   "execution_count": 12,
   "id": "aa12b165",
   "metadata": {},
   "outputs": [
    {
     "data": {
      "text/plain": [
       "0.5704166666666667"
      ]
     },
     "execution_count": 12,
     "metadata": {},
     "output_type": "execute_result"
    }
   ],
   "source": [
    "modelo_ovr.score(X_test, Y_test)"
   ]
  },
  {
   "cell_type": "code",
   "execution_count": 15,
   "id": "157fdec9",
   "metadata": {
    "scrolled": true
   },
   "outputs": [
    {
     "name": "stdout",
     "output_type": "stream",
     "text": [
      "              precision    recall  f1-score   support\n",
      "\n",
      "           1       0.69      0.77      0.73       526\n",
      "           2       0.47      0.77      0.58       248\n",
      "           3       0.44      0.76      0.56       320\n",
      "           4       0.62      0.86      0.72       507\n",
      "           5       0.62      0.12      0.20       799\n",
      "\n",
      "    accuracy                           0.57      2400\n",
      "   macro avg       0.57      0.66      0.56      2400\n",
      "weighted avg       0.59      0.57      0.51      2400\n",
      "\n"
     ]
    }
   ],
   "source": [
    "print(classification_report(Y_test, Y_predicted_problems_ovr))"
   ]
  },
  {
   "cell_type": "code",
   "execution_count": 16,
   "id": "fa39e47b",
   "metadata": {
    "scrolled": false
   },
   "outputs": [
    {
     "name": "stderr",
     "output_type": "stream",
     "text": [
      "C:\\Users\\Alvaro\\anaconda3\\lib\\site-packages\\sklearn\\utils\\deprecation.py:87: FutureWarning: Function plot_confusion_matrix is deprecated; Function `plot_confusion_matrix` is deprecated in 1.0 and will be removed in 1.2. Use one of the class methods: ConfusionMatrixDisplay.from_predictions or ConfusionMatrixDisplay.from_estimator.\n",
      "  warnings.warn(msg, category=FutureWarning)\n"
     ]
    },
    {
     "data": {
      "text/plain": [
       "<sklearn.metrics._plot.confusion_matrix.ConfusionMatrixDisplay at 0x1c12cd6b040>"
      ]
     },
     "execution_count": 16,
     "metadata": {},
     "output_type": "execute_result"
    },
    {
     "data": {
      "image/png": "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\n",
      "text/plain": [
       "<Figure size 432x288 with 2 Axes>"
      ]
     },
     "metadata": {
      "needs_background": "light"
     },
     "output_type": "display_data"
    }
   ],
   "source": [
    "plot_confusion_matrix(modelo_ovr, X_test, Y_test)"
   ]
  },
  {
   "cell_type": "code",
   "execution_count": null,
   "id": "8bc566d4",
   "metadata": {},
   "outputs": [],
   "source": []
  }
 ],
 "metadata": {
  "kernelspec": {
<<<<<<< HEAD
   "display_name": "Python 3",
=======
   "display_name": "Python 3 (ipykernel)",
>>>>>>> 7be618db8679618d820cb70b3b93b7a7104c3372
   "language": "python",
   "name": "python3"
  },
  "language_info": {
   "codemirror_mode": {
    "name": "ipython",
    "version": 3
   },
   "file_extension": ".py",
   "mimetype": "text/x-python",
   "name": "python",
   "nbconvert_exporter": "python",
   "pygments_lexer": "ipython3",
<<<<<<< HEAD
   "version": "3.8.8"
  },
  "toc": {
   "base_numbering": 1,
   "nav_menu": {},
   "number_sections": true,
   "sideBar": true,
   "skip_h1_title": false,
   "title_cell": "Table of Contents",
   "title_sidebar": "Contents",
   "toc_cell": false,
   "toc_position": {},
   "toc_section_display": true,
   "toc_window_display": false
  },
  "varInspector": {
   "cols": {
    "lenName": 16,
    "lenType": 16,
    "lenVar": 40
   },
   "kernels_config": {
    "python": {
     "delete_cmd_postfix": "",
     "delete_cmd_prefix": "del ",
     "library": "var_list.py",
     "varRefreshCmd": "print(var_dic_list())"
    },
    "r": {
     "delete_cmd_postfix": ") ",
     "delete_cmd_prefix": "rm(",
     "library": "var_list.r",
     "varRefreshCmd": "cat(var_dic_list()) "
    }
   },
   "types_to_exclude": [
    "module",
    "function",
    "builtin_function_or_method",
    "instance",
    "_Feature"
   ],
   "window_display": false
=======
   "version": "3.9.7"
>>>>>>> 7be618db8679618d820cb70b3b93b7a7104c3372
  }
 },
 "nbformat": 4,
 "nbformat_minor": 5
}
