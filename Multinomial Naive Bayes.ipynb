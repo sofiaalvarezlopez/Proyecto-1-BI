{
 "cells": [
  {
   "cell_type": "markdown",
   "id": "230372b7",
   "metadata": {},
   "source": [
    "# Algoritmo Multinomial Naive Bayes"
   ]
  },
  {
   "cell_type": "code",
   "execution_count": 1,
   "id": "aa112211",
   "metadata": {},
   "outputs": [],
   "source": [
    "import pandas as pd\n",
    "import numpy as np\n",
    "import matplotlib.pyplot as plt\n",
    "import seaborn as sns\n",
    "from sklearn.naive_bayes import MultinomialNB\n",
    "from sklearn.feature_extraction.text import TfidfVectorizer\n",
    "from sklearn.model_selection import train_test_split\n",
    "from sklearn.model_selection import GridSearchCV\n",
    "from imblearn.pipeline import Pipeline\n",
    "import joblib"
   ]
  },
  {
   "cell_type": "markdown",
   "id": "982403d4",
   "metadata": {},
   "source": [
    "## Creación del modelo"
   ]
  },
  {
   "cell_type": "markdown",
   "id": "017896ee",
   "metadata": {},
   "source": [
    "Cargar los datos"
   ]
  },
  {
   "cell_type": "code",
   "execution_count": 2,
   "id": "92ff9840",
   "metadata": {},
   "outputs": [
    {
     "data": {
      "text/html": [
       "<div>\n",
       "<style scoped>\n",
       "    .dataframe tbody tr th:only-of-type {\n",
       "        vertical-align: middle;\n",
       "    }\n",
       "\n",
       "    .dataframe tbody tr th {\n",
       "        vertical-align: top;\n",
       "    }\n",
       "\n",
       "    .dataframe thead th {\n",
       "        text-align: right;\n",
       "    }\n",
       "</style>\n",
       "<table border=\"1\" class=\"dataframe\">\n",
       "  <thead>\n",
       "    <tr style=\"text-align: right;\">\n",
       "      <th></th>\n",
       "      <th>problems_described</th>\n",
       "      <th>words</th>\n",
       "    </tr>\n",
       "  </thead>\n",
       "  <tbody>\n",
       "    <tr>\n",
       "      <th>0</th>\n",
       "      <td>1</td>\n",
       "      <td>ov myxom cas longterm followup cas socalled ov...</td>\n",
       "    </tr>\n",
       "    <tr>\n",
       "      <th>1</th>\n",
       "      <td>1</td>\n",
       "      <td>intraperiton yttrium90labeled monoclon antibod...</td>\n",
       "    </tr>\n",
       "    <tr>\n",
       "      <th>2</th>\n",
       "      <td>1</td>\n",
       "      <td>chem carcinogenes many rod carcinog admin chem...</td>\n",
       "    </tr>\n",
       "    <tr>\n",
       "      <th>3</th>\n",
       "      <td>1</td>\n",
       "      <td>comparison frtl5 cel grow vitro xenotranspl ce...</td>\n",
       "    </tr>\n",
       "    <tr>\n",
       "      <th>4</th>\n",
       "      <td>1</td>\n",
       "      <td>invas lobul carcinom mammograph find 10year ex...</td>\n",
       "    </tr>\n",
       "    <tr>\n",
       "      <th>...</th>\n",
       "      <td>...</td>\n",
       "      <td>...</td>\n",
       "    </tr>\n",
       "    <tr>\n",
       "      <th>5269</th>\n",
       "      <td>5</td>\n",
       "      <td>stress sud dea cas long qt syndrom idiopath lo...</td>\n",
       "    </tr>\n",
       "    <tr>\n",
       "      <th>5270</th>\n",
       "      <td>5</td>\n",
       "      <td>acut detery ren funct assocy ent hyperoxalur e...</td>\n",
       "    </tr>\n",
       "    <tr>\n",
       "      <th>5271</th>\n",
       "      <td>5</td>\n",
       "      <td>cathet coron artery bypass graft descend aort ...</td>\n",
       "    </tr>\n",
       "    <tr>\n",
       "      <th>5272</th>\n",
       "      <td>5</td>\n",
       "      <td>electrocardiogram chronic obstruct pulmon dise...</td>\n",
       "    </tr>\n",
       "    <tr>\n",
       "      <th>5273</th>\n",
       "      <td>5</td>\n",
       "      <td>react ecc cont coron stenos chronic stabl angi...</td>\n",
       "    </tr>\n",
       "  </tbody>\n",
       "</table>\n",
       "<p>5274 rows × 2 columns</p>\n",
       "</div>"
      ],
      "text/plain": [
       "      problems_described                                              words\n",
       "0                      1  ov myxom cas longterm followup cas socalled ov...\n",
       "1                      1  intraperiton yttrium90labeled monoclon antibod...\n",
       "2                      1  chem carcinogenes many rod carcinog admin chem...\n",
       "3                      1  comparison frtl5 cel grow vitro xenotranspl ce...\n",
       "4                      1  invas lobul carcinom mammograph find 10year ex...\n",
       "...                  ...                                                ...\n",
       "5269                   5  stress sud dea cas long qt syndrom idiopath lo...\n",
       "5270                   5  acut detery ren funct assocy ent hyperoxalur e...\n",
       "5271                   5  cathet coron artery bypass graft descend aort ...\n",
       "5272                   5  electrocardiogram chronic obstruct pulmon dise...\n",
       "5273                   5  react ecc cont coron stenos chronic stabl angi...\n",
       "\n",
       "[5274 rows x 2 columns]"
      ]
     },
     "execution_count": 2,
     "metadata": {},
     "output_type": "execute_result"
    }
   ],
   "source": [
    "datos = pd.read_csv('train_Data.csv', sep=',', encoding = 'utf-8')\n",
    "datos.drop([\"Unnamed: 0\", \"medical_abstracts\"], axis = 1)"
   ]
  },
  {
   "cell_type": "markdown",
   "id": "a839cd8a",
   "metadata": {},
   "source": [
    "Separamos los datos entre palabras y categoría"
   ]
  },
  {
   "cell_type": "code",
   "execution_count": 3,
   "id": "5fd30dbb",
   "metadata": {},
   "outputs": [],
   "source": [
    "X_train = datos[\"words\"]\n",
    "Y_train = datos[\"problems_described\"]"
   ]
  },
  {
   "cell_type": "markdown",
   "id": "25bc1e41",
   "metadata": {},
   "source": [
    "Creamos el modelo"
   ]
  },
  {
   "cell_type": "code",
   "execution_count": 4,
   "id": "adafd273",
   "metadata": {},
   "outputs": [
    {
     "data": {
      "text/plain": [
       "Pipeline(steps=[('tf_id_vec', TfidfVectorizer()),\n",
       "                ('multi_nv', MultinomialNB())])"
      ]
     },
     "execution_count": 4,
     "metadata": {},
     "output_type": "execute_result"
    }
   ],
   "source": [
    "modelo = Pipeline(steps = [\n",
    "    (\"tf_id_vec\",TfidfVectorizer()),\n",
    "    (\"multi_nv\",MultinomialNB())\n",
    "])\n",
    "modelo"
   ]
  },
  {
   "cell_type": "markdown",
   "id": "18762f10",
   "metadata": {},
   "source": [
    "Creamos el rango para buscar los mejores hiperparámetros de este algoritmo"
   ]
  },
  {
   "cell_type": "code",
   "execution_count": 5,
   "id": "38f6e440",
   "metadata": {},
   "outputs": [],
   "source": [
    "param_grid = {\"multi_nv__alpha\": np.arange(0, 1, 0.05), \"multi_nv__fit_prior\": (True, False), \"tf_id_vec__ngram_range\":[(1,1),(1,2),(1,3)]}"
   ]
  },
  {
   "cell_type": "code",
   "execution_count": 6,
   "id": "2106eb8d",
   "metadata": {},
   "outputs": [],
   "source": [
    "grid_selector = GridSearchCV(estimator = modelo, param_grid = param_grid, cv=10, n_jobs=-1)"
   ]
  },
  {
   "cell_type": "code",
   "execution_count": null,
   "id": "d09d36b7",
   "metadata": {},
   "outputs": [],
   "source": [
    "grid_selector = grid_selector.fit(X_train,Y_train)"
   ]
  },
  {
   "cell_type": "code",
   "execution_count": null,
   "id": "a5051565",
   "metadata": {
    "scrolled": true
   },
   "outputs": [],
   "source": [
    "final_model = grid_selector.best_estimator_\n",
    "final_model"
   ]
  },
  {
   "cell_type": "code",
   "execution_count": null,
   "id": "fc26a344",
   "metadata": {},
   "outputs": [],
   "source": [
    "print(final_model.predict([\"A new technique of surgical treatment of chronic duodenal ulcer without laparotomy by videocoelioscopy. We performed truncal posterior right vagotomy with lesser curve anterior gastric myotomy by videocoelioscopy on 10 patients (5 men and 5 women, ranging in age from 19 and 54 years, with a mean age of 32 years). All had a long history of chronic duodenal ulcer with a mean duration of symptoms of 3.8 years. The mean length of the operation was 60 minutes (range: 55 to 110 minutes). There was no morbidity, and all patients were discharged after 5 days. The acid secretion tests under basal conditions and under insulin stimulation preoperatively and 1 month postoperatively showed a mean decrease in the basal output of 79.3% and a mean decrease of 83.04% in the maximal output. The fibroscopic control at the second postoperative month showed a complete healing of the ulcer in nine patients and a residual ulcer scar in one. No patients had any abdominal complaints. Right truncal vagotomy and anterior lesser curve seromyotomy by videocoelioscopy is an efficient and elegant method of treating chronic duodenal ulcer, but it needs thorough experimental practice\"]))"
   ]
  },
  {
   "cell_type": "markdown",
   "id": "b38570db",
   "metadata": {},
   "source": [
    "## Guardar Modelo"
   ]
  },
  {
   "cell_type": "code",
   "execution_count": null,
   "id": "1c032432",
   "metadata": {},
   "outputs": [],
   "source": [
    "file = open(\"multinomial_nb.joblib\",\"wb\")\n",
    "joblib.dump(final_model,file)\n",
    "file.close()"
   ]
  }
 ],
 "metadata": {
  "kernelspec": {
   "display_name": "Python 3 (ipykernel)",
   "language": "python",
   "name": "python3"
  },
  "language_info": {
   "codemirror_mode": {
    "name": "ipython",
    "version": 3
   },
   "file_extension": ".py",
   "mimetype": "text/x-python",
   "name": "python",
   "nbconvert_exporter": "python",
   "pygments_lexer": "ipython3",
   "version": "3.9.7"
  }
 },
 "nbformat": 4,
 "nbformat_minor": 5
}
