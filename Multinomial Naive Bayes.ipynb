{
 "cells": [
  {
   "cell_type": "markdown",
   "id": "230372b7",
   "metadata": {},
   "source": [
    "# Algoritmo Multinomial Naive Bayes"
   ]
  },
  {
   "cell_type": "code",
   "execution_count": 1,
   "id": "aa112211",
   "metadata": {},
   "outputs": [],
   "source": [
    "import pandas as pd\n",
    "import numpy as np\n",
    "import matplotlib.pyplot as plt\n",
    "import seaborn as sns\n",
    "from sklearn.naive_bayes import MultinomialNB, ComplementNB\n",
    "from sklearn.feature_extraction.text import TfidfVectorizer, CountVectorizer\n",
    "from sklearn.model_selection import train_test_split\n",
    "from sklearn.model_selection import GridSearchCV\n",
    "from imblearn.pipeline import Pipeline\n",
    "import joblib\n",
    "from sklearn.metrics import precision_score, make_scorer\n",
    "from imblearn.pipeline import Pipeline as imbpipeline\n",
    "from imblearn.under_sampling import EditedNearestNeighbours\n",
    "from sklearn.metrics import classification_report, confusion_matrix, ConfusionMatrixDisplay\n",
    "from imblearn.combine import SMOTEENN\n",
    "from sklearn.decomposition import PCA\n",
    "from sklearn.feature_selection import SelectKBest, chi2"
   ]
  },
  {
   "cell_type": "markdown",
   "id": "982403d4",
   "metadata": {},
   "source": [
    "## Creación del modelo"
   ]
  },
  {
   "cell_type": "markdown",
   "id": "017896ee",
   "metadata": {},
   "source": [
    "Lo primero que hacemos es cargar los datasets que fueron creados en el notebook de preprocesamiento:"
   ]
  },
  {
   "cell_type": "code",
   "execution_count": 2,
   "id": "92ff9840",
   "metadata": {},
   "outputs": [
    {
     "data": {
      "text/html": [
       "<div>\n",
       "<style scoped>\n",
       "    .dataframe tbody tr th:only-of-type {\n",
       "        vertical-align: middle;\n",
       "    }\n",
       "\n",
       "    .dataframe tbody tr th {\n",
       "        vertical-align: top;\n",
       "    }\n",
       "\n",
       "    .dataframe thead th {\n",
       "        text-align: right;\n",
       "    }\n",
       "</style>\n",
       "<table border=\"1\" class=\"dataframe\">\n",
       "  <thead>\n",
       "    <tr style=\"text-align: right;\">\n",
       "      <th></th>\n",
       "      <th>problems_described</th>\n",
       "      <th>tokenized_abstracts</th>\n",
       "      <th>non_tokenized_abstracts</th>\n",
       "      <th>non_tokenized_entities</th>\n",
       "      <th>tokenized_entities</th>\n",
       "    </tr>\n",
       "  </thead>\n",
       "  <tbody>\n",
       "    <tr>\n",
       "      <th>1974</th>\n",
       "      <td>3</td>\n",
       "      <td>['attenu', 'neuropatholog', 'nilvadipin', 'mid...</td>\n",
       "      <td>attenu neuropatholog nilvadipin middl cerebr a...</td>\n",
       "      <td>nilvadipin cerebr arteri rat nilvadipin calciu...</td>\n",
       "      <td>['nilvadipin', 'cerebr', 'arteri', 'rat', 'nil...</td>\n",
       "    </tr>\n",
       "    <tr>\n",
       "      <th>865</th>\n",
       "      <td>1</td>\n",
       "      <td>['pseudocyst', 'auricl', 'report', 'world', 'l...</td>\n",
       "      <td>pseudocyst auricl report world literatur revie...</td>\n",
       "      <td>auricl auricl auricl ear men ear triangular fo...</td>\n",
       "      <td>['auricl', 'auricl', 'auricl', 'ear', 'men', '...</td>\n",
       "    </tr>\n",
       "    <tr>\n",
       "      <th>179</th>\n",
       "      <td>5</td>\n",
       "      <td>['obstruct', 'mechan', 'heart', 'valv', 'prost...</td>\n",
       "      <td>obstruct mechan heart valv prosthes clinic asp...</td>\n",
       "      <td>heart valv valv thrombus pannus mitral aortic ...</td>\n",
       "      <td>['heart', 'valv', 'valv', 'thrombus', 'pannus'...</td>\n",
       "    </tr>\n",
       "    <tr>\n",
       "      <th>2306</th>\n",
       "      <td>4</td>\n",
       "      <td>['transesophag', 'echocardiographi', 'diagnosi...</td>\n",
       "      <td>transesophag echocardiographi diagnosi left at...</td>\n",
       "      <td>left atrial man atrial left atrial leave atria...</td>\n",
       "      <td>['left', 'atrial', 'man', 'atrial', 'left', 'a...</td>\n",
       "    </tr>\n",
       "    <tr>\n",
       "      <th>1770</th>\n",
       "      <td>1</td>\n",
       "      <td>['myeloma', 'head', 'pancrea', 'report', 'man'...</td>\n",
       "      <td>myeloma head pancrea report man diagnos multip...</td>\n",
       "      <td>myeloma head pancrea myeloma head pancrea myel...</td>\n",
       "      <td>['myeloma', 'head', 'pancrea', 'myeloma', 'hea...</td>\n",
       "    </tr>\n",
       "  </tbody>\n",
       "</table>\n",
       "</div>"
      ],
      "text/plain": [
       "      problems_described                                tokenized_abstracts  \\\n",
       "1974                   3  ['attenu', 'neuropatholog', 'nilvadipin', 'mid...   \n",
       "865                    1  ['pseudocyst', 'auricl', 'report', 'world', 'l...   \n",
       "179                    5  ['obstruct', 'mechan', 'heart', 'valv', 'prost...   \n",
       "2306                   4  ['transesophag', 'echocardiographi', 'diagnosi...   \n",
       "1770                   1  ['myeloma', 'head', 'pancrea', 'report', 'man'...   \n",
       "\n",
       "                                non_tokenized_abstracts  \\\n",
       "1974  attenu neuropatholog nilvadipin middl cerebr a...   \n",
       "865   pseudocyst auricl report world literatur revie...   \n",
       "179   obstruct mechan heart valv prosthes clinic asp...   \n",
       "2306  transesophag echocardiographi diagnosi left at...   \n",
       "1770  myeloma head pancrea report man diagnos multip...   \n",
       "\n",
       "                                 non_tokenized_entities  \\\n",
       "1974  nilvadipin cerebr arteri rat nilvadipin calciu...   \n",
       "865   auricl auricl auricl ear men ear triangular fo...   \n",
       "179   heart valv valv thrombus pannus mitral aortic ...   \n",
       "2306  left atrial man atrial left atrial leave atria...   \n",
       "1770  myeloma head pancrea myeloma head pancrea myel...   \n",
       "\n",
       "                                     tokenized_entities  \n",
       "1974  ['nilvadipin', 'cerebr', 'arteri', 'rat', 'nil...  \n",
       "865   ['auricl', 'auricl', 'auricl', 'ear', 'men', '...  \n",
       "179   ['heart', 'valv', 'valv', 'thrombus', 'pannus'...  \n",
       "2306  ['left', 'atrial', 'man', 'atrial', 'left', 'a...  \n",
       "1770  ['myeloma', 'head', 'pancrea', 'myeloma', 'hea...  "
      ]
     },
     "execution_count": 2,
     "metadata": {},
     "output_type": "execute_result"
    }
   ],
   "source": [
    "datos_train = pd.read_csv('train_Data.csv')\n",
    "datos_test = pd.read_csv('test_Data.csv')\n",
    "datos_train = datos_train.drop([\"Unnamed: 0\"], axis = 1)\n",
    "datos_test = datos_test.drop([\"Unnamed: 0\"], axis = 1)\n",
    "datos_train.sample(5)\n",
    "datos_test.sample(5)"
   ]
  },
  {
   "cell_type": "markdown",
   "id": "a839cd8a",
   "metadata": {},
   "source": [
    "Separamos los datos entre palabras y categoría"
   ]
  },
  {
   "cell_type": "code",
   "execution_count": 3,
   "id": "5fd30dbb",
   "metadata": {},
   "outputs": [],
   "source": [
    "abstracts = datos_train['tokenized_abstracts']\n",
    "entities = datos_train['tokenized_entities']\n",
    "Y_train = datos_train['problems_described']"
   ]
  },
  {
   "cell_type": "markdown",
   "id": "a50145b6",
   "metadata": {},
   "source": [
    "## Descripción del algoritmo"
   ]
  },
  {
   "cell_type": "markdown",
   "id": "bb6e8a29",
   "metadata": {},
   "source": [
    "Naive Bayes es uno de los modelos probabilistas más simples y más usados en clasificación de texto porque produce resultados tan buenos como otros modelos más sofisticados. Se basa en la aplicación de la Regla de Bayes para predecir la probabilidad condicional de que un  documento pertenezca a una clase P(ci |dj ) a partir de la probabilidad de los documentos dada la clase P(dj |ci) y la probabilidad a priori de la clase en el conjunto de entrenamiento P(ci)"
   ]
  },
  {
   "cell_type": "code",
   "execution_count": 4,
   "id": "838be648",
   "metadata": {},
   "outputs": [],
   "source": [
    "# Definimos la metrica\n",
    "custom_scorer = make_scorer(precision_score, greater_is_better=True,  average='micro')"
   ]
  },
  {
   "cell_type": "markdown",
   "id": "f57183a4",
   "metadata": {},
   "source": [
    "## Continuación del preprocesamiento\n",
    "Ahora, debemos definir la vectorización que se utilizará para los textos. De acuerdo a lo visto en el anterior notebook, para este algoritmo podemos utilizar TF-iDF o un Count-Vectorizer. Así las cosas, usaremos el primero para el modelo que se entrenará con medical abstracts y, el segundo, sobre el modelo que se entrenará sobre las entidades médicas obtenidas. En este último caso usamos Count-Vectorizer porque algunas palabras clave se repiten y podría ser perjudicial si se usa TF-iDF, ya que este algoritmo se basa en frecuencias.\n",
    "\n",
    "Las dos primeras pipelines se aplican sobre los medical abstracts mientras que, las dos siguientes, sobre las entidades médicas.\n",
    "### Pipeline 1: Vectorización con TF-iDF y undersampling."
   ]
  },
  {
   "cell_type": "markdown",
   "id": "3438fc47",
   "metadata": {},
   "source": [
    "Para el proceso de vectorizar las entradas decidimos simplificar las opciones, limitando a que el modelo reciba tokens de palabras individuales (posteriormente algunos modelos podrán explorar 2-gramas o 3-gramas, dependiendo de las posibilidades computacionales). Por lo tanto se escogió TF-iDF para este paso. Las motivaciones detrás de esta elección son variadas. Lo primero es su notable superioridad ante modelos como bag-of-words que no tienen en cuenta la importancia relativa de una palabra dentro del corpus. TF-iDF además se comporta muy bien con las familias de modelos que exploraremos para este problema, como Naïve Bayes, según muestran Cahyani et al. [2].\n",
    "\n",
    "Asimismo, intentamos hacer undersampling de los datos que tenemos, usando técnicas de la librería <code>imblearn</code>. En este caso, usaremos la técnica <code>EditedNearestNeighbors</code>, el cual aplica un algoritmo de KNN (por defecto, 3) y edita el conjunto de datos al remover las muestras que no están lo suficientemente de acuerdo con su vecindario. Para cada muestra de la clase a la que se le aplicará undersampling, se computan los vecinos más cercanos y si el criterio de selección no se cumple, la muestra se elimina. En este caso, el número de vecinos sería un hiperparámetro, pero consideramos más importante ajustar los del algoritmo per se que utilizaremos."
   ]
  },
  {
   "cell_type": "code",
   "execution_count": 5,
   "id": "43a8ef69",
   "metadata": {
    "scrolled": false
   },
   "outputs": [
    {
     "data": {
      "text/plain": [
       "Pipeline(steps=[('tf_idf_vec', TfidfVectorizer()),\n",
       "                ('sampling', EditedNearestNeighbours()),\n",
       "                ('algorithm', MultinomialNB())])"
      ]
     },
     "execution_count": 5,
     "metadata": {},
     "output_type": "execute_result"
    }
   ],
   "source": [
    "tfidf_subsampling_pipe = imbpipeline(steps = [\n",
    "    (\"tf_idf_vec\",TfidfVectorizer()),\n",
    "    (\"sampling\", EditedNearestNeighbours()),\n",
    "    (\"algorithm\", MultinomialNB())\n",
    "])\n",
    "tfidf_subsampling_pipe"
   ]
  },
  {
   "cell_type": "code",
   "execution_count": 6,
   "id": "ef1c6a3f",
   "metadata": {},
   "outputs": [],
   "source": [
    "param_grid = {\"algorithm__alpha\": [0.05, 0.5, 1],\n",
    "              \"algorithm__fit_prior\": (True, False),\n",
    "             \"tf_idf_vec__ngram_range\": [(1,1),(1,2),(1,3)]}"
   ]
  },
  {
   "cell_type": "code",
   "execution_count": 7,
   "id": "2affcbce",
   "metadata": {},
   "outputs": [],
   "source": [
    "tfidf_subsampling_model = GridSearchCV(estimator = tfidf_subsampling_pipe, \n",
    "                             param_grid = param_grid, \n",
    "                             cv=2, verbose=3,\n",
    "                             scoring=custom_scorer)"
   ]
  },
  {
   "cell_type": "code",
   "execution_count": 8,
   "id": "242996ed",
   "metadata": {},
   "outputs": [
    {
     "name": "stdout",
     "output_type": "stream",
     "text": [
      "Fitting 2 folds for each of 18 candidates, totalling 36 fits\n",
      "[CV 1/2] END algorithm__alpha=0.05, algorithm__fit_prior=True, tf_idf_vec__ngram_range=(1, 1);, score=0.400 total time=   3.7s\n",
      "[CV 2/2] END algorithm__alpha=0.05, algorithm__fit_prior=True, tf_idf_vec__ngram_range=(1, 1);, score=0.414 total time=   3.4s\n",
      "[CV 1/2] END algorithm__alpha=0.05, algorithm__fit_prior=True, tf_idf_vec__ngram_range=(1, 2);, score=0.297 total time=   9.0s\n",
      "[CV 2/2] END algorithm__alpha=0.05, algorithm__fit_prior=True, tf_idf_vec__ngram_range=(1, 2);, score=0.345 total time=   9.5s\n",
      "[CV 1/2] END algorithm__alpha=0.05, algorithm__fit_prior=True, tf_idf_vec__ngram_range=(1, 3);, score=0.298 total time=  19.1s\n",
      "[CV 2/2] END algorithm__alpha=0.05, algorithm__fit_prior=True, tf_idf_vec__ngram_range=(1, 3);, score=0.332 total time=  18.8s\n",
      "[CV 1/2] END algorithm__alpha=0.05, algorithm__fit_prior=False, tf_idf_vec__ngram_range=(1, 1);, score=0.458 total time=   4.3s\n",
      "[CV 2/2] END algorithm__alpha=0.05, algorithm__fit_prior=False, tf_idf_vec__ngram_range=(1, 1);, score=0.475 total time=   4.5s\n",
      "[CV 1/2] END algorithm__alpha=0.05, algorithm__fit_prior=False, tf_idf_vec__ngram_range=(1, 2);, score=0.347 total time=  10.7s\n",
      "[CV 2/2] END algorithm__alpha=0.05, algorithm__fit_prior=False, tf_idf_vec__ngram_range=(1, 2);, score=0.388 total time=  10.9s\n",
      "[CV 1/2] END algorithm__alpha=0.05, algorithm__fit_prior=False, tf_idf_vec__ngram_range=(1, 3);, score=0.344 total time=  19.6s\n",
      "[CV 2/2] END algorithm__alpha=0.05, algorithm__fit_prior=False, tf_idf_vec__ngram_range=(1, 3);, score=0.378 total time=  18.2s\n",
      "[CV 1/2] END algorithm__alpha=0.5, algorithm__fit_prior=True, tf_idf_vec__ngram_range=(1, 1);, score=0.243 total time=   3.7s\n",
      "[CV 2/2] END algorithm__alpha=0.5, algorithm__fit_prior=True, tf_idf_vec__ngram_range=(1, 1);, score=0.245 total time=   4.0s\n",
      "[CV 1/2] END algorithm__alpha=0.5, algorithm__fit_prior=True, tf_idf_vec__ngram_range=(1, 2);, score=0.208 total time=  10.2s\n",
      "[CV 2/2] END algorithm__alpha=0.5, algorithm__fit_prior=True, tf_idf_vec__ngram_range=(1, 2);, score=0.231 total time=  10.8s\n",
      "[CV 1/2] END algorithm__alpha=0.5, algorithm__fit_prior=True, tf_idf_vec__ngram_range=(1, 3);, score=0.212 total time=  18.6s\n",
      "[CV 2/2] END algorithm__alpha=0.5, algorithm__fit_prior=True, tf_idf_vec__ngram_range=(1, 3);, score=0.220 total time=  18.3s\n",
      "[CV 1/2] END algorithm__alpha=0.5, algorithm__fit_prior=False, tf_idf_vec__ngram_range=(1, 1);, score=0.336 total time=   3.9s\n",
      "[CV 2/2] END algorithm__alpha=0.5, algorithm__fit_prior=False, tf_idf_vec__ngram_range=(1, 1);, score=0.341 total time=   3.9s\n",
      "[CV 1/2] END algorithm__alpha=0.5, algorithm__fit_prior=False, tf_idf_vec__ngram_range=(1, 2);, score=0.289 total time=  10.0s\n",
      "[CV 2/2] END algorithm__alpha=0.5, algorithm__fit_prior=False, tf_idf_vec__ngram_range=(1, 2);, score=0.324 total time=  10.3s\n",
      "[CV 1/2] END algorithm__alpha=0.5, algorithm__fit_prior=False, tf_idf_vec__ngram_range=(1, 3);, score=0.299 total time=  18.8s\n",
      "[CV 2/2] END algorithm__alpha=0.5, algorithm__fit_prior=False, tf_idf_vec__ngram_range=(1, 3);, score=0.323 total time=  18.7s\n",
      "[CV 1/2] END algorithm__alpha=1, algorithm__fit_prior=True, tf_idf_vec__ngram_range=(1, 1);, score=0.203 total time=   4.1s\n",
      "[CV 2/2] END algorithm__alpha=1, algorithm__fit_prior=True, tf_idf_vec__ngram_range=(1, 1);, score=0.203 total time=   3.9s\n",
      "[CV 1/2] END algorithm__alpha=1, algorithm__fit_prior=True, tf_idf_vec__ngram_range=(1, 2);, score=0.184 total time=  10.8s\n",
      "[CV 2/2] END algorithm__alpha=1, algorithm__fit_prior=True, tf_idf_vec__ngram_range=(1, 2);, score=0.191 total time=  11.1s\n",
      "[CV 1/2] END algorithm__alpha=1, algorithm__fit_prior=True, tf_idf_vec__ngram_range=(1, 3);, score=0.185 total time=  17.7s\n",
      "[CV 2/2] END algorithm__alpha=1, algorithm__fit_prior=True, tf_idf_vec__ngram_range=(1, 3);, score=0.177 total time=  17.5s\n",
      "[CV 1/2] END algorithm__alpha=1, algorithm__fit_prior=False, tf_idf_vec__ngram_range=(1, 1);, score=0.318 total time=   3.8s\n",
      "[CV 2/2] END algorithm__alpha=1, algorithm__fit_prior=False, tf_idf_vec__ngram_range=(1, 1);, score=0.321 total time=   3.9s\n",
      "[CV 1/2] END algorithm__alpha=1, algorithm__fit_prior=False, tf_idf_vec__ngram_range=(1, 2);, score=0.285 total time=   9.9s\n",
      "[CV 2/2] END algorithm__alpha=1, algorithm__fit_prior=False, tf_idf_vec__ngram_range=(1, 2);, score=0.319 total time=  10.1s\n",
      "[CV 1/2] END algorithm__alpha=1, algorithm__fit_prior=False, tf_idf_vec__ngram_range=(1, 3);, score=0.298 total time=  17.8s\n",
      "[CV 2/2] END algorithm__alpha=1, algorithm__fit_prior=False, tf_idf_vec__ngram_range=(1, 3);, score=0.320 total time=  17.8s\n"
     ]
    },
    {
     "data": {
      "text/plain": [
       "GridSearchCV(cv=2,\n",
       "             estimator=Pipeline(steps=[('tf_idf_vec', TfidfVectorizer()),\n",
       "                                       ('sampling', EditedNearestNeighbours()),\n",
       "                                       ('algorithm', MultinomialNB())]),\n",
       "             param_grid={'algorithm__alpha': [0.05, 0.5, 1],\n",
       "                         'algorithm__fit_prior': (True, False),\n",
       "                         'tf_idf_vec__ngram_range': [(1, 1), (1, 2), (1, 3)]},\n",
       "             scoring=make_scorer(precision_score, average=micro), verbose=3)"
      ]
     },
     "execution_count": 8,
     "metadata": {},
     "output_type": "execute_result"
    }
   ],
   "source": [
    "tfidf_subsampling_model.fit(abstracts, Y_train)"
   ]
  },
  {
   "cell_type": "code",
   "execution_count": 9,
   "id": "84641c9f",
   "metadata": {},
   "outputs": [
    {
     "data": {
      "text/plain": [
       "{'algorithm__alpha': 0.05,\n",
       " 'algorithm__fit_prior': False,\n",
       " 'tf_idf_vec__ngram_range': (1, 1)}"
      ]
     },
     "execution_count": 9,
     "metadata": {},
     "output_type": "execute_result"
    }
   ],
   "source": [
    "#Para imprimir los mejores parametros:\n",
    "tfidf_subsampling_model.best_params_"
   ]
  },
  {
   "cell_type": "code",
   "execution_count": 10,
   "id": "dd1c375b",
   "metadata": {},
   "outputs": [
    {
     "name": "stdout",
     "output_type": "stream",
     "text": [
      "Test Report for Multinomial NB Pipe 1\n",
      "               precision    recall  f1-score   support\n",
      "\n",
      "           1       0.68      0.75      0.71      2103\n",
      "           2       0.33      0.98      0.49       994\n",
      "           3       0.68      0.30      0.42      1280\n",
      "           4       0.62      0.81      0.70      2029\n",
      "           5       0.68      0.24      0.36      3194\n",
      "\n",
      "    accuracy                           0.56      9600\n",
      "   macro avg       0.60      0.62      0.54      9600\n",
      "weighted avg       0.63      0.56      0.53      9600\n",
      "\n"
     ]
    },
    {
     "data": {
      "text/plain": [
       "<sklearn.metrics._plot.confusion_matrix.ConfusionMatrixDisplay at 0x1a6e785b820>"
      ]
     },
     "execution_count": 10,
     "metadata": {},
     "output_type": "execute_result"
    },
    {
     "data": {
      "image/png": "[encoded data removed]",
      "text/plain": [
       "<Figure size 432x288 with 2 Axes>"
      ]
     },
     "metadata": {
      "needs_background": "light"
     },
     "output_type": "display_data"
    }
   ],
   "source": [
    "y_pred_tfidf_subsampling = tfidf_subsampling_model.predict(abstracts)\n",
    "report_pipe_p1 = classification_report(Y_train, y_pred_tfidf_subsampling)\n",
    "print(\"Test Report for Multinomial NB Pipe 1\\n\", report_pipe_p1)\n",
    "cm1 = confusion_matrix(Y_train, y_pred_tfidf_subsampling)\n",
    "disp1 = ConfusionMatrixDisplay(confusion_matrix=cm1, display_labels= tfidf_subsampling_model.classes_)\n",
    "disp1.plot()"
   ]
  },
  {
   "cell_type": "markdown",
   "id": "d28faa73",
   "metadata": {},
   "source": [
    "### Pipeline 2: Vectorización con TF-iDF y oversampling (+ reducción de dimensionalidad)\n",
    "\n",
    "Usaremos TF-iDF también en este caso, pero en lugar de hacer undersampling, utilizaremos un algoritmo de oversampling. En este caso, utilizaremos una variación de SMOTE, denominada SMOTEENN para evitar generar muestras ruidosas [6]. Este algoritmo, en realidad, usa una mezcla de under y oversampling.\n",
    "\n",
    "Finalmente, como aplicamos esta pipeline sobre los textos médicos (y no sobre las entidades extraídas), conviene hacer reducción de dimensionalidad. En este caso, utilizaremos PCA, que es una técnica de reducción de dimensionalidad lineal que se puede utilizar para extraer información de un espacio de alta dimensión proyectándola en un subespacio de menor dimensión. PCA Intenta preservar las partes esenciales que tienen más variación de los datos y eliminar las partes no esenciales con menos variación.\n",
    "\n",
    "Mantendremos el 95% de la varianza de las componentes, lo que nos da una buena probabilidad de que los features elegidos no sean independientes de la variable objetivo. Así,"
   ]
  },
  {
   "cell_type": "code",
   "execution_count": 11,
   "id": "460d40a5",
   "metadata": {},
   "outputs": [
    {
     "data": {
      "text/plain": [
       "Pipeline(steps=[('tf_idf_vec', TfidfVectorizer()),\n",
       "                ('sampling', SMOTEENN(random_state=28)),\n",
       "                ('skb',\n",
       "                 SelectKBest(score_func=<function chi2 at 0x000001A6E7496A60>)),\n",
       "                ('algorithm', MultinomialNB())])"
      ]
     },
     "execution_count": 11,
     "metadata": {},
     "output_type": "execute_result"
    }
   ],
   "source": [
    "tfidf_oversampling_pipe = imbpipeline(steps = [\n",
    "    (\"tf_idf_vec\",TfidfVectorizer()),\n",
    "    (\"sampling\", SMOTEENN(random_state=28)),\n",
    "    ('skb', SelectKBest(chi2)),\n",
    "    (\"algorithm\", MultinomialNB())\n",
    "])\n",
    "tfidf_oversampling_pipe"
   ]
  },
  {
   "cell_type": "code",
   "execution_count": 12,
   "id": "84b8e1d8",
   "metadata": {},
   "outputs": [],
   "source": [
    "tfidf_oversampling_model = GridSearchCV(estimator = tfidf_oversampling_pipe, \n",
    "                             param_grid = param_grid, \n",
    "                             cv=2, verbose=3,\n",
    "                             scoring=custom_scorer)"
   ]
  },
  {
   "cell_type": "code",
   "execution_count": 13,
   "id": "41013f69",
   "metadata": {},
   "outputs": [
    {
     "name": "stdout",
     "output_type": "stream",
     "text": [
      "Fitting 2 folds for each of 18 candidates, totalling 36 fits\n",
      "[CV 1/2] END algorithm__alpha=0.05, algorithm__fit_prior=True, tf_idf_vec__ngram_range=(1, 1);, score=0.108 total time=   7.5s\n",
      "[CV 2/2] END algorithm__alpha=0.05, algorithm__fit_prior=True, tf_idf_vec__ngram_range=(1, 1);, score=0.122 total time=   7.5s\n",
      "[CV 1/2] END algorithm__alpha=0.05, algorithm__fit_prior=True, tf_idf_vec__ngram_range=(1, 2);, score=0.104 total time=  16.5s\n",
      "[CV 2/2] END algorithm__alpha=0.05, algorithm__fit_prior=True, tf_idf_vec__ngram_range=(1, 2);, score=0.150 total time=  16.6s\n",
      "[CV 1/2] END algorithm__alpha=0.05, algorithm__fit_prior=True, tf_idf_vec__ngram_range=(1, 3);, score=0.104 total time=  27.5s\n",
      "[CV 2/2] END algorithm__alpha=0.05, algorithm__fit_prior=True, tf_idf_vec__ngram_range=(1, 3);, score=0.135 total time=  27.7s\n",
      "[CV 1/2] END algorithm__alpha=0.05, algorithm__fit_prior=False, tf_idf_vec__ngram_range=(1, 1);, score=0.171 total time=   7.5s\n",
      "[CV 2/2] END algorithm__alpha=0.05, algorithm__fit_prior=False, tf_idf_vec__ngram_range=(1, 1);, score=0.169 total time=   7.5s\n",
      "[CV 1/2] END algorithm__alpha=0.05, algorithm__fit_prior=False, tf_idf_vec__ngram_range=(1, 2);, score=0.219 total time=  16.6s\n",
      "[CV 2/2] END algorithm__alpha=0.05, algorithm__fit_prior=False, tf_idf_vec__ngram_range=(1, 2);, score=0.256 total time=  17.1s\n",
      "[CV 1/2] END algorithm__alpha=0.05, algorithm__fit_prior=False, tf_idf_vec__ngram_range=(1, 3);, score=0.219 total time=  27.6s\n",
      "[CV 2/2] END algorithm__alpha=0.05, algorithm__fit_prior=False, tf_idf_vec__ngram_range=(1, 3);, score=0.216 total time=  27.7s\n",
      "[CV 1/2] END algorithm__alpha=0.5, algorithm__fit_prior=True, tf_idf_vec__ngram_range=(1, 1);, score=0.111 total time=   7.6s\n",
      "[CV 2/2] END algorithm__alpha=0.5, algorithm__fit_prior=True, tf_idf_vec__ngram_range=(1, 1);, score=0.122 total time=   7.4s\n",
      "[CV 1/2] END algorithm__alpha=0.5, algorithm__fit_prior=True, tf_idf_vec__ngram_range=(1, 2);, score=0.104 total time=  16.4s\n",
      "[CV 2/2] END algorithm__alpha=0.5, algorithm__fit_prior=True, tf_idf_vec__ngram_range=(1, 2);, score=0.139 total time=  16.6s\n",
      "[CV 1/2] END algorithm__alpha=0.5, algorithm__fit_prior=True, tf_idf_vec__ngram_range=(1, 3);, score=0.104 total time=  28.2s\n",
      "[CV 2/2] END algorithm__alpha=0.5, algorithm__fit_prior=True, tf_idf_vec__ngram_range=(1, 3);, score=0.124 total time=  27.8s\n",
      "[CV 1/2] END algorithm__alpha=0.5, algorithm__fit_prior=False, tf_idf_vec__ngram_range=(1, 1);, score=0.224 total time=   7.5s\n",
      "[CV 2/2] END algorithm__alpha=0.5, algorithm__fit_prior=False, tf_idf_vec__ngram_range=(1, 1);, score=0.174 total time=   7.5s\n",
      "[CV 1/2] END algorithm__alpha=0.5, algorithm__fit_prior=False, tf_idf_vec__ngram_range=(1, 2);, score=0.220 total time=  16.3s\n",
      "[CV 2/2] END algorithm__alpha=0.5, algorithm__fit_prior=False, tf_idf_vec__ngram_range=(1, 2);, score=0.260 total time=  16.5s\n",
      "[CV 1/2] END algorithm__alpha=0.5, algorithm__fit_prior=False, tf_idf_vec__ngram_range=(1, 3);, score=0.219 total time=  27.5s\n",
      "[CV 2/2] END algorithm__alpha=0.5, algorithm__fit_prior=False, tf_idf_vec__ngram_range=(1, 3);, score=0.223 total time=  27.1s\n",
      "[CV 1/2] END algorithm__alpha=1, algorithm__fit_prior=True, tf_idf_vec__ngram_range=(1, 1);, score=0.113 total time=   7.5s\n",
      "[CV 2/2] END algorithm__alpha=1, algorithm__fit_prior=True, tf_idf_vec__ngram_range=(1, 1);, score=0.121 total time=   7.5s\n",
      "[CV 1/2] END algorithm__alpha=1, algorithm__fit_prior=True, tf_idf_vec__ngram_range=(1, 2);, score=0.104 total time=  16.5s\n",
      "[CV 2/2] END algorithm__alpha=1, algorithm__fit_prior=True, tf_idf_vec__ngram_range=(1, 2);, score=0.133 total time=  17.7s\n",
      "[CV 1/2] END algorithm__alpha=1, algorithm__fit_prior=True, tf_idf_vec__ngram_range=(1, 3);, score=0.104 total time=  27.8s\n",
      "[CV 2/2] END algorithm__alpha=1, algorithm__fit_prior=True, tf_idf_vec__ngram_range=(1, 3);, score=0.117 total time=  24.9s\n",
      "[CV 1/2] END algorithm__alpha=1, algorithm__fit_prior=False, tf_idf_vec__ngram_range=(1, 1);, score=0.224 total time=   6.7s\n",
      "[CV 2/2] END algorithm__alpha=1, algorithm__fit_prior=False, tf_idf_vec__ngram_range=(1, 1);, score=0.176 total time=   6.8s\n",
      "[CV 1/2] END algorithm__alpha=1, algorithm__fit_prior=False, tf_idf_vec__ngram_range=(1, 2);, score=0.220 total time=  16.7s\n",
      "[CV 2/2] END algorithm__alpha=1, algorithm__fit_prior=False, tf_idf_vec__ngram_range=(1, 2);, score=0.263 total time=  16.9s\n",
      "[CV 1/2] END algorithm__alpha=1, algorithm__fit_prior=False, tf_idf_vec__ngram_range=(1, 3);, score=0.220 total time=  27.9s\n",
      "[CV 2/2] END algorithm__alpha=1, algorithm__fit_prior=False, tf_idf_vec__ngram_range=(1, 3);, score=0.250 total time=  27.7s\n"
     ]
    },
    {
     "data": {
      "text/plain": [
       "GridSearchCV(cv=2,\n",
       "             estimator=Pipeline(steps=[('tf_idf_vec', TfidfVectorizer()),\n",
       "                                       ('sampling', SMOTEENN(random_state=28)),\n",
       "                                       ('skb',\n",
       "                                        SelectKBest(score_func=<function chi2 at 0x000001A6E7496A60>)),\n",
       "                                       ('algorithm', MultinomialNB())]),\n",
       "             param_grid={'algorithm__alpha': [0.05, 0.5, 1],\n",
       "                         'algorithm__fit_prior': (True, False),\n",
       "                         'tf_idf_vec__ngram_range': [(1, 1), (1, 2), (1, 3)]},\n",
       "             scoring=make_scorer(precision_score, average=micro), verbose=3)"
      ]
     },
     "execution_count": 13,
     "metadata": {},
     "output_type": "execute_result"
    }
   ],
   "source": [
    "tfidf_oversampling_model.fit(abstracts, Y_train)"
   ]
  },
  {
   "cell_type": "code",
   "execution_count": 14,
   "id": "432fc586",
   "metadata": {},
   "outputs": [
    {
     "data": {
      "text/plain": [
       "{'algorithm__alpha': 1,\n",
       " 'algorithm__fit_prior': False,\n",
       " 'tf_idf_vec__ngram_range': (1, 2)}"
      ]
     },
     "execution_count": 14,
     "metadata": {},
     "output_type": "execute_result"
    }
   ],
   "source": [
    "#Para imprimir los mejores parametros:\n",
    "tfidf_oversampling_model.best_params_"
   ]
  },
  {
   "cell_type": "code",
   "execution_count": 15,
   "id": "67120d6a",
   "metadata": {},
   "outputs": [
    {
     "name": "stdout",
     "output_type": "stream",
     "text": [
      "Test Report for Multinomial NB Pipe 2\n",
      "               precision    recall  f1-score   support\n",
      "\n",
      "           1       0.22      1.00      0.36      2103\n",
      "           2       0.00      0.00      0.00       994\n",
      "           3       0.00      0.00      0.00      1280\n",
      "           4       0.00      0.00      0.00      2029\n",
      "           5       0.75      0.00      0.00      3194\n",
      "\n",
      "    accuracy                           0.22      9600\n",
      "   macro avg       0.19      0.20      0.07      9600\n",
      "weighted avg       0.30      0.22      0.08      9600\n",
      "\n"
     ]
    },
    {
     "name": "stderr",
     "output_type": "stream",
     "text": [
      "C:\\Users\\Alvaro\\anaconda3\\lib\\site-packages\\sklearn\\metrics\\_classification.py:1318: UndefinedMetricWarning: Precision and F-score are ill-defined and being set to 0.0 in labels with no predicted samples. Use `zero_division` parameter to control this behavior.\n",
      "  _warn_prf(average, modifier, msg_start, len(result))\n",
      "C:\\Users\\Alvaro\\anaconda3\\lib\\site-packages\\sklearn\\metrics\\_classification.py:1318: UndefinedMetricWarning: Precision and F-score are ill-defined and being set to 0.0 in labels with no predicted samples. Use `zero_division` parameter to control this behavior.\n",
      "  _warn_prf(average, modifier, msg_start, len(result))\n",
      "C:\\Users\\Alvaro\\anaconda3\\lib\\site-packages\\sklearn\\metrics\\_classification.py:1318: UndefinedMetricWarning: Precision and F-score are ill-defined and being set to 0.0 in labels with no predicted samples. Use `zero_division` parameter to control this behavior.\n",
      "  _warn_prf(average, modifier, msg_start, len(result))\n"
     ]
    },
    {
     "data": {
      "text/plain": [
       "<sklearn.metrics._plot.confusion_matrix.ConfusionMatrixDisplay at 0x1a683fbf9a0>"
      ]
     },
     "execution_count": 15,
     "metadata": {},
     "output_type": "execute_result"
    },
    {
     "data": {
      "image/png": "[encoded data removed]",
      "text/plain": [
       "<Figure size 432x288 with 2 Axes>"
      ]
     },
     "metadata": {
      "needs_background": "light"
     },
     "output_type": "display_data"
    }
   ],
   "source": [
    "y_pred_tfidf_oversampling = tfidf_oversampling_model.predict(abstracts)\n",
    "report_pipe_p2 = classification_report(Y_train, y_pred_tfidf_oversampling)\n",
    "print(\"Test Report for Multinomial NB Pipe 2\\n\", report_pipe_p2)\n",
    "cm2 = confusion_matrix(Y_train, y_pred_tfidf_oversampling)\n",
    "disp2 = ConfusionMatrixDisplay(confusion_matrix=cm2, display_labels= tfidf_oversampling_model.classes_)\n",
    "disp2.plot()"
   ]
  },
  {
   "cell_type": "markdown",
   "id": "963a147e",
   "metadata": {},
   "source": [
    "### Pipeline 3: Sin resampling, usando TF-iDF\n",
    "El algoritmo de Naïve-Bayes, en particular, tiene una variante, denominada NBComplement() que nos permite lidiar con el problema de desbalance de clases sin necesidad de acudir a técnicas de resampling. Usamos PCA también para reducir un poco la dimensionalidad:"
   ]
  },
  {
   "cell_type": "code",
   "execution_count": 16,
   "id": "b0e0c0ec",
   "metadata": {},
   "outputs": [
    {
     "data": {
      "text/plain": [
       "Pipeline(steps=[('tf_idf_vec', TfidfVectorizer()),\n",
       "                ('skb',\n",
       "                 SelectKBest(score_func=<function chi2 at 0x000001A6E7496A60>)),\n",
       "                ('algorithm', ComplementNB())])"
      ]
     },
     "execution_count": 16,
     "metadata": {},
     "output_type": "execute_result"
    }
   ],
   "source": [
    "tf_idf_sin_oversampling = imbpipeline(steps = [\n",
    "    (\"tf_idf_vec\",TfidfVectorizer()),\n",
    "    ('skb', SelectKBest(chi2)),\n",
    "    (\"algorithm\", ComplementNB())\n",
    "])\n",
    "tf_idf_sin_oversampling"
   ]
  },
  {
   "cell_type": "code",
   "execution_count": 17,
   "id": "be291ab1",
   "metadata": {},
   "outputs": [],
   "source": [
    "param_grid2 = {\"algorithm__alpha\": [0.05, 0.5, 1],\n",
    "              \"algorithm__fit_prior\": (True, False),\n",
    "             \"tf_idf_vec__ngram_range\": [(1,1),(1,2),(1,3)],\n",
    "              \"algorithm__norm\": (True, False)}"
   ]
  },
  {
   "cell_type": "code",
   "execution_count": 18,
   "id": "c721f2d6",
   "metadata": {},
   "outputs": [],
   "source": [
    "tf_idf_sin_oversampling_model = GridSearchCV(estimator = tf_idf_sin_oversampling, \n",
    "                             param_grid = param_grid2, \n",
    "                             cv=2, verbose=3,\n",
    "                             scoring=custom_scorer)"
   ]
  },
  {
   "cell_type": "code",
   "execution_count": 19,
   "id": "d2f9673d",
   "metadata": {},
   "outputs": [
    {
     "name": "stdout",
     "output_type": "stream",
     "text": [
      "Fitting 2 folds for each of 36 candidates, totalling 72 fits\n",
      "[CV 1/2] END algorithm__alpha=0.05, algorithm__fit_prior=True, algorithm__norm=True, tf_idf_vec__ngram_range=(1, 1);, score=0.334 total time=   2.5s\n",
      "[CV 2/2] END algorithm__alpha=0.05, algorithm__fit_prior=True, algorithm__norm=True, tf_idf_vec__ngram_range=(1, 1);, score=0.330 total time=   2.6s\n",
      "[CV 1/2] END algorithm__alpha=0.05, algorithm__fit_prior=True, algorithm__norm=True, tf_idf_vec__ngram_range=(1, 2);, score=0.333 total time=   8.5s\n",
      "[CV 2/2] END algorithm__alpha=0.05, algorithm__fit_prior=True, algorithm__norm=True, tf_idf_vec__ngram_range=(1, 2);, score=0.326 total time=   7.9s\n",
      "[CV 1/2] END algorithm__alpha=0.05, algorithm__fit_prior=True, algorithm__norm=True, tf_idf_vec__ngram_range=(1, 3);, score=0.333 total time=  16.2s\n",
      "[CV 2/2] END algorithm__alpha=0.05, algorithm__fit_prior=True, algorithm__norm=True, tf_idf_vec__ngram_range=(1, 3);, score=0.326 total time=  16.5s\n",
      "[CV 1/2] END algorithm__alpha=0.05, algorithm__fit_prior=True, algorithm__norm=False, tf_idf_vec__ngram_range=(1, 1);, score=0.333 total time=   2.4s\n",
      "[CV 2/2] END algorithm__alpha=0.05, algorithm__fit_prior=True, algorithm__norm=False, tf_idf_vec__ngram_range=(1, 1);, score=0.329 total time=   2.5s\n",
      "[CV 1/2] END algorithm__alpha=0.05, algorithm__fit_prior=True, algorithm__norm=False, tf_idf_vec__ngram_range=(1, 2);, score=0.333 total time=   8.4s\n",
      "[CV 2/2] END algorithm__alpha=0.05, algorithm__fit_prior=True, algorithm__norm=False, tf_idf_vec__ngram_range=(1, 2);, score=0.326 total time=   8.6s\n",
      "[CV 1/2] END algorithm__alpha=0.05, algorithm__fit_prior=True, algorithm__norm=False, tf_idf_vec__ngram_range=(1, 3);, score=0.333 total time=  15.8s\n",
      "[CV 2/2] END algorithm__alpha=0.05, algorithm__fit_prior=True, algorithm__norm=False, tf_idf_vec__ngram_range=(1, 3);, score=0.326 total time=  15.8s\n",
      "[CV 1/2] END algorithm__alpha=0.05, algorithm__fit_prior=False, algorithm__norm=True, tf_idf_vec__ngram_range=(1, 1);, score=0.334 total time=   2.4s\n",
      "[CV 2/2] END algorithm__alpha=0.05, algorithm__fit_prior=False, algorithm__norm=True, tf_idf_vec__ngram_range=(1, 1);, score=0.330 total time=   2.4s\n",
      "[CV 1/2] END algorithm__alpha=0.05, algorithm__fit_prior=False, algorithm__norm=True, tf_idf_vec__ngram_range=(1, 2);, score=0.333 total time=   8.5s\n",
      "[CV 2/2] END algorithm__alpha=0.05, algorithm__fit_prior=False, algorithm__norm=True, tf_idf_vec__ngram_range=(1, 2);, score=0.326 total time=   8.7s\n",
      "[CV 1/2] END algorithm__alpha=0.05, algorithm__fit_prior=False, algorithm__norm=True, tf_idf_vec__ngram_range=(1, 3);, score=0.333 total time=  16.4s\n",
      "[CV 2/2] END algorithm__alpha=0.05, algorithm__fit_prior=False, algorithm__norm=True, tf_idf_vec__ngram_range=(1, 3);, score=0.326 total time=  16.2s\n",
      "[CV 1/2] END algorithm__alpha=0.05, algorithm__fit_prior=False, algorithm__norm=False, tf_idf_vec__ngram_range=(1, 1);, score=0.333 total time=   2.5s\n",
      "[CV 2/2] END algorithm__alpha=0.05, algorithm__fit_prior=False, algorithm__norm=False, tf_idf_vec__ngram_range=(1, 1);, score=0.329 total time=   2.4s\n",
      "[CV 1/2] END algorithm__alpha=0.05, algorithm__fit_prior=False, algorithm__norm=False, tf_idf_vec__ngram_range=(1, 2);, score=0.333 total time=   8.4s\n",
      "[CV 2/2] END algorithm__alpha=0.05, algorithm__fit_prior=False, algorithm__norm=False, tf_idf_vec__ngram_range=(1, 2);, score=0.326 total time=   8.8s\n",
      "[CV 1/2] END algorithm__alpha=0.05, algorithm__fit_prior=False, algorithm__norm=False, tf_idf_vec__ngram_range=(1, 3);, score=0.333 total time=  15.9s\n",
      "[CV 2/2] END algorithm__alpha=0.05, algorithm__fit_prior=False, algorithm__norm=False, tf_idf_vec__ngram_range=(1, 3);, score=0.326 total time=  16.5s\n",
      "[CV 1/2] END algorithm__alpha=0.5, algorithm__fit_prior=True, algorithm__norm=True, tf_idf_vec__ngram_range=(1, 1);, score=0.333 total time=   2.5s\n",
      "[CV 2/2] END algorithm__alpha=0.5, algorithm__fit_prior=True, algorithm__norm=True, tf_idf_vec__ngram_range=(1, 1);, score=0.330 total time=   2.5s\n",
      "[CV 1/2] END algorithm__alpha=0.5, algorithm__fit_prior=True, algorithm__norm=True, tf_idf_vec__ngram_range=(1, 2);, score=0.334 total time=   8.5s\n",
      "[CV 2/2] END algorithm__alpha=0.5, algorithm__fit_prior=True, algorithm__norm=True, tf_idf_vec__ngram_range=(1, 2);, score=0.326 total time=   8.7s\n",
      "[CV 1/2] END algorithm__alpha=0.5, algorithm__fit_prior=True, algorithm__norm=True, tf_idf_vec__ngram_range=(1, 3);, score=0.334 total time=  16.4s\n",
      "[CV 2/2] END algorithm__alpha=0.5, algorithm__fit_prior=True, algorithm__norm=True, tf_idf_vec__ngram_range=(1, 3);, score=0.326 total time=  16.1s\n",
      "[CV 1/2] END algorithm__alpha=0.5, algorithm__fit_prior=True, algorithm__norm=False, tf_idf_vec__ngram_range=(1, 1);, score=0.333 total time=   2.4s\n",
      "[CV 2/2] END algorithm__alpha=0.5, algorithm__fit_prior=True, algorithm__norm=False, tf_idf_vec__ngram_range=(1, 1);, score=0.329 total time=   2.4s\n",
      "[CV 1/2] END algorithm__alpha=0.5, algorithm__fit_prior=True, algorithm__norm=False, tf_idf_vec__ngram_range=(1, 2);, score=0.333 total time=   8.5s\n",
      "[CV 2/2] END algorithm__alpha=0.5, algorithm__fit_prior=True, algorithm__norm=False, tf_idf_vec__ngram_range=(1, 2);, score=0.326 total time=   8.8s\n",
      "[CV 1/2] END algorithm__alpha=0.5, algorithm__fit_prior=True, algorithm__norm=False, tf_idf_vec__ngram_range=(1, 3);, score=0.333 total time=  16.1s\n",
      "[CV 2/2] END algorithm__alpha=0.5, algorithm__fit_prior=True, algorithm__norm=False, tf_idf_vec__ngram_range=(1, 3);, score=0.326 total time=  14.4s\n",
      "[CV 1/2] END algorithm__alpha=0.5, algorithm__fit_prior=False, algorithm__norm=True, tf_idf_vec__ngram_range=(1, 1);, score=0.333 total time=   2.7s\n",
      "[CV 2/2] END algorithm__alpha=0.5, algorithm__fit_prior=False, algorithm__norm=True, tf_idf_vec__ngram_range=(1, 1);, score=0.330 total time=   2.7s\n",
      "[CV 1/2] END algorithm__alpha=0.5, algorithm__fit_prior=False, algorithm__norm=True, tf_idf_vec__ngram_range=(1, 2);, score=0.334 total time=   7.6s\n",
      "[CV 2/2] END algorithm__alpha=0.5, algorithm__fit_prior=False, algorithm__norm=True, tf_idf_vec__ngram_range=(1, 2);, score=0.326 total time=   7.7s\n",
      "[CV 1/2] END algorithm__alpha=0.5, algorithm__fit_prior=False, algorithm__norm=True, tf_idf_vec__ngram_range=(1, 3);, score=0.334 total time=  16.0s\n",
      "[CV 2/2] END algorithm__alpha=0.5, algorithm__fit_prior=False, algorithm__norm=True, tf_idf_vec__ngram_range=(1, 3);, score=0.326 total time=  16.8s\n",
      "[CV 1/2] END algorithm__alpha=0.5, algorithm__fit_prior=False, algorithm__norm=False, tf_idf_vec__ngram_range=(1, 1);, score=0.333 total time=   2.4s\n",
      "[CV 2/2] END algorithm__alpha=0.5, algorithm__fit_prior=False, algorithm__norm=False, tf_idf_vec__ngram_range=(1, 1);, score=0.329 total time=   2.6s\n",
      "[CV 1/2] END algorithm__alpha=0.5, algorithm__fit_prior=False, algorithm__norm=False, tf_idf_vec__ngram_range=(1, 2);, score=0.333 total time=   8.7s\n",
      "[CV 2/2] END algorithm__alpha=0.5, algorithm__fit_prior=False, algorithm__norm=False, tf_idf_vec__ngram_range=(1, 2);, score=0.326 total time=   8.6s\n",
      "[CV 1/2] END algorithm__alpha=0.5, algorithm__fit_prior=False, algorithm__norm=False, tf_idf_vec__ngram_range=(1, 3);, score=0.333 total time=  16.4s\n",
      "[CV 2/2] END algorithm__alpha=0.5, algorithm__fit_prior=False, algorithm__norm=False, tf_idf_vec__ngram_range=(1, 3);, score=0.326 total time=  17.2s\n",
      "[CV 1/2] END algorithm__alpha=1, algorithm__fit_prior=True, algorithm__norm=True, tf_idf_vec__ngram_range=(1, 1);, score=0.333 total time=   2.5s\n",
      "[CV 2/2] END algorithm__alpha=1, algorithm__fit_prior=True, algorithm__norm=True, tf_idf_vec__ngram_range=(1, 1);, score=0.330 total time=   2.5s\n",
      "[CV 1/2] END algorithm__alpha=1, algorithm__fit_prior=True, algorithm__norm=True, tf_idf_vec__ngram_range=(1, 2);, score=0.333 total time=   8.5s\n",
      "[CV 2/2] END algorithm__alpha=1, algorithm__fit_prior=True, algorithm__norm=True, tf_idf_vec__ngram_range=(1, 2);, score=0.326 total time=   8.7s\n",
      "[CV 1/2] END algorithm__alpha=1, algorithm__fit_prior=True, algorithm__norm=True, tf_idf_vec__ngram_range=(1, 3);, score=0.333 total time=  16.2s\n",
      "[CV 2/2] END algorithm__alpha=1, algorithm__fit_prior=True, algorithm__norm=True, tf_idf_vec__ngram_range=(1, 3);, score=0.326 total time=  16.3s\n",
      "[CV 1/2] END algorithm__alpha=1, algorithm__fit_prior=True, algorithm__norm=False, tf_idf_vec__ngram_range=(1, 1);, score=0.333 total time=   2.9s\n"
     ]
    },
    {
     "name": "stdout",
     "output_type": "stream",
     "text": [
      "[CV 2/2] END algorithm__alpha=1, algorithm__fit_prior=True, algorithm__norm=False, tf_idf_vec__ngram_range=(1, 1);, score=0.329 total time=   3.1s\n",
      "[CV 1/2] END algorithm__alpha=1, algorithm__fit_prior=True, algorithm__norm=False, tf_idf_vec__ngram_range=(1, 2);, score=0.333 total time=   8.5s\n",
      "[CV 2/2] END algorithm__alpha=1, algorithm__fit_prior=True, algorithm__norm=False, tf_idf_vec__ngram_range=(1, 2);, score=0.326 total time=   8.7s\n",
      "[CV 1/2] END algorithm__alpha=1, algorithm__fit_prior=True, algorithm__norm=False, tf_idf_vec__ngram_range=(1, 3);, score=0.333 total time=  16.0s\n",
      "[CV 2/2] END algorithm__alpha=1, algorithm__fit_prior=True, algorithm__norm=False, tf_idf_vec__ngram_range=(1, 3);, score=0.326 total time=  16.0s\n",
      "[CV 1/2] END algorithm__alpha=1, algorithm__fit_prior=False, algorithm__norm=True, tf_idf_vec__ngram_range=(1, 1);, score=0.333 total time=   2.5s\n",
      "[CV 2/2] END algorithm__alpha=1, algorithm__fit_prior=False, algorithm__norm=True, tf_idf_vec__ngram_range=(1, 1);, score=0.330 total time=   2.5s\n",
      "[CV 1/2] END algorithm__alpha=1, algorithm__fit_prior=False, algorithm__norm=True, tf_idf_vec__ngram_range=(1, 2);, score=0.333 total time=   8.6s\n",
      "[CV 2/2] END algorithm__alpha=1, algorithm__fit_prior=False, algorithm__norm=True, tf_idf_vec__ngram_range=(1, 2);, score=0.326 total time=   8.9s\n",
      "[CV 1/2] END algorithm__alpha=1, algorithm__fit_prior=False, algorithm__norm=True, tf_idf_vec__ngram_range=(1, 3);, score=0.333 total time=  17.0s\n",
      "[CV 2/2] END algorithm__alpha=1, algorithm__fit_prior=False, algorithm__norm=True, tf_idf_vec__ngram_range=(1, 3);, score=0.326 total time=  17.9s\n",
      "[CV 1/2] END algorithm__alpha=1, algorithm__fit_prior=False, algorithm__norm=False, tf_idf_vec__ngram_range=(1, 1);, score=0.333 total time=   2.7s\n",
      "[CV 2/2] END algorithm__alpha=1, algorithm__fit_prior=False, algorithm__norm=False, tf_idf_vec__ngram_range=(1, 1);, score=0.329 total time=   2.7s\n",
      "[CV 1/2] END algorithm__alpha=1, algorithm__fit_prior=False, algorithm__norm=False, tf_idf_vec__ngram_range=(1, 2);, score=0.333 total time=  10.0s\n",
      "[CV 2/2] END algorithm__alpha=1, algorithm__fit_prior=False, algorithm__norm=False, tf_idf_vec__ngram_range=(1, 2);, score=0.326 total time=  10.2s\n",
      "[CV 1/2] END algorithm__alpha=1, algorithm__fit_prior=False, algorithm__norm=False, tf_idf_vec__ngram_range=(1, 3);, score=0.333 total time=  16.3s\n",
      "[CV 2/2] END algorithm__alpha=1, algorithm__fit_prior=False, algorithm__norm=False, tf_idf_vec__ngram_range=(1, 3);, score=0.326 total time=  15.3s\n"
     ]
    },
    {
     "data": {
      "text/plain": [
       "GridSearchCV(cv=2,\n",
       "             estimator=Pipeline(steps=[('tf_idf_vec', TfidfVectorizer()),\n",
       "                                       ('skb',\n",
       "                                        SelectKBest(score_func=<function chi2 at 0x000001A6E7496A60>)),\n",
       "                                       ('algorithm', ComplementNB())]),\n",
       "             param_grid={'algorithm__alpha': [0.05, 0.5, 1],\n",
       "                         'algorithm__fit_prior': (True, False),\n",
       "                         'algorithm__norm': (True, False),\n",
       "                         'tf_idf_vec__ngram_range': [(1, 1), (1, 2), (1, 3)]},\n",
       "             scoring=make_scorer(precision_score, average=micro), verbose=3)"
      ]
     },
     "execution_count": 19,
     "metadata": {},
     "output_type": "execute_result"
    }
   ],
   "source": [
    "tf_idf_sin_oversampling_model.fit(abstracts, Y_train)"
   ]
  },
  {
   "cell_type": "code",
   "execution_count": 20,
   "id": "0695f88a",
   "metadata": {},
   "outputs": [
    {
     "data": {
      "text/plain": [
       "{'algorithm__alpha': 0.05,\n",
       " 'algorithm__fit_prior': True,\n",
       " 'algorithm__norm': True,\n",
       " 'tf_idf_vec__ngram_range': (1, 1)}"
      ]
     },
     "execution_count": 20,
     "metadata": {},
     "output_type": "execute_result"
    }
   ],
   "source": [
    "#Para imprimir los mejores parametros:\n",
    "tf_idf_sin_oversampling_model.best_params_"
   ]
  },
  {
   "cell_type": "code",
   "execution_count": 21,
   "id": "fceb7da4",
   "metadata": {},
   "outputs": [
    {
     "name": "stdout",
     "output_type": "stream",
     "text": [
      "Test Report for Multinomial NB Pipe 3\n",
      "               precision    recall  f1-score   support\n",
      "\n",
      "           1       0.26      0.98      0.42      2103\n",
      "           2       0.47      0.12      0.19       994\n",
      "           3       0.00      0.00      0.00      1280\n",
      "           4       0.66      0.50      0.57      2029\n",
      "           5       0.43      0.00      0.00      3194\n",
      "\n",
      "    accuracy                           0.33      9600\n",
      "   macro avg       0.36      0.32      0.23      9600\n",
      "weighted avg       0.39      0.33      0.23      9600\n",
      "\n"
     ]
    },
    {
     "name": "stderr",
     "output_type": "stream",
     "text": [
      "C:\\Users\\Alvaro\\anaconda3\\lib\\site-packages\\sklearn\\metrics\\_classification.py:1318: UndefinedMetricWarning: Precision and F-score are ill-defined and being set to 0.0 in labels with no predicted samples. Use `zero_division` parameter to control this behavior.\n",
      "  _warn_prf(average, modifier, msg_start, len(result))\n",
      "C:\\Users\\Alvaro\\anaconda3\\lib\\site-packages\\sklearn\\metrics\\_classification.py:1318: UndefinedMetricWarning: Precision and F-score are ill-defined and being set to 0.0 in labels with no predicted samples. Use `zero_division` parameter to control this behavior.\n",
      "  _warn_prf(average, modifier, msg_start, len(result))\n",
      "C:\\Users\\Alvaro\\anaconda3\\lib\\site-packages\\sklearn\\metrics\\_classification.py:1318: UndefinedMetricWarning: Precision and F-score are ill-defined and being set to 0.0 in labels with no predicted samples. Use `zero_division` parameter to control this behavior.\n",
      "  _warn_prf(average, modifier, msg_start, len(result))\n"
     ]
    },
    {
     "data": {
      "text/plain": [
       "<sklearn.metrics._plot.confusion_matrix.ConfusionMatrixDisplay at 0x1a6e785be50>"
      ]
     },
     "execution_count": 21,
     "metadata": {},
     "output_type": "execute_result"
    },
    {
     "data": {
      "image/png": "[encoded data removed]",
      "text/plain": [
       "<Figure size 432x288 with 2 Axes>"
      ]
     },
     "metadata": {
      "needs_background": "light"
     },
     "output_type": "display_data"
    }
   ],
   "source": [
    "y_pred_tf_idf_sin_oversampling = tf_idf_sin_oversampling_model.predict(abstracts)\n",
    "report_pipe_p3 = classification_report(Y_train, y_pred_tf_idf_sin_oversampling)\n",
    "print(\"Test Report for Multinomial NB Pipe 3\\n\", report_pipe_p3)\n",
    "cm3 = confusion_matrix(Y_train, y_pred_tf_idf_sin_oversampling)\n",
    "disp3 = ConfusionMatrixDisplay(confusion_matrix=cm3, display_labels= tf_idf_sin_oversampling_model.classes_)\n",
    "disp3.plot()"
   ]
  },
  {
   "cell_type": "markdown",
   "id": "020abec5",
   "metadata": {},
   "source": [
    "### Pipeline 4: Vectorización con Count-Vectorizer y subsampling.\n",
    "Como dijimos previamente, usamos CountVectorizer puesto que en las entidades médicas las palabras importantes salen varias veces repetidas en el arreglo y queremos evitar reducir su importancia usando TF-iDF. En este caso, es necesario eliminar registros nulos, en caso de que los haya, si la librería no extrajo ninguna palabra relevante de alguna reseña en particular.\n",
    "\n",
    "CountVectorizer es una herramienta proporcionada por la biblioteca scikit-learn en Python. Se utiliza para transformar un texto dado en un vector en función de la frecuencia (recuento) de cada palabra que aparece en todo el texto.\n",
    "\n",
    "Usamos el mismo algoritmo de subsampling utilizado previamente:"
   ]
  },
  {
   "cell_type": "code",
   "execution_count": 22,
   "id": "2713b4fe",
   "metadata": {},
   "outputs": [],
   "source": [
    "def drop_na(df):\n",
    "    return df[df['non_tokenized_entities'] != '']\n",
    "\n",
    "datos_train_new = drop_na(datos_train)\n",
    "entities = datos_train_new['tokenized_entities']\n",
    "Y_train_new = datos_train_new['problems_described']"
   ]
  },
  {
   "cell_type": "code",
   "execution_count": 23,
   "id": "c0abbdd5",
   "metadata": {},
   "outputs": [
    {
     "data": {
      "text/plain": [
       "Pipeline(steps=[('count_vec', CountVectorizer()),\n",
       "                ('sampling', EditedNearestNeighbours()),\n",
       "                ('algorithm', MultinomialNB())])"
      ]
     },
     "execution_count": 23,
     "metadata": {},
     "output_type": "execute_result"
    }
   ],
   "source": [
    "count_subsampling_pipe = imbpipeline(steps = [\n",
    "    (\"count_vec\",CountVectorizer()),\n",
    "    (\"sampling\", EditedNearestNeighbours()),\n",
    "    (\"algorithm\", MultinomialNB())\n",
    "])\n",
    "count_subsampling_pipe"
   ]
  },
  {
   "cell_type": "code",
   "execution_count": 24,
   "id": "d67291bc",
   "metadata": {},
   "outputs": [],
   "source": [
    "param_grid = {\"algorithm__alpha\": [0.05, 0.5, 1],\n",
    "              \"algorithm__fit_prior\": (True, False),\n",
    "             \"count_vec__ngram_range\": [(1,1),(1,2),(1,3)]}"
   ]
  },
  {
   "cell_type": "code",
   "execution_count": 25,
   "id": "971b879b",
   "metadata": {},
   "outputs": [],
   "source": [
    "count_subsampling_model = GridSearchCV(estimator = count_subsampling_pipe, \n",
    "                             param_grid = param_grid, \n",
    "                             cv=2, verbose=3,\n",
    "                             scoring=custom_scorer)"
   ]
  },
  {
   "cell_type": "code",
   "execution_count": 26,
   "id": "8ce7cc2e",
   "metadata": {},
   "outputs": [
    {
     "name": "stdout",
     "output_type": "stream",
     "text": [
      "Fitting 2 folds for each of 18 candidates, totalling 36 fits\n",
      "[CV 1/2] END algorithm__alpha=0.05, algorithm__fit_prior=True, count_vec__ngram_range=(1, 1);, score=0.491 total time=   0.9s\n",
      "[CV 2/2] END algorithm__alpha=0.05, algorithm__fit_prior=True, count_vec__ngram_range=(1, 1);, score=0.497 total time=   1.0s\n",
      "[CV 1/2] END algorithm__alpha=0.05, algorithm__fit_prior=True, count_vec__ngram_range=(1, 2);, score=0.490 total time=   1.7s\n",
      "[CV 2/2] END algorithm__alpha=0.05, algorithm__fit_prior=True, count_vec__ngram_range=(1, 2);, score=0.505 total time=   1.8s\n",
      "[CV 1/2] END algorithm__alpha=0.05, algorithm__fit_prior=True, count_vec__ngram_range=(1, 3);, score=0.477 total time=   2.8s\n",
      "[CV 2/2] END algorithm__alpha=0.05, algorithm__fit_prior=True, count_vec__ngram_range=(1, 3);, score=0.497 total time=   2.9s\n",
      "[CV 1/2] END algorithm__alpha=0.05, algorithm__fit_prior=False, count_vec__ngram_range=(1, 1);, score=0.493 total time=   0.9s\n",
      "[CV 2/2] END algorithm__alpha=0.05, algorithm__fit_prior=False, count_vec__ngram_range=(1, 1);, score=0.499 total time=   1.0s\n",
      "[CV 1/2] END algorithm__alpha=0.05, algorithm__fit_prior=False, count_vec__ngram_range=(1, 2);, score=0.495 total time=   1.9s\n",
      "[CV 2/2] END algorithm__alpha=0.05, algorithm__fit_prior=False, count_vec__ngram_range=(1, 2);, score=0.506 total time=   1.9s\n",
      "[CV 1/2] END algorithm__alpha=0.05, algorithm__fit_prior=False, count_vec__ngram_range=(1, 3);, score=0.480 total time=   2.9s\n",
      "[CV 2/2] END algorithm__alpha=0.05, algorithm__fit_prior=False, count_vec__ngram_range=(1, 3);, score=0.498 total time=   2.8s\n",
      "[CV 1/2] END algorithm__alpha=0.5, algorithm__fit_prior=True, count_vec__ngram_range=(1, 1);, score=0.496 total time=   0.9s\n",
      "[CV 2/2] END algorithm__alpha=0.5, algorithm__fit_prior=True, count_vec__ngram_range=(1, 1);, score=0.501 total time=   1.0s\n",
      "[CV 1/2] END algorithm__alpha=0.5, algorithm__fit_prior=True, count_vec__ngram_range=(1, 2);, score=0.470 total time=   1.9s\n",
      "[CV 2/2] END algorithm__alpha=0.5, algorithm__fit_prior=True, count_vec__ngram_range=(1, 2);, score=0.475 total time=   1.8s\n",
      "[CV 1/2] END algorithm__alpha=0.5, algorithm__fit_prior=True, count_vec__ngram_range=(1, 3);, score=0.449 total time=   3.2s\n",
      "[CV 2/2] END algorithm__alpha=0.5, algorithm__fit_prior=True, count_vec__ngram_range=(1, 3);, score=0.462 total time=   4.0s\n",
      "[CV 1/2] END algorithm__alpha=0.5, algorithm__fit_prior=False, count_vec__ngram_range=(1, 1);, score=0.502 total time=   1.1s\n",
      "[CV 2/2] END algorithm__alpha=0.5, algorithm__fit_prior=False, count_vec__ngram_range=(1, 1);, score=0.506 total time=   1.0s\n",
      "[CV 1/2] END algorithm__alpha=0.5, algorithm__fit_prior=False, count_vec__ngram_range=(1, 2);, score=0.474 total time=   1.7s\n",
      "[CV 2/2] END algorithm__alpha=0.5, algorithm__fit_prior=False, count_vec__ngram_range=(1, 2);, score=0.480 total time=   2.0s\n",
      "[CV 1/2] END algorithm__alpha=0.5, algorithm__fit_prior=False, count_vec__ngram_range=(1, 3);, score=0.456 total time=   2.8s\n",
      "[CV 2/2] END algorithm__alpha=0.5, algorithm__fit_prior=False, count_vec__ngram_range=(1, 3);, score=0.468 total time=   3.2s\n",
      "[CV 1/2] END algorithm__alpha=1, algorithm__fit_prior=True, count_vec__ngram_range=(1, 1);, score=0.491 total time=   1.0s\n",
      "[CV 2/2] END algorithm__alpha=1, algorithm__fit_prior=True, count_vec__ngram_range=(1, 1);, score=0.488 total time=   1.1s\n",
      "[CV 1/2] END algorithm__alpha=1, algorithm__fit_prior=True, count_vec__ngram_range=(1, 2);, score=0.459 total time=   1.9s\n",
      "[CV 2/2] END algorithm__alpha=1, algorithm__fit_prior=True, count_vec__ngram_range=(1, 2);, score=0.457 total time=   2.1s\n",
      "[CV 1/2] END algorithm__alpha=1, algorithm__fit_prior=True, count_vec__ngram_range=(1, 3);, score=0.439 total time=   2.8s\n",
      "[CV 2/2] END algorithm__alpha=1, algorithm__fit_prior=True, count_vec__ngram_range=(1, 3);, score=0.445 total time=   3.0s\n",
      "[CV 1/2] END algorithm__alpha=1, algorithm__fit_prior=False, count_vec__ngram_range=(1, 1);, score=0.498 total time=   1.0s\n",
      "[CV 2/2] END algorithm__alpha=1, algorithm__fit_prior=False, count_vec__ngram_range=(1, 1);, score=0.496 total time=   1.0s\n",
      "[CV 1/2] END algorithm__alpha=1, algorithm__fit_prior=False, count_vec__ngram_range=(1, 2);, score=0.464 total time=   1.8s\n",
      "[CV 2/2] END algorithm__alpha=1, algorithm__fit_prior=False, count_vec__ngram_range=(1, 2);, score=0.465 total time=   1.8s\n",
      "[CV 1/2] END algorithm__alpha=1, algorithm__fit_prior=False, count_vec__ngram_range=(1, 3);, score=0.444 total time=   3.5s\n",
      "[CV 2/2] END algorithm__alpha=1, algorithm__fit_prior=False, count_vec__ngram_range=(1, 3);, score=0.453 total time=   3.3s\n"
     ]
    },
    {
     "data": {
      "text/plain": [
       "GridSearchCV(cv=2,\n",
       "             estimator=Pipeline(steps=[('count_vec', CountVectorizer()),\n",
       "                                       ('sampling', EditedNearestNeighbours()),\n",
       "                                       ('algorithm', MultinomialNB())]),\n",
       "             param_grid={'algorithm__alpha': [0.05, 0.5, 1],\n",
       "                         'algorithm__fit_prior': (True, False),\n",
       "                         'count_vec__ngram_range': [(1, 1), (1, 2), (1, 3)]},\n",
       "             scoring=make_scorer(precision_score, average=micro), verbose=3)"
      ]
     },
     "execution_count": 26,
     "metadata": {},
     "output_type": "execute_result"
    }
   ],
   "source": [
    "count_subsampling_model.fit(entities, Y_train_new)"
   ]
  },
  {
   "cell_type": "code",
   "execution_count": 27,
   "id": "157dfb1a",
   "metadata": {},
   "outputs": [
    {
     "data": {
      "text/plain": [
       "{'algorithm__alpha': 0.5,\n",
       " 'algorithm__fit_prior': False,\n",
       " 'count_vec__ngram_range': (1, 1)}"
      ]
     },
     "execution_count": 27,
     "metadata": {},
     "output_type": "execute_result"
    }
   ],
   "source": [
    "#Para imprimir los mejores parametros:\n",
    "count_subsampling_model.best_params_"
   ]
  },
  {
   "cell_type": "code",
   "execution_count": 28,
   "id": "97008aca",
   "metadata": {},
   "outputs": [
    {
     "name": "stdout",
     "output_type": "stream",
     "text": [
      "Test Report for Multinomial NB Pipe 4\n",
      "               precision    recall  f1-score   support\n",
      "\n",
      "           1       0.72      0.65      0.68      2103\n",
      "           2       0.53      0.77      0.63       994\n",
      "           3       0.41      0.60      0.49      1280\n",
      "           4       0.67      0.73      0.70      2029\n",
      "           5       0.55      0.37      0.44      3194\n",
      "\n",
      "    accuracy                           0.58      9600\n",
      "   macro avg       0.57      0.62      0.59      9600\n",
      "weighted avg       0.59      0.58      0.57      9600\n",
      "\n"
     ]
    },
    {
     "data": {
      "text/plain": [
       "<sklearn.metrics._plot.confusion_matrix.ConfusionMatrixDisplay at 0x1a684782580>"
      ]
     },
     "execution_count": 28,
     "metadata": {},
     "output_type": "execute_result"
    },
    {
     "data": {
      "image/png": "[encoded data removed]",
      "text/plain": [
       "<Figure size 432x288 with 2 Axes>"
      ]
     },
     "metadata": {
      "needs_background": "light"
     },
     "output_type": "display_data"
    }
   ],
   "source": [
    "y_pred_count_subsampling = count_subsampling_model.predict(abstracts)\n",
    "report_pipe_p4 = classification_report(Y_train, y_pred_count_subsampling)\n",
    "print(\"Test Report for Multinomial NB Pipe 4\\n\", report_pipe_p4)\n",
    "cm4 = confusion_matrix(Y_train, y_pred_count_subsampling)\n",
    "disp4 = ConfusionMatrixDisplay(confusion_matrix=cm4, display_labels= count_subsampling_model.classes_)\n",
    "disp4.plot()"
   ]
  },
  {
   "cell_type": "markdown",
   "id": "0eb300e0",
   "metadata": {},
   "source": [
    "### Pipeline 5: Vectorización con Count-Vectorizer y oversampling.\n",
    "Como dijimos previamente, usamos CountVectorizer puesto que en las entidades médicas las palabras importantes salen varias veces repetidas en el arreglo y queremos evitar reducir su importancia usando TF-iDF. Asimismo, intentamos de nuevo usar el SMOTE modificado, pero esta vez no hacemos PCA porque las palabras extraídas como entidades usando la librería entrenada sobre el corpus biomédico en el notebook anterior son relativamente pocas y hacer reducción de dimensionalidad puede alterar los resultados obtenidos:\n",
    "\n"
   ]
  },
  {
   "cell_type": "code",
   "execution_count": 29,
   "id": "860e2c42",
   "metadata": {
    "scrolled": false
   },
   "outputs": [
    {
     "data": {
      "text/plain": [
       "Pipeline(steps=[('count_vec', CountVectorizer()),\n",
       "                ('sampling', SMOTEENN(random_state=28)),\n",
       "                ('algorithm', MultinomialNB())])"
      ]
     },
     "execution_count": 29,
     "metadata": {},
     "output_type": "execute_result"
    }
   ],
   "source": [
    "count_oversampling_pipe = imbpipeline(steps = [\n",
    "    (\"count_vec\", CountVectorizer()),\n",
    "    (\"sampling\", SMOTEENN(random_state=28)),\n",
    "    (\"algorithm\", MultinomialNB())\n",
    "])\n",
    "count_oversampling_pipe"
   ]
  },
  {
   "cell_type": "code",
   "execution_count": 30,
   "id": "0202e2ef",
   "metadata": {},
   "outputs": [],
   "source": [
    "count_oversampling_model = GridSearchCV(estimator = count_oversampling_pipe, \n",
    "                             param_grid = param_grid, \n",
    "                             cv=2, verbose=3,\n",
    "                             scoring=custom_scorer)"
   ]
  },
  {
   "cell_type": "code",
   "execution_count": 31,
   "id": "c3b6991f",
   "metadata": {},
   "outputs": [
    {
     "name": "stdout",
     "output_type": "stream",
     "text": [
      "Fitting 2 folds for each of 18 candidates, totalling 36 fits\n",
      "[CV 1/2] END algorithm__alpha=0.05, algorithm__fit_prior=True, count_vec__ngram_range=(1, 1);, score=0.518 total time=   2.3s\n",
      "[CV 2/2] END algorithm__alpha=0.05, algorithm__fit_prior=True, count_vec__ngram_range=(1, 1);, score=0.526 total time=   2.6s\n",
      "[CV 1/2] END algorithm__alpha=0.05, algorithm__fit_prior=True, count_vec__ngram_range=(1, 2);, score=0.509 total time=   3.2s\n",
      "[CV 2/2] END algorithm__alpha=0.05, algorithm__fit_prior=True, count_vec__ngram_range=(1, 2);, score=0.503 total time=   3.3s\n",
      "[CV 1/2] END algorithm__alpha=0.05, algorithm__fit_prior=True, count_vec__ngram_range=(1, 3);, score=0.495 total time=   5.0s\n",
      "[CV 2/2] END algorithm__alpha=0.05, algorithm__fit_prior=True, count_vec__ngram_range=(1, 3);, score=0.494 total time=   5.2s\n",
      "[CV 1/2] END algorithm__alpha=0.05, algorithm__fit_prior=False, count_vec__ngram_range=(1, 1);, score=0.522 total time=   2.1s\n",
      "[CV 2/2] END algorithm__alpha=0.05, algorithm__fit_prior=False, count_vec__ngram_range=(1, 1);, score=0.529 total time=   2.6s\n",
      "[CV 1/2] END algorithm__alpha=0.05, algorithm__fit_prior=False, count_vec__ngram_range=(1, 2);, score=0.509 total time=   3.7s\n",
      "[CV 2/2] END algorithm__alpha=0.05, algorithm__fit_prior=False, count_vec__ngram_range=(1, 2);, score=0.507 total time=   3.7s\n",
      "[CV 1/2] END algorithm__alpha=0.05, algorithm__fit_prior=False, count_vec__ngram_range=(1, 3);, score=0.498 total time=   4.6s\n",
      "[CV 2/2] END algorithm__alpha=0.05, algorithm__fit_prior=False, count_vec__ngram_range=(1, 3);, score=0.496 total time=   5.0s\n",
      "[CV 1/2] END algorithm__alpha=0.5, algorithm__fit_prior=True, count_vec__ngram_range=(1, 1);, score=0.517 total time=   2.5s\n",
      "[CV 2/2] END algorithm__alpha=0.5, algorithm__fit_prior=True, count_vec__ngram_range=(1, 1);, score=0.521 total time=   2.6s\n",
      "[CV 1/2] END algorithm__alpha=0.5, algorithm__fit_prior=True, count_vec__ngram_range=(1, 2);, score=0.504 total time=   3.8s\n",
      "[CV 2/2] END algorithm__alpha=0.5, algorithm__fit_prior=True, count_vec__ngram_range=(1, 2);, score=0.503 total time=   3.6s\n",
      "[CV 1/2] END algorithm__alpha=0.5, algorithm__fit_prior=True, count_vec__ngram_range=(1, 3);, score=0.495 total time=   4.3s\n",
      "[CV 2/2] END algorithm__alpha=0.5, algorithm__fit_prior=True, count_vec__ngram_range=(1, 3);, score=0.502 total time=   4.6s\n",
      "[CV 1/2] END algorithm__alpha=0.5, algorithm__fit_prior=False, count_vec__ngram_range=(1, 1);, score=0.519 total time=   2.1s\n",
      "[CV 2/2] END algorithm__alpha=0.5, algorithm__fit_prior=False, count_vec__ngram_range=(1, 1);, score=0.527 total time=   2.5s\n",
      "[CV 1/2] END algorithm__alpha=0.5, algorithm__fit_prior=False, count_vec__ngram_range=(1, 2);, score=0.505 total time=   3.2s\n",
      "[CV 2/2] END algorithm__alpha=0.5, algorithm__fit_prior=False, count_vec__ngram_range=(1, 2);, score=0.505 total time=   3.9s\n",
      "[CV 1/2] END algorithm__alpha=0.5, algorithm__fit_prior=False, count_vec__ngram_range=(1, 3);, score=0.497 total time=   4.6s\n",
      "[CV 2/2] END algorithm__alpha=0.5, algorithm__fit_prior=False, count_vec__ngram_range=(1, 3);, score=0.505 total time=   4.8s\n",
      "[CV 1/2] END algorithm__alpha=1, algorithm__fit_prior=True, count_vec__ngram_range=(1, 1);, score=0.513 total time=   2.1s\n",
      "[CV 2/2] END algorithm__alpha=1, algorithm__fit_prior=True, count_vec__ngram_range=(1, 1);, score=0.517 total time=   2.5s\n",
      "[CV 1/2] END algorithm__alpha=1, algorithm__fit_prior=True, count_vec__ngram_range=(1, 2);, score=0.503 total time=   3.1s\n",
      "[CV 2/2] END algorithm__alpha=1, algorithm__fit_prior=True, count_vec__ngram_range=(1, 2);, score=0.500 total time=   3.5s\n",
      "[CV 1/2] END algorithm__alpha=1, algorithm__fit_prior=True, count_vec__ngram_range=(1, 3);, score=0.497 total time=   4.6s\n",
      "[CV 2/2] END algorithm__alpha=1, algorithm__fit_prior=True, count_vec__ngram_range=(1, 3);, score=0.504 total time=   4.8s\n",
      "[CV 1/2] END algorithm__alpha=1, algorithm__fit_prior=False, count_vec__ngram_range=(1, 1);, score=0.519 total time=   2.2s\n",
      "[CV 2/2] END algorithm__alpha=1, algorithm__fit_prior=False, count_vec__ngram_range=(1, 1);, score=0.523 total time=   2.6s\n",
      "[CV 1/2] END algorithm__alpha=1, algorithm__fit_prior=False, count_vec__ngram_range=(1, 2);, score=0.506 total time=   3.1s\n",
      "[CV 2/2] END algorithm__alpha=1, algorithm__fit_prior=False, count_vec__ngram_range=(1, 2);, score=0.505 total time=   3.4s\n",
      "[CV 1/2] END algorithm__alpha=1, algorithm__fit_prior=False, count_vec__ngram_range=(1, 3);, score=0.500 total time=   4.2s\n",
      "[CV 2/2] END algorithm__alpha=1, algorithm__fit_prior=False, count_vec__ngram_range=(1, 3);, score=0.507 total time=   4.8s\n"
     ]
    },
    {
     "data": {
      "text/plain": [
       "GridSearchCV(cv=2,\n",
       "             estimator=Pipeline(steps=[('count_vec', CountVectorizer()),\n",
       "                                       ('sampling', SMOTEENN(random_state=28)),\n",
       "                                       ('algorithm', MultinomialNB())]),\n",
       "             param_grid={'algorithm__alpha': [0.05, 0.5, 1],\n",
       "                         'algorithm__fit_prior': (True, False),\n",
       "                         'count_vec__ngram_range': [(1, 1), (1, 2), (1, 3)]},\n",
       "             scoring=make_scorer(precision_score, average=micro), verbose=3)"
      ]
     },
     "execution_count": 31,
     "metadata": {},
     "output_type": "execute_result"
    }
   ],
   "source": [
    "count_oversampling_model.fit(entities, Y_train_new)"
   ]
  },
  {
   "cell_type": "code",
   "execution_count": 32,
   "id": "ba3cdf89",
   "metadata": {},
   "outputs": [
    {
     "data": {
      "text/plain": [
       "{'algorithm__alpha': 0.05,\n",
       " 'algorithm__fit_prior': False,\n",
       " 'count_vec__ngram_range': (1, 1)}"
      ]
     },
     "execution_count": 32,
     "metadata": {},
     "output_type": "execute_result"
    }
   ],
   "source": [
    "#Para imprimir los mejores parametros:\n",
    "count_oversampling_model.best_params_"
   ]
  },
  {
   "cell_type": "code",
   "execution_count": 33,
   "id": "aaab2a78",
   "metadata": {},
   "outputs": [
    {
     "name": "stdout",
     "output_type": "stream",
     "text": [
      "Test Report for Multinomial NB Pipe 5\n",
      "               precision    recall  f1-score   support\n",
      "\n",
      "           1       0.75      0.63      0.68      2103\n",
      "           2       0.57      0.59      0.58       994\n",
      "           3       0.51      0.37      0.43      1280\n",
      "           4       0.69      0.64      0.67      2029\n",
      "           5       0.47      0.58      0.52      3194\n",
      "\n",
      "    accuracy                           0.58      9600\n",
      "   macro avg       0.60      0.56      0.58      9600\n",
      "weighted avg       0.59      0.58      0.58      9600\n",
      "\n"
     ]
    },
    {
     "data": {
      "text/plain": [
       "<sklearn.metrics._plot.confusion_matrix.ConfusionMatrixDisplay at 0x1a6858aca00>"
      ]
     },
     "execution_count": 33,
     "metadata": {},
     "output_type": "execute_result"
    },
    {
     "data": {
      "image/png": "[encoded data removed]",
      "text/plain": [
       "<Figure size 432x288 with 2 Axes>"
      ]
     },
     "metadata": {
      "needs_background": "light"
     },
     "output_type": "display_data"
    }
   ],
   "source": [
    "y_pred_count_oversampling = count_oversampling_model.predict(abstracts)\n",
    "report_pipe_p5 = classification_report(Y_train, y_pred_count_oversampling)\n",
    "print(\"Test Report for Multinomial NB Pipe 5\\n\", report_pipe_p5)\n",
    "cm5 = confusion_matrix(Y_train, y_pred_count_oversampling)\n",
    "disp5 = ConfusionMatrixDisplay(confusion_matrix=cm5, display_labels= count_oversampling_model.classes_)\n",
    "disp5.plot()"
   ]
  },
  {
   "cell_type": "markdown",
   "id": "93df5c18",
   "metadata": {},
   "source": [
    "### Pipeline 6: Sin resampling, usando Count-Vectorizer\n",
    "Usamos ComplementNB():"
   ]
  },
  {
   "cell_type": "code",
   "execution_count": 34,
   "id": "d40cee62",
   "metadata": {},
   "outputs": [
    {
     "data": {
      "text/plain": [
       "Pipeline(steps=[('count_vec', CountVectorizer()),\n",
       "                ('algorithm', ComplementNB())])"
      ]
     },
     "execution_count": 34,
     "metadata": {},
     "output_type": "execute_result"
    }
   ],
   "source": [
    "count_sin_oversampling = imbpipeline(steps = [\n",
    "    (\"count_vec\",CountVectorizer()),\n",
    "    (\"algorithm\", ComplementNB())\n",
    "])\n",
    "count_sin_oversampling"
   ]
  },
  {
   "cell_type": "code",
   "execution_count": 35,
   "id": "4b225908",
   "metadata": {},
   "outputs": [],
   "source": [
    "count_sin_oversampling_model = GridSearchCV(estimator = count_sin_oversampling, \n",
    "                             param_grid = param_grid, \n",
    "                             cv=2, verbose=3,\n",
    "                             scoring=custom_scorer)"
   ]
  },
  {
   "cell_type": "code",
   "execution_count": 36,
   "id": "4fe89d1c",
   "metadata": {},
   "outputs": [
    {
     "name": "stdout",
     "output_type": "stream",
     "text": [
      "Fitting 2 folds for each of 18 candidates, totalling 36 fits\n",
      "[CV 1/2] END algorithm__alpha=0.05, algorithm__fit_prior=True, count_vec__ngram_range=(1, 1);, score=0.510 total time=   0.4s\n",
      "[CV 2/2] END algorithm__alpha=0.05, algorithm__fit_prior=True, count_vec__ngram_range=(1, 1);, score=0.516 total time=   0.4s\n",
      "[CV 1/2] END algorithm__alpha=0.05, algorithm__fit_prior=True, count_vec__ngram_range=(1, 2);, score=0.489 total time=   1.2s\n",
      "[CV 2/2] END algorithm__alpha=0.05, algorithm__fit_prior=True, count_vec__ngram_range=(1, 2);, score=0.500 total time=   1.2s\n",
      "[CV 1/2] END algorithm__alpha=0.05, algorithm__fit_prior=True, count_vec__ngram_range=(1, 3);, score=0.482 total time=   2.4s\n",
      "[CV 2/2] END algorithm__alpha=0.05, algorithm__fit_prior=True, count_vec__ngram_range=(1, 3);, score=0.495 total time=   2.3s\n",
      "[CV 1/2] END algorithm__alpha=0.05, algorithm__fit_prior=False, count_vec__ngram_range=(1, 1);, score=0.510 total time=   0.4s\n",
      "[CV 2/2] END algorithm__alpha=0.05, algorithm__fit_prior=False, count_vec__ngram_range=(1, 1);, score=0.516 total time=   0.4s\n",
      "[CV 1/2] END algorithm__alpha=0.05, algorithm__fit_prior=False, count_vec__ngram_range=(1, 2);, score=0.489 total time=   1.2s\n",
      "[CV 2/2] END algorithm__alpha=0.05, algorithm__fit_prior=False, count_vec__ngram_range=(1, 2);, score=0.500 total time=   1.3s\n",
      "[CV 1/2] END algorithm__alpha=0.05, algorithm__fit_prior=False, count_vec__ngram_range=(1, 3);, score=0.482 total time=   2.3s\n",
      "[CV 2/2] END algorithm__alpha=0.05, algorithm__fit_prior=False, count_vec__ngram_range=(1, 3);, score=0.495 total time=   2.3s\n",
      "[CV 1/2] END algorithm__alpha=0.5, algorithm__fit_prior=True, count_vec__ngram_range=(1, 1);, score=0.526 total time=   0.4s\n",
      "[CV 2/2] END algorithm__alpha=0.5, algorithm__fit_prior=True, count_vec__ngram_range=(1, 1);, score=0.532 total time=   0.4s\n",
      "[CV 1/2] END algorithm__alpha=0.5, algorithm__fit_prior=True, count_vec__ngram_range=(1, 2);, score=0.510 total time=   1.2s\n",
      "[CV 2/2] END algorithm__alpha=0.5, algorithm__fit_prior=True, count_vec__ngram_range=(1, 2);, score=0.515 total time=   1.2s\n",
      "[CV 1/2] END algorithm__alpha=0.5, algorithm__fit_prior=True, count_vec__ngram_range=(1, 3);, score=0.500 total time=   2.2s\n",
      "[CV 2/2] END algorithm__alpha=0.5, algorithm__fit_prior=True, count_vec__ngram_range=(1, 3);, score=0.506 total time=   2.2s\n",
      "[CV 1/2] END algorithm__alpha=0.5, algorithm__fit_prior=False, count_vec__ngram_range=(1, 1);, score=0.526 total time=   0.4s\n",
      "[CV 2/2] END algorithm__alpha=0.5, algorithm__fit_prior=False, count_vec__ngram_range=(1, 1);, score=0.532 total time=   0.5s\n",
      "[CV 1/2] END algorithm__alpha=0.5, algorithm__fit_prior=False, count_vec__ngram_range=(1, 2);, score=0.510 total time=   1.2s\n",
      "[CV 2/2] END algorithm__alpha=0.5, algorithm__fit_prior=False, count_vec__ngram_range=(1, 2);, score=0.515 total time=   1.2s\n",
      "[CV 1/2] END algorithm__alpha=0.5, algorithm__fit_prior=False, count_vec__ngram_range=(1, 3);, score=0.500 total time=   2.2s\n",
      "[CV 2/2] END algorithm__alpha=0.5, algorithm__fit_prior=False, count_vec__ngram_range=(1, 3);, score=0.506 total time=   2.5s\n",
      "[CV 1/2] END algorithm__alpha=1, algorithm__fit_prior=True, count_vec__ngram_range=(1, 1);, score=0.531 total time=   0.4s\n",
      "[CV 2/2] END algorithm__alpha=1, algorithm__fit_prior=True, count_vec__ngram_range=(1, 1);, score=0.536 total time=   0.4s\n",
      "[CV 1/2] END algorithm__alpha=1, algorithm__fit_prior=True, count_vec__ngram_range=(1, 2);, score=0.517 total time=   1.3s\n",
      "[CV 2/2] END algorithm__alpha=1, algorithm__fit_prior=True, count_vec__ngram_range=(1, 2);, score=0.521 total time=   1.2s\n",
      "[CV 1/2] END algorithm__alpha=1, algorithm__fit_prior=True, count_vec__ngram_range=(1, 3);, score=0.509 total time=   2.2s\n",
      "[CV 2/2] END algorithm__alpha=1, algorithm__fit_prior=True, count_vec__ngram_range=(1, 3);, score=0.510 total time=   2.1s\n",
      "[CV 1/2] END algorithm__alpha=1, algorithm__fit_prior=False, count_vec__ngram_range=(1, 1);, score=0.531 total time=   0.4s\n",
      "[CV 2/2] END algorithm__alpha=1, algorithm__fit_prior=False, count_vec__ngram_range=(1, 1);, score=0.536 total time=   0.4s\n",
      "[CV 1/2] END algorithm__alpha=1, algorithm__fit_prior=False, count_vec__ngram_range=(1, 2);, score=0.517 total time=   1.2s\n",
      "[CV 2/2] END algorithm__alpha=1, algorithm__fit_prior=False, count_vec__ngram_range=(1, 2);, score=0.521 total time=   1.2s\n",
      "[CV 1/2] END algorithm__alpha=1, algorithm__fit_prior=False, count_vec__ngram_range=(1, 3);, score=0.509 total time=   2.1s\n",
      "[CV 2/2] END algorithm__alpha=1, algorithm__fit_prior=False, count_vec__ngram_range=(1, 3);, score=0.510 total time=   2.1s\n"
     ]
    },
    {
     "data": {
      "text/plain": [
       "GridSearchCV(cv=2,\n",
       "             estimator=Pipeline(steps=[('count_vec', CountVectorizer()),\n",
       "                                       ('algorithm', ComplementNB())]),\n",
       "             param_grid={'algorithm__alpha': [0.05, 0.5, 1],\n",
       "                         'algorithm__fit_prior': (True, False),\n",
       "                         'count_vec__ngram_range': [(1, 1), (1, 2), (1, 3)]},\n",
       "             scoring=make_scorer(precision_score, average=micro), verbose=3)"
      ]
     },
     "execution_count": 36,
     "metadata": {},
     "output_type": "execute_result"
    }
   ],
   "source": [
    "count_sin_oversampling_model.fit(entities, Y_train_new)"
   ]
  },
  {
   "cell_type": "code",
   "execution_count": 37,
   "id": "2bc6962c",
   "metadata": {},
   "outputs": [
    {
     "data": {
      "text/plain": [
       "{'algorithm__alpha': 1,\n",
       " 'algorithm__fit_prior': True,\n",
       " 'count_vec__ngram_range': (1, 1)}"
      ]
     },
     "execution_count": 37,
     "metadata": {},
     "output_type": "execute_result"
    }
   ],
   "source": [
    "#Para imprimir los mejores parametros:\n",
    "count_sin_oversampling_model.best_params_"
   ]
  },
  {
   "cell_type": "code",
   "execution_count": 39,
   "id": "1e593aba",
   "metadata": {},
   "outputs": [
    {
     "name": "stdout",
     "output_type": "stream",
     "text": [
      "Test Report for Multinomial NB Pipe 6\n",
      "               precision    recall  f1-score   support\n",
      "\n",
      "           1       0.71      0.86      0.78      2103\n",
      "           2       0.63      0.73      0.67       994\n",
      "           3       0.61      0.61      0.61      1280\n",
      "           4       0.61      0.89      0.73      2029\n",
      "           5       0.77      0.41      0.54      3194\n",
      "\n",
      "    accuracy                           0.67      9600\n",
      "   macro avg       0.67      0.70      0.66      9600\n",
      "weighted avg       0.69      0.67      0.65      9600\n",
      "\n"
     ]
    },
    {
     "data": {
      "text/plain": [
       "<sklearn.metrics._plot.confusion_matrix.ConfusionMatrixDisplay at 0x1a6e1be3580>"
      ]
     },
     "execution_count": 39,
     "metadata": {},
     "output_type": "execute_result"
    },
    {
     "data": {
      "image/png": "[encoded data removed]",
      "text/plain": [
       "<Figure size 432x288 with 2 Axes>"
      ]
     },
     "metadata": {
      "needs_background": "light"
     },
     "output_type": "display_data"
    }
   ],
   "source": [
    "y_pred_count_sin_oversampling = count_sin_oversampling_model.predict(abstracts)\n",
    "report_pipe_p6 = classification_report(Y_train, y_pred_count_sin_oversampling)\n",
    "print(\"Test Report for Multinomial NB Pipe 6\\n\", report_pipe_p6)\n",
    "cm6 = confusion_matrix(Y_train, y_pred_count_sin_oversampling)\n",
    "disp6 = ConfusionMatrixDisplay(confusion_matrix=cm6, display_labels= count_sin_oversampling_model.classes_)\n",
    "disp6.plot()"
   ]
  },
  {
   "cell_type": "markdown",
   "id": "3a6e9897",
   "metadata": {},
   "source": [
    "# Conclusión\n",
    "\n",
    "De todos los modelos generados, elegiremos el modelo creado en el Pipeline 6 (sin resampling y usando Count-Vectorizer), pues es el que tiene los mejores resultados para las métricas de presición y recall. Procedemos a exportar este modelo para utilizarlo en el notebook de la etapa de validación."
   ]
  },
  {
   "cell_type": "code",
   "execution_count": 46,
   "id": "1cab62ee",
   "metadata": {},
   "outputs": [],
   "source": [
    "file = open(\"multinomial_nb.joblib\",\"wb\")\n",
    "joblib.dump(count_sin_oversampling_model,file)\n",
    "file.close()"
   ]
  }
 ],
 "metadata": {
  "kernelspec": {
   "display_name": "Python 3 (ipykernel)",
   "language": "python",
   "name": "python3"
  },
  "language_info": {
   "codemirror_mode": {
    "name": "ipython",
    "version": 3
   },
   "file_extension": ".py",
   "mimetype": "text/x-python",
   "name": "python",
   "nbconvert_exporter": "python",
   "pygments_lexer": "ipython3",
   "version": "3.9.7"
  },
  "toc": {
   "base_numbering": 1,
   "nav_menu": {},
   "number_sections": true,
   "sideBar": true,
   "skip_h1_title": false,
   "title_cell": "Table of Contents",
   "title_sidebar": "Contents",
   "toc_cell": false,
   "toc_position": {},
   "toc_section_display": true,
   "toc_window_display": false
  },
  "varInspector": {
   "cols": {
    "lenName": 16,
    "lenType": 16,
    "lenVar": 40
   },
   "kernels_config": {
    "python": {
     "delete_cmd_postfix": "",
     "delete_cmd_prefix": "del ",
     "library": "var_list.py",
     "varRefreshCmd": "print(var_dic_list())"
    },
    "r": {
     "delete_cmd_postfix": ") ",
     "delete_cmd_prefix": "rm(",
     "library": "var_list.r",
     "varRefreshCmd": "cat(var_dic_list()) "
    }
   },
   "types_to_exclude": [
    "module",
    "function",
    "builtin_function_or_method",
    "instance",
    "_Feature"
   ],
   "window_display": false
  }
 },
 "nbformat": 4,
 "nbformat_minor": 5
}
