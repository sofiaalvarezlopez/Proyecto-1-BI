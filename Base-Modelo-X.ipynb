{
 "cells": [
  {
   "cell_type": "markdown",
   "id": "b2e17787",
   "metadata": {},
   "source": [
    "### María Sofía Álvarez - Brenda Barahona - Álvaro Plata\n",
    "<h1 align='center'>Proyecto 1: Analítica de textos - Modelo X</h1>"
   ]
  },
  {
   "cell_type": "code",
   "execution_count": null,
   "id": "be78624c",
   "metadata": {},
   "outputs": [],
   "source": [
    "#!pip install imblearn"
   ]
  },
  {
   "cell_type": "code",
   "execution_count": 80,
   "id": "b32c12cf",
   "metadata": {},
   "outputs": [],
   "source": [
    "import numpy as np\n",
    "import pandas as pd\n",
    "import matplotlib.pyplot as plt\n",
    "from imblearn.combine import SMOTEENN\n",
    "from sklearn.decomposition import PCA\n",
    "from sklearn.impute import SimpleImputer\n",
    "from sklearn.model_selection import GridSearchCV\n",
    "from imblearn.pipeline import Pipeline as imbpipeline\n",
    "from sklearn.metrics import precision_score, make_scorer\n",
    "from imblearn.under_sampling import EditedNearestNeighbours\n",
    "from sklearn.naive_bayes import MultinomialNB, ComplementNB\n",
    "from sklearn.feature_extraction.text import TfidfVectorizer, CountVectorizer\n",
    "from sklearn.metrics import classification_report, confusion_matrix, ConfusionMatrixDisplay"
   ]
  },
  {
   "cell_type": "markdown",
   "id": "46ae30f0",
   "metadata": {},
   "source": [
    "Lo primero que hacemos es cargar los datasets que fueron creados en el notebook de preprocesamiento:"
   ]
  },
  {
   "cell_type": "code",
   "execution_count": 2,
   "id": "6bd65bef",
   "metadata": {},
   "outputs": [
    {
     "data": {
      "text/html": [
       "<div>\n",
       "<style scoped>\n",
       "    .dataframe tbody tr th:only-of-type {\n",
       "        vertical-align: middle;\n",
       "    }\n",
       "\n",
       "    .dataframe tbody tr th {\n",
       "        vertical-align: top;\n",
       "    }\n",
       "\n",
       "    .dataframe thead th {\n",
       "        text-align: right;\n",
       "    }\n",
       "</style>\n",
       "<table border=\"1\" class=\"dataframe\">\n",
       "  <thead>\n",
       "    <tr style=\"text-align: right;\">\n",
       "      <th></th>\n",
       "      <th>Unnamed: 0</th>\n",
       "      <th>problems_described</th>\n",
       "      <th>tokenized_abstracts</th>\n",
       "      <th>non_tokenized_abstracts</th>\n",
       "      <th>non_tokenized_entities</th>\n",
       "      <th>tokenized_entities</th>\n",
       "    </tr>\n",
       "  </thead>\n",
       "  <tbody>\n",
       "    <tr>\n",
       "      <th>8950</th>\n",
       "      <td>372</td>\n",
       "      <td>4</td>\n",
       "      <td>['amilorid', 'block', 'onset', 'acthinduc', 'h...</td>\n",
       "      <td>amilorid block onset acthinduc hypertens sheep...</td>\n",
       "      <td>amilorid acthinduc amilorid frusemid acth amil...</td>\n",
       "      <td>['amilorid', 'acthinduc', 'amilorid', 'frusemi...</td>\n",
       "    </tr>\n",
       "    <tr>\n",
       "      <th>1335</th>\n",
       "      <td>5417</td>\n",
       "      <td>5</td>\n",
       "      <td>['trial', 'brief', 'intermitt', 'neurolept', '...</td>\n",
       "      <td>trial brief intermitt neurolept prophylaxi sel...</td>\n",
       "      <td>depot oral depot depot oral depot</td>\n",
       "      <td>['depot', 'oral', 'depot', 'depot', 'oral', 'd...</td>\n",
       "    </tr>\n",
       "    <tr>\n",
       "      <th>2557</th>\n",
       "      <td>11669</td>\n",
       "      <td>3</td>\n",
       "      <td>['respiratori', 'muscl', 'involv', 'nemalin', ...</td>\n",
       "      <td>respiratori muscl involv nemalin myopathi boy ...</td>\n",
       "      <td>respiratori muscl boy muscl muscl biopsi respi...</td>\n",
       "      <td>['respiratori', 'muscl', 'boy', 'muscl', 'musc...</td>\n",
       "    </tr>\n",
       "    <tr>\n",
       "      <th>5373</th>\n",
       "      <td>2163</td>\n",
       "      <td>2</td>\n",
       "      <td>['incontin', 'rectal', 'prolaps', 'prospect', ...</td>\n",
       "      <td>incontin rectal prolaps prospect manometr pros...</td>\n",
       "      <td>rectal rectal rectal anal anal anorect anorect...</td>\n",
       "      <td>['rectal', 'rectal', 'rectal', 'anal', 'anal',...</td>\n",
       "    </tr>\n",
       "    <tr>\n",
       "      <th>1546</th>\n",
       "      <td>4745</td>\n",
       "      <td>1</td>\n",
       "      <td>['pneumocysti', 'carinii', 'pneumonia', 'prima...</td>\n",
       "      <td>pneumocysti carinii pneumonia primari brain tu...</td>\n",
       "      <td>brain tumor pneumocysti carinii brain tumor ca...</td>\n",
       "      <td>['brain', 'tumor', 'pneumocysti', 'carinii', '...</td>\n",
       "    </tr>\n",
       "  </tbody>\n",
       "</table>\n",
       "</div>"
      ],
      "text/plain": [
       "      Unnamed: 0  problems_described  \\\n",
       "8950         372                   4   \n",
       "1335        5417                   5   \n",
       "2557       11669                   3   \n",
       "5373        2163                   2   \n",
       "1546        4745                   1   \n",
       "\n",
       "                                    tokenized_abstracts  \\\n",
       "8950  ['amilorid', 'block', 'onset', 'acthinduc', 'h...   \n",
       "1335  ['trial', 'brief', 'intermitt', 'neurolept', '...   \n",
       "2557  ['respiratori', 'muscl', 'involv', 'nemalin', ...   \n",
       "5373  ['incontin', 'rectal', 'prolaps', 'prospect', ...   \n",
       "1546  ['pneumocysti', 'carinii', 'pneumonia', 'prima...   \n",
       "\n",
       "                                non_tokenized_abstracts  \\\n",
       "8950  amilorid block onset acthinduc hypertens sheep...   \n",
       "1335  trial brief intermitt neurolept prophylaxi sel...   \n",
       "2557  respiratori muscl involv nemalin myopathi boy ...   \n",
       "5373  incontin rectal prolaps prospect manometr pros...   \n",
       "1546  pneumocysti carinii pneumonia primari brain tu...   \n",
       "\n",
       "                                 non_tokenized_entities  \\\n",
       "8950  amilorid acthinduc amilorid frusemid acth amil...   \n",
       "1335                  depot oral depot depot oral depot   \n",
       "2557  respiratori muscl boy muscl muscl biopsi respi...   \n",
       "5373  rectal rectal rectal anal anal anorect anorect...   \n",
       "1546  brain tumor pneumocysti carinii brain tumor ca...   \n",
       "\n",
       "                                     tokenized_entities  \n",
       "8950  ['amilorid', 'acthinduc', 'amilorid', 'frusemi...  \n",
       "1335  ['depot', 'oral', 'depot', 'depot', 'oral', 'd...  \n",
       "2557  ['respiratori', 'muscl', 'boy', 'muscl', 'musc...  \n",
       "5373  ['rectal', 'rectal', 'rectal', 'anal', 'anal',...  \n",
       "1546  ['brain', 'tumor', 'pneumocysti', 'carinii', '...  "
      ]
     },
     "execution_count": 2,
     "metadata": {},
     "output_type": "execute_result"
    }
   ],
   "source": [
    "datos_train = pd.read_csv('train_Data.csv')\n",
    "datos_test = pd.read_csv('test_Data.csv')\n",
    "datos_train.sample(5)"
   ]
  },
  {
   "cell_type": "code",
   "execution_count": 3,
   "id": "a8f79dfe",
   "metadata": {},
   "outputs": [],
   "source": [
    "abstracts = datos_train['tokenized_abstracts']\n",
    "entities = datos_train['tokenized_entities']\n",
    "Y_train = datos_train['problems_described']"
   ]
  },
  {
   "cell_type": "markdown",
   "id": "77831c78",
   "metadata": {},
   "source": [
    "# TO DO: Describir el algoritmo X que van a utilizar"
   ]
  },
  {
   "cell_type": "code",
   "execution_count": 59,
   "id": "7271c34a",
   "metadata": {},
   "outputs": [],
   "source": [
    "# Definimos la metrica\n",
    "custom_scorer = make_scorer(precision_score, greater_is_better=True,  average='micro')"
   ]
  },
  {
   "cell_type": "markdown",
   "id": "ee4feca3",
   "metadata": {},
   "source": [
    "## Continuación del preprocesamiento\n",
    "Ahora, debemos definir la vectorización que se utilizará para los textos. De acuerdo a lo visto en el anterior notebook, para este algoritmo podemos utilizar TF-iDF o un Count-Vectorizer. Así las cosas, usaremos el primero para el modelo que se entrenará con medical abstracts y, el segundo, sobre el modelo que se entrenará sobre las entidades médicas obtenidas. En este último caso usamos Count-Vectorizer porque algunas palabras clave se repiten y podría ser perjudicial si se usa TF-iDF, ya que este algoritmo se basa en frecuencias.\n",
    "\n",
    "Las dos primeras pipelines se aplican sobre los medical abstracts mientras que, las dos siguientes, sobre las entidades médicas.\n",
    "### Pipeline 1: Vectorización con TF-iDF y undersampling."
   ]
  },
  {
   "cell_type": "markdown",
   "id": "515067ee",
   "metadata": {},
   "source": [
    "Para el proceso de vectorizar las entradas decidimos simplificar las opciones, limitando a que el modelo reciba tokens de palabras individuales (posteriormente algunos modelos podrán explorar 2-gramas o 3-gramas, dependiendo de las posibilidades computacionales). Por lo tanto se escogió TF-iDF para este paso. Las motivaciones detrás de esta elección son variadas. Lo primero es su notable superioridad ante modelos como bag-of-words que no tienen en cuenta la importancia relativa de una palabra dentro del corpus. TF-iDF además se comporta muy bien con las familias de modelos que exploraremos para este problema, como Naïve Bayes, según muestran Cahyani et al. [2].\n",
    "\n",
    "Asimismo, intentamos hacer undersampling de los datos que tenemos, usando técnicas de la librería <code>imblearn</code>. En este caso, usaremos la técnica <code>EditedNearestNeighbors</code>, el cual aplica un algoritmo de KNN (por defecto, 3) y edita el conjunto de datos al remover las muestras que no están lo suficientemente de acuerdo con su vecindario. Para cada muestra de la clase a la que se le aplicará undersampling, se computan los vecinos más cercanos y si el criterio de selección no se cumple, la muestra se elimina. En este caso, el número de vecinos sería un hiperparámetro, pero consideramos más importante ajustar los del algoritmo per se que utilizaremos."
   ]
  },
  {
   "cell_type": "code",
   "execution_count": 37,
   "id": "3b387ea5",
   "metadata": {},
   "outputs": [
    {
     "data": {
      "text/plain": [
       "Pipeline(steps=[('tf_idf_vec', TfidfVectorizer()),\n",
       "                ('sampling', EditedNearestNeighbours()),\n",
       "                ('algorithm', MultinomialNB())])"
      ]
     },
     "execution_count": 37,
     "metadata": {},
     "output_type": "execute_result"
    }
   ],
   "source": [
    "tfidf_subsampling_pipe = imbpipeline(steps = [\n",
    "    (\"tf_idf_vec\",TfidfVectorizer()),\n",
    "    (\"sampling\", EditedNearestNeighbours()),\n",
    "    (\"algorithm\", MultinomialNB())\n",
    "])\n",
    "tfidf_subsampling_pipe"
   ]
  },
  {
   "cell_type": "code",
   "execution_count": 50,
   "id": "212fe275",
   "metadata": {},
   "outputs": [],
   "source": [
    "param_grid = {\"algorithm__alpha\": [0.05, 0.5, 1],\n",
    "              \"algorithm__fit_prior\": (True, False),\n",
    "             \"tf_idf_vec__ngram_range\": [(1,1),(1,2),(1,3)]}"
   ]
  },
  {
   "cell_type": "code",
   "execution_count": 60,
   "id": "dae2f504",
   "metadata": {},
   "outputs": [],
   "source": [
    "tfidf_subsampling_model = GridSearchCV(estimator = tfidf_subsampling_pipe, \n",
    "                             param_grid = param_grid, \n",
    "                             cv=2, verbose=3,\n",
    "                             scoring=custom_scorer)"
   ]
  },
  {
   "cell_type": "code",
   "execution_count": 61,
   "id": "72703ebd",
   "metadata": {},
   "outputs": [
    {
     "name": "stdout",
     "output_type": "stream",
     "text": [
      "Fitting 2 folds for each of 18 candidates, totalling 36 fits\n",
      "[CV 1/2] END algorithm__alpha=0.05, algorithm__fit_prior=True, tf_idf_vec__ngram_range=(1, 1);, score=0.399 total time=   2.3s\n",
      "[CV 2/2] END algorithm__alpha=0.05, algorithm__fit_prior=True, tf_idf_vec__ngram_range=(1, 1);, score=0.414 total time=   2.2s\n",
      "[CV 1/2] END algorithm__alpha=0.05, algorithm__fit_prior=True, tf_idf_vec__ngram_range=(1, 2);, score=0.297 total time=   5.8s\n",
      "[CV 2/2] END algorithm__alpha=0.05, algorithm__fit_prior=True, tf_idf_vec__ngram_range=(1, 2);, score=0.345 total time=   5.7s\n",
      "[CV 1/2] END algorithm__alpha=0.05, algorithm__fit_prior=True, tf_idf_vec__ngram_range=(1, 3);, score=0.298 total time=  10.9s\n",
      "[CV 2/2] END algorithm__alpha=0.05, algorithm__fit_prior=True, tf_idf_vec__ngram_range=(1, 3);, score=0.332 total time=  10.5s\n",
      "[CV 1/2] END algorithm__alpha=0.05, algorithm__fit_prior=False, tf_idf_vec__ngram_range=(1, 1);, score=0.458 total time=   2.2s\n",
      "[CV 2/2] END algorithm__alpha=0.05, algorithm__fit_prior=False, tf_idf_vec__ngram_range=(1, 1);, score=0.475 total time=   2.2s\n",
      "[CV 1/2] END algorithm__alpha=0.05, algorithm__fit_prior=False, tf_idf_vec__ngram_range=(1, 2);, score=0.347 total time=   5.5s\n",
      "[CV 2/2] END algorithm__alpha=0.05, algorithm__fit_prior=False, tf_idf_vec__ngram_range=(1, 2);, score=0.388 total time=   5.6s\n",
      "[CV 1/2] END algorithm__alpha=0.05, algorithm__fit_prior=False, tf_idf_vec__ngram_range=(1, 3);, score=0.344 total time=  10.7s\n",
      "[CV 2/2] END algorithm__alpha=0.05, algorithm__fit_prior=False, tf_idf_vec__ngram_range=(1, 3);, score=0.378 total time=  11.1s\n",
      "[CV 1/2] END algorithm__alpha=0.5, algorithm__fit_prior=True, tf_idf_vec__ngram_range=(1, 1);, score=0.243 total time=   2.6s\n",
      "[CV 2/2] END algorithm__alpha=0.5, algorithm__fit_prior=True, tf_idf_vec__ngram_range=(1, 1);, score=0.245 total time=   3.0s\n",
      "[CV 1/2] END algorithm__alpha=0.5, algorithm__fit_prior=True, tf_idf_vec__ngram_range=(1, 2);, score=0.208 total time=   6.1s\n",
      "[CV 2/2] END algorithm__alpha=0.5, algorithm__fit_prior=True, tf_idf_vec__ngram_range=(1, 2);, score=0.231 total time=   6.3s\n",
      "[CV 1/2] END algorithm__alpha=0.5, algorithm__fit_prior=True, tf_idf_vec__ngram_range=(1, 3);, score=0.212 total time=  11.1s\n",
      "[CV 2/2] END algorithm__alpha=0.5, algorithm__fit_prior=True, tf_idf_vec__ngram_range=(1, 3);, score=0.220 total time=  10.5s\n",
      "[CV 1/2] END algorithm__alpha=0.5, algorithm__fit_prior=False, tf_idf_vec__ngram_range=(1, 1);, score=0.336 total time=   2.5s\n",
      "[CV 2/2] END algorithm__alpha=0.5, algorithm__fit_prior=False, tf_idf_vec__ngram_range=(1, 1);, score=0.341 total time=   2.4s\n",
      "[CV 1/2] END algorithm__alpha=0.5, algorithm__fit_prior=False, tf_idf_vec__ngram_range=(1, 2);, score=0.289 total time=   5.9s\n",
      "[CV 2/2] END algorithm__alpha=0.5, algorithm__fit_prior=False, tf_idf_vec__ngram_range=(1, 2);, score=0.324 total time=   6.1s\n",
      "[CV 1/2] END algorithm__alpha=0.5, algorithm__fit_prior=False, tf_idf_vec__ngram_range=(1, 3);, score=0.299 total time=  10.3s\n",
      "[CV 2/2] END algorithm__alpha=0.5, algorithm__fit_prior=False, tf_idf_vec__ngram_range=(1, 3);, score=0.323 total time=  10.4s\n",
      "[CV 1/2] END algorithm__alpha=1, algorithm__fit_prior=True, tf_idf_vec__ngram_range=(1, 1);, score=0.202 total time=   2.3s\n",
      "[CV 2/2] END algorithm__alpha=1, algorithm__fit_prior=True, tf_idf_vec__ngram_range=(1, 1);, score=0.203 total time=   2.2s\n",
      "[CV 1/2] END algorithm__alpha=1, algorithm__fit_prior=True, tf_idf_vec__ngram_range=(1, 2);, score=0.184 total time=   5.5s\n",
      "[CV 2/2] END algorithm__alpha=1, algorithm__fit_prior=True, tf_idf_vec__ngram_range=(1, 2);, score=0.191 total time=   5.6s\n",
      "[CV 1/2] END algorithm__alpha=1, algorithm__fit_prior=True, tf_idf_vec__ngram_range=(1, 3);, score=0.185 total time=  10.3s\n",
      "[CV 2/2] END algorithm__alpha=1, algorithm__fit_prior=True, tf_idf_vec__ngram_range=(1, 3);, score=0.177 total time=  11.7s\n",
      "[CV 1/2] END algorithm__alpha=1, algorithm__fit_prior=False, tf_idf_vec__ngram_range=(1, 1);, score=0.317 total time=   3.2s\n",
      "[CV 2/2] END algorithm__alpha=1, algorithm__fit_prior=False, tf_idf_vec__ngram_range=(1, 1);, score=0.321 total time=   3.2s\n",
      "[CV 1/2] END algorithm__alpha=1, algorithm__fit_prior=False, tf_idf_vec__ngram_range=(1, 2);, score=0.285 total time=   7.9s\n",
      "[CV 2/2] END algorithm__alpha=1, algorithm__fit_prior=False, tf_idf_vec__ngram_range=(1, 2);, score=0.319 total time=   6.9s\n",
      "[CV 1/2] END algorithm__alpha=1, algorithm__fit_prior=False, tf_idf_vec__ngram_range=(1, 3);, score=0.298 total time=  14.0s\n",
      "[CV 2/2] END algorithm__alpha=1, algorithm__fit_prior=False, tf_idf_vec__ngram_range=(1, 3);, score=0.320 total time=  10.5s\n"
     ]
    },
    {
     "data": {
      "text/plain": [
       "GridSearchCV(cv=2,\n",
       "             estimator=Pipeline(steps=[('tf_idf_vec', TfidfVectorizer()),\n",
       "                                       ('sampling', EditedNearestNeighbours()),\n",
       "                                       ('algorithm', MultinomialNB())]),\n",
       "             param_grid={'algorithm__alpha': [0.05, 0.5, 1],\n",
       "                         'algorithm__fit_prior': (True, False),\n",
       "                         'tf_idf_vec__ngram_range': [(1, 1), (1, 2), (1, 3)]},\n",
       "             scoring=make_scorer(precision_score, average=micro), verbose=3)"
      ]
     },
     "execution_count": 61,
     "metadata": {},
     "output_type": "execute_result"
    }
   ],
   "source": [
    "tfidf_subsampling_model.fit(abstracts, Y_train)"
   ]
  },
  {
   "cell_type": "code",
   "execution_count": 62,
   "id": "157dfb1a",
   "metadata": {},
   "outputs": [
    {
     "data": {
      "text/plain": [
       "{'algorithm__alpha': 0.05,\n",
       " 'algorithm__fit_prior': False,\n",
       " 'tf_idf_vec__ngram_range': (1, 1)}"
      ]
     },
     "execution_count": 62,
     "metadata": {},
     "output_type": "execute_result"
    }
   ],
   "source": [
    "#Para imprimir los mejores parametros:\n",
    "tfidf_subsampling_model.best_params_"
   ]
  },
  {
   "cell_type": "code",
   "execution_count": 81,
   "id": "97008aca",
   "metadata": {},
   "outputs": [
    {
     "name": "stdout",
     "output_type": "stream",
     "text": [
      "Test Report for Multinomial NB Pipe 1\n",
      "               precision    recall  f1-score   support\n",
      "\n",
      "           1       0.68      0.75      0.71      2103\n",
      "           2       0.33      0.98      0.49       994\n",
      "           3       0.68      0.30      0.42      1280\n",
      "           4       0.62      0.81      0.70      2029\n",
      "           5       0.68      0.24      0.36      3194\n",
      "\n",
      "    accuracy                           0.56      9600\n",
      "   macro avg       0.60      0.62      0.54      9600\n",
      "weighted avg       0.63      0.56      0.53      9600\n",
      "\n"
     ]
    },
    {
     "data": {
      "text/plain": [
       "<sklearn.metrics._plot.confusion_matrix.ConfusionMatrixDisplay at 0x14c308a90>"
      ]
     },
     "execution_count": 81,
     "metadata": {},
     "output_type": "execute_result"
    },
    {
     "data": {
      "image/png": "[encoded data removed]",
      "text/plain": [
       "<Figure size 432x288 with 2 Axes>"
      ]
     },
     "metadata": {
      "needs_background": "light"
     },
     "output_type": "display_data"
    }
   ],
   "source": [
    "y_pred_tfidf_subsampling = tfidf_subsampling_model.predict(abstracts)\n",
    "report_pipe_p1 = classification_report(Y_train, y_pred_tfidf_subsampling)\n",
    "print(\"Test Report for Multinomial NB Pipe 1\\n\", report_pipe_p1)\n",
    "cm = confusion_matrix(Y_train, y_pred_tfidf_subsampling)\n",
    "disp = ConfusionMatrixDisplay(confusion_matrix=cm, display_labels= tfidf_subsampling_model.classes_)\n",
    "disp.plot()"
   ]
  },
  {
   "cell_type": "markdown",
   "id": "b2c6da5e",
   "metadata": {},
   "source": [
    "# TO DO: Comentar el resultado"
   ]
  },
  {
   "cell_type": "markdown",
   "id": "7a1c8795",
   "metadata": {},
   "source": [
    "### Pipeline 2: Vectorización con TF-iDF y oversampling (+ reducción de dimensionalidad)"
   ]
  },
  {
   "cell_type": "markdown",
   "id": "f57e2e55",
   "metadata": {},
   "source": [
    "Usaremos TF-iDF también en este caso, pero en lugar de hacer undersampling, utilizaremos un algoritmo de oversampling. En este caso, utilizaremos una variación de SMOTE, denominada SMOTEENN para evitar generar muestras ruidosas [6]. Este algoritmo, en realidad, usa una mezcla de under y oversampling.\n",
    "\n",
    "Finalmente, como aplicamos esta pipeline sobre los textos médicos (y no sobre las entidades extraídas), conviene hacer reducción de dimensionalidad. En este caso, utilizaremos PCA <font color='red'>buscar qué hace PCA muy resumidamente</font> y mantendremos el 95% de la varianza de las componentes, lo que nos da una buena probabilidad de que los features elegidos no sean independientes de la variable objetivo. Así,"
   ]
  },
  {
   "cell_type": "code",
   "execution_count": null,
   "id": "cce2fbd5",
   "metadata": {},
   "outputs": [],
   "source": [
    "tfidf_oversampling_pipe = imbpipeline(steps = [\n",
    "    (\"tf_idf_vec\",TfidfVectorizer()),\n",
    "    (\"sampling\", SMOTEENN(random_state=28)),\n",
    "    (\"dim_red\", PCA(n_components=0.95)),\n",
    "    (\"algorithm\", MultinomialNB())\n",
    "])\n",
    "tfidf_oversampling_pipe"
   ]
  },
  {
   "cell_type": "markdown",
   "id": "963a147e",
   "metadata": {},
   "source": [
    "### Pipeline 3: Sin resampling, usando TF-iDF (solo para Álvaro)\n",
    "El algoritmo de Naïve-Bayes, en particular, tiene una variante, denominada NBComplement() que nos permite lidiar con el problema de desbalance de clases sin necesidad de acudir a técnicas de resampling. Usamos PCA también para reducir un poco la dimensionalidad:"
   ]
  },
  {
   "cell_type": "code",
   "execution_count": null,
   "id": "b0e0c0ec",
   "metadata": {},
   "outputs": [],
   "source": [
    "tf_idf_sin_oversampling = imbpipeline(steps = [\n",
    "    (\"tf_idf_vec\",TfidfVectorizer()),\n",
    "    (\"dim_red\", PCA(n_components=0.95)),\n",
    "    (\"algorithm\", ComplementNB())\n",
    "])\n",
    "tf_idf_sin_oversampling"
   ]
  },
  {
   "cell_type": "markdown",
   "id": "020abec5",
   "metadata": {},
   "source": [
    "### Pipeline 4: Vectorización con Count-Vectorizer y subsampling.\n",
    "Como dijimos previamente, usamos CountVectorizer puesto que en las entidades médicas las palabras importantes salen varias veces repetidas en el arreglo y queremos evitar reducir su importancia usando TF-iDF. En este caso, es necesario eliminar registros nulos, en caso de que los haya, si la librería no extrajo ninguna palabra relevante de alguna reseña en particular.\n",
    "<font color='red'>Buscar aquí de qué trata Count-Vectorizer</font>\n",
    "\n",
    "Usamos el mismo algoritmo de subsampling utilizado previamente:"
   ]
  },
  {
   "cell_type": "code",
   "execution_count": 7,
   "id": "2713b4fe",
   "metadata": {},
   "outputs": [],
   "source": [
    "def drop_na(df):\n",
    "    return df[df['non_tokenized_entities'] != '']\n",
    "\n",
    "datos_train_new = drop_na(datos_train)\n",
    "entities = datos_train_new['tokenized_entities']\n",
    "Y_train_new = datos_train_new['problems_described']"
   ]
  },
  {
   "cell_type": "code",
   "execution_count": 8,
   "id": "c0abbdd5",
   "metadata": {},
   "outputs": [
    {
     "data": {
      "text/plain": [
       "Pipeline(steps=[('count_vec', CountVectorizer()),\n",
       "                ('sampling', EditedNearestNeighbours()),\n",
       "                ('algorithm', MultinomialNB())])"
      ]
     },
     "execution_count": 8,
     "metadata": {},
     "output_type": "execute_result"
    }
   ],
   "source": [
    "count_subsampling_pipe = imbpipeline(steps = [\n",
    "    (\"count_vec\",CountVectorizer()),\n",
    "    (\"sampling\", EditedNearestNeighbours()),\n",
    "    (\"algorithm\", MultinomialNB())\n",
    "])\n",
    "count_subsampling_pipe"
   ]
  },
  {
   "cell_type": "code",
   "execution_count": 26,
   "id": "d67291bc",
   "metadata": {},
   "outputs": [],
   "source": [
    "param_grid = {\"algorithm__alpha\": [0.05, 0.5, 1],\n",
    "              \"algorithm__fit_prior\": (True, False),\n",
    "             \"count_vec__ngram_range\": [(1,1),(1,2),(1,3)]}"
   ]
  },
  {
   "cell_type": "code",
   "execution_count": 33,
   "id": "971b879b",
   "metadata": {},
   "outputs": [],
   "source": [
    "count_subsampling_model = GridSearchCV(estimator = count_subsampling_pipe, \n",
    "                             param_grid = param_grid, \n",
    "                             cv=2, verbose=3,\n",
    "                             scoring=custom_scorer)"
   ]
  },
  {
   "cell_type": "code",
   "execution_count": 34,
   "id": "8ce7cc2e",
   "metadata": {},
   "outputs": [
    {
     "name": "stdout",
     "output_type": "stream",
     "text": [
      "Fitting 2 folds for each of 114 candidates, totalling 228 fits\n",
      "[CV 1/2] END algorithm__alpha=0.05, algorithm__fit_prior=True, count_vec__ngram_range=(1, 1);, score=0.493 total time=   0.7s\n",
      "[CV 2/2] END algorithm__alpha=0.05, algorithm__fit_prior=True, count_vec__ngram_range=(1, 1);, score=0.491 total time=   0.8s\n",
      "[CV 1/2] END algorithm__alpha=0.05, algorithm__fit_prior=True, count_vec__ngram_range=(1, 2);, score=0.494 total time=   1.2s\n",
      "[CV 2/2] END algorithm__alpha=0.05, algorithm__fit_prior=True, count_vec__ngram_range=(1, 2);, score=0.500 total time=   1.2s\n"
     ]
    },
    {
     "ename": "KeyboardInterrupt",
     "evalue": "",
     "output_type": "error",
     "traceback": [
      "\u001b[0;31m---------------------------------------------------------------------------\u001b[0m",
      "\u001b[0;31mKeyError\u001b[0m                                  Traceback (most recent call last)",
      "File \u001b[0;32m/usr/local/lib/python3.9/site-packages/sklearn/feature_extraction/text.py:1203\u001b[0m, in \u001b[0;36mCountVectorizer._count_vocab\u001b[0;34m(self, raw_documents, fixed_vocab)\u001b[0m\n\u001b[1;32m   1202\u001b[0m \u001b[38;5;28;01mtry\u001b[39;00m:\n\u001b[0;32m-> 1203\u001b[0m     feature_idx \u001b[38;5;241m=\u001b[39m \u001b[43mvocabulary\u001b[49m\u001b[43m[\u001b[49m\u001b[43mfeature\u001b[49m\u001b[43m]\u001b[49m\n\u001b[1;32m   1204\u001b[0m     \u001b[38;5;28;01mif\u001b[39;00m feature_idx \u001b[38;5;129;01mnot\u001b[39;00m \u001b[38;5;129;01min\u001b[39;00m feature_counter:\n",
      "\u001b[0;31mKeyError\u001b[0m: 'bloodnerve barrier'",
      "\nDuring handling of the above exception, another exception occurred:\n",
      "\u001b[0;31mKeyboardInterrupt\u001b[0m                         Traceback (most recent call last)",
      "Input \u001b[0;32mIn [34]\u001b[0m, in \u001b[0;36m<cell line: 1>\u001b[0;34m()\u001b[0m\n\u001b[0;32m----> 1\u001b[0m \u001b[43mcount_subsampling_model\u001b[49m\u001b[38;5;241;43m.\u001b[39;49m\u001b[43mfit\u001b[49m\u001b[43m(\u001b[49m\u001b[43mentities\u001b[49m\u001b[43m,\u001b[49m\u001b[43m \u001b[49m\u001b[43mY_train\u001b[49m\u001b[43m)\u001b[49m\n",
      "File \u001b[0;32m/usr/local/lib/python3.9/site-packages/sklearn/model_selection/_search.py:891\u001b[0m, in \u001b[0;36mBaseSearchCV.fit\u001b[0;34m(self, X, y, groups, **fit_params)\u001b[0m\n\u001b[1;32m    885\u001b[0m     results \u001b[38;5;241m=\u001b[39m \u001b[38;5;28mself\u001b[39m\u001b[38;5;241m.\u001b[39m_format_results(\n\u001b[1;32m    886\u001b[0m         all_candidate_params, n_splits, all_out, all_more_results\n\u001b[1;32m    887\u001b[0m     )\n\u001b[1;32m    889\u001b[0m     \u001b[38;5;28;01mreturn\u001b[39;00m results\n\u001b[0;32m--> 891\u001b[0m \u001b[38;5;28;43mself\u001b[39;49m\u001b[38;5;241;43m.\u001b[39;49m\u001b[43m_run_search\u001b[49m\u001b[43m(\u001b[49m\u001b[43mevaluate_candidates\u001b[49m\u001b[43m)\u001b[49m\n\u001b[1;32m    893\u001b[0m \u001b[38;5;66;03m# multimetric is determined here because in the case of a callable\u001b[39;00m\n\u001b[1;32m    894\u001b[0m \u001b[38;5;66;03m# self.scoring the return type is only known after calling\u001b[39;00m\n\u001b[1;32m    895\u001b[0m first_test_score \u001b[38;5;241m=\u001b[39m all_out[\u001b[38;5;241m0\u001b[39m][\u001b[38;5;124m\"\u001b[39m\u001b[38;5;124mtest_scores\u001b[39m\u001b[38;5;124m\"\u001b[39m]\n",
      "File \u001b[0;32m/usr/local/lib/python3.9/site-packages/sklearn/model_selection/_search.py:1392\u001b[0m, in \u001b[0;36mGridSearchCV._run_search\u001b[0;34m(self, evaluate_candidates)\u001b[0m\n\u001b[1;32m   1390\u001b[0m \u001b[38;5;28;01mdef\u001b[39;00m \u001b[38;5;21m_run_search\u001b[39m(\u001b[38;5;28mself\u001b[39m, evaluate_candidates):\n\u001b[1;32m   1391\u001b[0m     \u001b[38;5;124;03m\"\"\"Search all candidates in param_grid\"\"\"\u001b[39;00m\n\u001b[0;32m-> 1392\u001b[0m     \u001b[43mevaluate_candidates\u001b[49m\u001b[43m(\u001b[49m\u001b[43mParameterGrid\u001b[49m\u001b[43m(\u001b[49m\u001b[38;5;28;43mself\u001b[39;49m\u001b[38;5;241;43m.\u001b[39;49m\u001b[43mparam_grid\u001b[49m\u001b[43m)\u001b[49m\u001b[43m)\u001b[49m\n",
      "File \u001b[0;32m/usr/local/lib/python3.9/site-packages/sklearn/model_selection/_search.py:838\u001b[0m, in \u001b[0;36mBaseSearchCV.fit.<locals>.evaluate_candidates\u001b[0;34m(candidate_params, cv, more_results)\u001b[0m\n\u001b[1;32m    830\u001b[0m \u001b[38;5;28;01mif\u001b[39;00m \u001b[38;5;28mself\u001b[39m\u001b[38;5;241m.\u001b[39mverbose \u001b[38;5;241m>\u001b[39m \u001b[38;5;241m0\u001b[39m:\n\u001b[1;32m    831\u001b[0m     \u001b[38;5;28mprint\u001b[39m(\n\u001b[1;32m    832\u001b[0m         \u001b[38;5;124m\"\u001b[39m\u001b[38;5;124mFitting \u001b[39m\u001b[38;5;132;01m{0}\u001b[39;00m\u001b[38;5;124m folds for each of \u001b[39m\u001b[38;5;132;01m{1}\u001b[39;00m\u001b[38;5;124m candidates,\u001b[39m\u001b[38;5;124m\"\u001b[39m\n\u001b[1;32m    833\u001b[0m         \u001b[38;5;124m\"\u001b[39m\u001b[38;5;124m totalling \u001b[39m\u001b[38;5;132;01m{2}\u001b[39;00m\u001b[38;5;124m fits\u001b[39m\u001b[38;5;124m\"\u001b[39m\u001b[38;5;241m.\u001b[39mformat(\n\u001b[1;32m    834\u001b[0m             n_splits, n_candidates, n_candidates \u001b[38;5;241m*\u001b[39m n_splits\n\u001b[1;32m    835\u001b[0m         )\n\u001b[1;32m    836\u001b[0m     )\n\u001b[0;32m--> 838\u001b[0m out \u001b[38;5;241m=\u001b[39m \u001b[43mparallel\u001b[49m\u001b[43m(\u001b[49m\n\u001b[1;32m    839\u001b[0m \u001b[43m    \u001b[49m\u001b[43mdelayed\u001b[49m\u001b[43m(\u001b[49m\u001b[43m_fit_and_score\u001b[49m\u001b[43m)\u001b[49m\u001b[43m(\u001b[49m\n\u001b[1;32m    840\u001b[0m \u001b[43m        \u001b[49m\u001b[43mclone\u001b[49m\u001b[43m(\u001b[49m\u001b[43mbase_estimator\u001b[49m\u001b[43m)\u001b[49m\u001b[43m,\u001b[49m\n\u001b[1;32m    841\u001b[0m \u001b[43m        \u001b[49m\u001b[43mX\u001b[49m\u001b[43m,\u001b[49m\n\u001b[1;32m    842\u001b[0m \u001b[43m        \u001b[49m\u001b[43my\u001b[49m\u001b[43m,\u001b[49m\n\u001b[1;32m    843\u001b[0m \u001b[43m        \u001b[49m\u001b[43mtrain\u001b[49m\u001b[38;5;241;43m=\u001b[39;49m\u001b[43mtrain\u001b[49m\u001b[43m,\u001b[49m\n\u001b[1;32m    844\u001b[0m \u001b[43m        \u001b[49m\u001b[43mtest\u001b[49m\u001b[38;5;241;43m=\u001b[39;49m\u001b[43mtest\u001b[49m\u001b[43m,\u001b[49m\n\u001b[1;32m    845\u001b[0m \u001b[43m        \u001b[49m\u001b[43mparameters\u001b[49m\u001b[38;5;241;43m=\u001b[39;49m\u001b[43mparameters\u001b[49m\u001b[43m,\u001b[49m\n\u001b[1;32m    846\u001b[0m \u001b[43m        \u001b[49m\u001b[43msplit_progress\u001b[49m\u001b[38;5;241;43m=\u001b[39;49m\u001b[43m(\u001b[49m\u001b[43msplit_idx\u001b[49m\u001b[43m,\u001b[49m\u001b[43m \u001b[49m\u001b[43mn_splits\u001b[49m\u001b[43m)\u001b[49m\u001b[43m,\u001b[49m\n\u001b[1;32m    847\u001b[0m \u001b[43m        \u001b[49m\u001b[43mcandidate_progress\u001b[49m\u001b[38;5;241;43m=\u001b[39;49m\u001b[43m(\u001b[49m\u001b[43mcand_idx\u001b[49m\u001b[43m,\u001b[49m\u001b[43m \u001b[49m\u001b[43mn_candidates\u001b[49m\u001b[43m)\u001b[49m\u001b[43m,\u001b[49m\n\u001b[1;32m    848\u001b[0m \u001b[43m        \u001b[49m\u001b[38;5;241;43m*\u001b[39;49m\u001b[38;5;241;43m*\u001b[39;49m\u001b[43mfit_and_score_kwargs\u001b[49m\u001b[43m,\u001b[49m\n\u001b[1;32m    849\u001b[0m \u001b[43m    \u001b[49m\u001b[43m)\u001b[49m\n\u001b[1;32m    850\u001b[0m \u001b[43m    \u001b[49m\u001b[38;5;28;43;01mfor\u001b[39;49;00m\u001b[43m \u001b[49m\u001b[43m(\u001b[49m\u001b[43mcand_idx\u001b[49m\u001b[43m,\u001b[49m\u001b[43m \u001b[49m\u001b[43mparameters\u001b[49m\u001b[43m)\u001b[49m\u001b[43m,\u001b[49m\u001b[43m \u001b[49m\u001b[43m(\u001b[49m\u001b[43msplit_idx\u001b[49m\u001b[43m,\u001b[49m\u001b[43m \u001b[49m\u001b[43m(\u001b[49m\u001b[43mtrain\u001b[49m\u001b[43m,\u001b[49m\u001b[43m \u001b[49m\u001b[43mtest\u001b[49m\u001b[43m)\u001b[49m\u001b[43m)\u001b[49m\u001b[43m \u001b[49m\u001b[38;5;129;43;01min\u001b[39;49;00m\u001b[43m \u001b[49m\u001b[43mproduct\u001b[49m\u001b[43m(\u001b[49m\n\u001b[1;32m    851\u001b[0m \u001b[43m        \u001b[49m\u001b[38;5;28;43menumerate\u001b[39;49m\u001b[43m(\u001b[49m\u001b[43mcandidate_params\u001b[49m\u001b[43m)\u001b[49m\u001b[43m,\u001b[49m\u001b[43m \u001b[49m\u001b[38;5;28;43menumerate\u001b[39;49m\u001b[43m(\u001b[49m\u001b[43mcv\u001b[49m\u001b[38;5;241;43m.\u001b[39;49m\u001b[43msplit\u001b[49m\u001b[43m(\u001b[49m\u001b[43mX\u001b[49m\u001b[43m,\u001b[49m\u001b[43m \u001b[49m\u001b[43my\u001b[49m\u001b[43m,\u001b[49m\u001b[43m \u001b[49m\u001b[43mgroups\u001b[49m\u001b[43m)\u001b[49m\u001b[43m)\u001b[49m\n\u001b[1;32m    852\u001b[0m \u001b[43m    \u001b[49m\u001b[43m)\u001b[49m\n\u001b[1;32m    853\u001b[0m \u001b[43m\u001b[49m\u001b[43m)\u001b[49m\n\u001b[1;32m    855\u001b[0m \u001b[38;5;28;01mif\u001b[39;00m \u001b[38;5;28mlen\u001b[39m(out) \u001b[38;5;241m<\u001b[39m \u001b[38;5;241m1\u001b[39m:\n\u001b[1;32m    856\u001b[0m     \u001b[38;5;28;01mraise\u001b[39;00m \u001b[38;5;167;01mValueError\u001b[39;00m(\n\u001b[1;32m    857\u001b[0m         \u001b[38;5;124m\"\u001b[39m\u001b[38;5;124mNo fits were performed. \u001b[39m\u001b[38;5;124m\"\u001b[39m\n\u001b[1;32m    858\u001b[0m         \u001b[38;5;124m\"\u001b[39m\u001b[38;5;124mWas the CV iterator empty? \u001b[39m\u001b[38;5;124m\"\u001b[39m\n\u001b[1;32m    859\u001b[0m         \u001b[38;5;124m\"\u001b[39m\u001b[38;5;124mWere there no candidates?\u001b[39m\u001b[38;5;124m\"\u001b[39m\n\u001b[1;32m    860\u001b[0m     )\n",
      "File \u001b[0;32m/usr/local/lib/python3.9/site-packages/joblib/parallel.py:1044\u001b[0m, in \u001b[0;36mParallel.__call__\u001b[0;34m(self, iterable)\u001b[0m\n\u001b[1;32m   1041\u001b[0m \u001b[38;5;28;01mif\u001b[39;00m \u001b[38;5;28mself\u001b[39m\u001b[38;5;241m.\u001b[39mdispatch_one_batch(iterator):\n\u001b[1;32m   1042\u001b[0m     \u001b[38;5;28mself\u001b[39m\u001b[38;5;241m.\u001b[39m_iterating \u001b[38;5;241m=\u001b[39m \u001b[38;5;28mself\u001b[39m\u001b[38;5;241m.\u001b[39m_original_iterator \u001b[38;5;129;01mis\u001b[39;00m \u001b[38;5;129;01mnot\u001b[39;00m \u001b[38;5;28;01mNone\u001b[39;00m\n\u001b[0;32m-> 1044\u001b[0m \u001b[38;5;28;01mwhile\u001b[39;00m \u001b[38;5;28;43mself\u001b[39;49m\u001b[38;5;241;43m.\u001b[39;49m\u001b[43mdispatch_one_batch\u001b[49m\u001b[43m(\u001b[49m\u001b[43miterator\u001b[49m\u001b[43m)\u001b[49m:\n\u001b[1;32m   1045\u001b[0m     \u001b[38;5;28;01mpass\u001b[39;00m\n\u001b[1;32m   1047\u001b[0m \u001b[38;5;28;01mif\u001b[39;00m pre_dispatch \u001b[38;5;241m==\u001b[39m \u001b[38;5;124m\"\u001b[39m\u001b[38;5;124mall\u001b[39m\u001b[38;5;124m\"\u001b[39m \u001b[38;5;129;01mor\u001b[39;00m n_jobs \u001b[38;5;241m==\u001b[39m \u001b[38;5;241m1\u001b[39m:\n\u001b[1;32m   1048\u001b[0m     \u001b[38;5;66;03m# The iterable was consumed all at once by the above for loop.\u001b[39;00m\n\u001b[1;32m   1049\u001b[0m     \u001b[38;5;66;03m# No need to wait for async callbacks to trigger to\u001b[39;00m\n\u001b[1;32m   1050\u001b[0m     \u001b[38;5;66;03m# consumption.\u001b[39;00m\n",
      "File \u001b[0;32m/usr/local/lib/python3.9/site-packages/joblib/parallel.py:859\u001b[0m, in \u001b[0;36mParallel.dispatch_one_batch\u001b[0;34m(self, iterator)\u001b[0m\n\u001b[1;32m    857\u001b[0m     \u001b[38;5;28;01mreturn\u001b[39;00m \u001b[38;5;28;01mFalse\u001b[39;00m\n\u001b[1;32m    858\u001b[0m \u001b[38;5;28;01melse\u001b[39;00m:\n\u001b[0;32m--> 859\u001b[0m     \u001b[38;5;28;43mself\u001b[39;49m\u001b[38;5;241;43m.\u001b[39;49m\u001b[43m_dispatch\u001b[49m\u001b[43m(\u001b[49m\u001b[43mtasks\u001b[49m\u001b[43m)\u001b[49m\n\u001b[1;32m    860\u001b[0m     \u001b[38;5;28;01mreturn\u001b[39;00m \u001b[38;5;28;01mTrue\u001b[39;00m\n",
      "File \u001b[0;32m/usr/local/lib/python3.9/site-packages/joblib/parallel.py:777\u001b[0m, in \u001b[0;36mParallel._dispatch\u001b[0;34m(self, batch)\u001b[0m\n\u001b[1;32m    775\u001b[0m \u001b[38;5;28;01mwith\u001b[39;00m \u001b[38;5;28mself\u001b[39m\u001b[38;5;241m.\u001b[39m_lock:\n\u001b[1;32m    776\u001b[0m     job_idx \u001b[38;5;241m=\u001b[39m \u001b[38;5;28mlen\u001b[39m(\u001b[38;5;28mself\u001b[39m\u001b[38;5;241m.\u001b[39m_jobs)\n\u001b[0;32m--> 777\u001b[0m     job \u001b[38;5;241m=\u001b[39m \u001b[38;5;28;43mself\u001b[39;49m\u001b[38;5;241;43m.\u001b[39;49m\u001b[43m_backend\u001b[49m\u001b[38;5;241;43m.\u001b[39;49m\u001b[43mapply_async\u001b[49m\u001b[43m(\u001b[49m\u001b[43mbatch\u001b[49m\u001b[43m,\u001b[49m\u001b[43m \u001b[49m\u001b[43mcallback\u001b[49m\u001b[38;5;241;43m=\u001b[39;49m\u001b[43mcb\u001b[49m\u001b[43m)\u001b[49m\n\u001b[1;32m    778\u001b[0m     \u001b[38;5;66;03m# A job can complete so quickly than its callback is\u001b[39;00m\n\u001b[1;32m    779\u001b[0m     \u001b[38;5;66;03m# called before we get here, causing self._jobs to\u001b[39;00m\n\u001b[1;32m    780\u001b[0m     \u001b[38;5;66;03m# grow. To ensure correct results ordering, .insert is\u001b[39;00m\n\u001b[1;32m    781\u001b[0m     \u001b[38;5;66;03m# used (rather than .append) in the following line\u001b[39;00m\n\u001b[1;32m    782\u001b[0m     \u001b[38;5;28mself\u001b[39m\u001b[38;5;241m.\u001b[39m_jobs\u001b[38;5;241m.\u001b[39minsert(job_idx, job)\n",
      "File \u001b[0;32m/usr/local/lib/python3.9/site-packages/joblib/_parallel_backends.py:208\u001b[0m, in \u001b[0;36mSequentialBackend.apply_async\u001b[0;34m(self, func, callback)\u001b[0m\n\u001b[1;32m    206\u001b[0m \u001b[38;5;28;01mdef\u001b[39;00m \u001b[38;5;21mapply_async\u001b[39m(\u001b[38;5;28mself\u001b[39m, func, callback\u001b[38;5;241m=\u001b[39m\u001b[38;5;28;01mNone\u001b[39;00m):\n\u001b[1;32m    207\u001b[0m     \u001b[38;5;124;03m\"\"\"Schedule a func to be run\"\"\"\u001b[39;00m\n\u001b[0;32m--> 208\u001b[0m     result \u001b[38;5;241m=\u001b[39m \u001b[43mImmediateResult\u001b[49m\u001b[43m(\u001b[49m\u001b[43mfunc\u001b[49m\u001b[43m)\u001b[49m\n\u001b[1;32m    209\u001b[0m     \u001b[38;5;28;01mif\u001b[39;00m callback:\n\u001b[1;32m    210\u001b[0m         callback(result)\n",
      "File \u001b[0;32m/usr/local/lib/python3.9/site-packages/joblib/_parallel_backends.py:572\u001b[0m, in \u001b[0;36mImmediateResult.__init__\u001b[0;34m(self, batch)\u001b[0m\n\u001b[1;32m    569\u001b[0m \u001b[38;5;28;01mdef\u001b[39;00m \u001b[38;5;21m__init__\u001b[39m(\u001b[38;5;28mself\u001b[39m, batch):\n\u001b[1;32m    570\u001b[0m     \u001b[38;5;66;03m# Don't delay the application, to avoid keeping the input\u001b[39;00m\n\u001b[1;32m    571\u001b[0m     \u001b[38;5;66;03m# arguments in memory\u001b[39;00m\n\u001b[0;32m--> 572\u001b[0m     \u001b[38;5;28mself\u001b[39m\u001b[38;5;241m.\u001b[39mresults \u001b[38;5;241m=\u001b[39m \u001b[43mbatch\u001b[49m\u001b[43m(\u001b[49m\u001b[43m)\u001b[49m\n",
      "File \u001b[0;32m/usr/local/lib/python3.9/site-packages/joblib/parallel.py:262\u001b[0m, in \u001b[0;36mBatchedCalls.__call__\u001b[0;34m(self)\u001b[0m\n\u001b[1;32m    258\u001b[0m \u001b[38;5;28;01mdef\u001b[39;00m \u001b[38;5;21m__call__\u001b[39m(\u001b[38;5;28mself\u001b[39m):\n\u001b[1;32m    259\u001b[0m     \u001b[38;5;66;03m# Set the default nested backend to self._backend but do not set the\u001b[39;00m\n\u001b[1;32m    260\u001b[0m     \u001b[38;5;66;03m# change the default number of processes to -1\u001b[39;00m\n\u001b[1;32m    261\u001b[0m     \u001b[38;5;28;01mwith\u001b[39;00m parallel_backend(\u001b[38;5;28mself\u001b[39m\u001b[38;5;241m.\u001b[39m_backend, n_jobs\u001b[38;5;241m=\u001b[39m\u001b[38;5;28mself\u001b[39m\u001b[38;5;241m.\u001b[39m_n_jobs):\n\u001b[0;32m--> 262\u001b[0m         \u001b[38;5;28;01mreturn\u001b[39;00m [func(\u001b[38;5;241m*\u001b[39margs, \u001b[38;5;241m*\u001b[39m\u001b[38;5;241m*\u001b[39mkwargs)\n\u001b[1;32m    263\u001b[0m                 \u001b[38;5;28;01mfor\u001b[39;00m func, args, kwargs \u001b[38;5;129;01min\u001b[39;00m \u001b[38;5;28mself\u001b[39m\u001b[38;5;241m.\u001b[39mitems]\n",
      "File \u001b[0;32m/usr/local/lib/python3.9/site-packages/joblib/parallel.py:262\u001b[0m, in \u001b[0;36m<listcomp>\u001b[0;34m(.0)\u001b[0m\n\u001b[1;32m    258\u001b[0m \u001b[38;5;28;01mdef\u001b[39;00m \u001b[38;5;21m__call__\u001b[39m(\u001b[38;5;28mself\u001b[39m):\n\u001b[1;32m    259\u001b[0m     \u001b[38;5;66;03m# Set the default nested backend to self._backend but do not set the\u001b[39;00m\n\u001b[1;32m    260\u001b[0m     \u001b[38;5;66;03m# change the default number of processes to -1\u001b[39;00m\n\u001b[1;32m    261\u001b[0m     \u001b[38;5;28;01mwith\u001b[39;00m parallel_backend(\u001b[38;5;28mself\u001b[39m\u001b[38;5;241m.\u001b[39m_backend, n_jobs\u001b[38;5;241m=\u001b[39m\u001b[38;5;28mself\u001b[39m\u001b[38;5;241m.\u001b[39m_n_jobs):\n\u001b[0;32m--> 262\u001b[0m         \u001b[38;5;28;01mreturn\u001b[39;00m [\u001b[43mfunc\u001b[49m\u001b[43m(\u001b[49m\u001b[38;5;241;43m*\u001b[39;49m\u001b[43margs\u001b[49m\u001b[43m,\u001b[49m\u001b[43m \u001b[49m\u001b[38;5;241;43m*\u001b[39;49m\u001b[38;5;241;43m*\u001b[39;49m\u001b[43mkwargs\u001b[49m\u001b[43m)\u001b[49m\n\u001b[1;32m    263\u001b[0m                 \u001b[38;5;28;01mfor\u001b[39;00m func, args, kwargs \u001b[38;5;129;01min\u001b[39;00m \u001b[38;5;28mself\u001b[39m\u001b[38;5;241m.\u001b[39mitems]\n",
      "File \u001b[0;32m/usr/local/lib/python3.9/site-packages/sklearn/utils/fixes.py:216\u001b[0m, in \u001b[0;36m_FuncWrapper.__call__\u001b[0;34m(self, *args, **kwargs)\u001b[0m\n\u001b[1;32m    214\u001b[0m \u001b[38;5;28;01mdef\u001b[39;00m \u001b[38;5;21m__call__\u001b[39m(\u001b[38;5;28mself\u001b[39m, \u001b[38;5;241m*\u001b[39margs, \u001b[38;5;241m*\u001b[39m\u001b[38;5;241m*\u001b[39mkwargs):\n\u001b[1;32m    215\u001b[0m     \u001b[38;5;28;01mwith\u001b[39;00m config_context(\u001b[38;5;241m*\u001b[39m\u001b[38;5;241m*\u001b[39m\u001b[38;5;28mself\u001b[39m\u001b[38;5;241m.\u001b[39mconfig):\n\u001b[0;32m--> 216\u001b[0m         \u001b[38;5;28;01mreturn\u001b[39;00m \u001b[38;5;28;43mself\u001b[39;49m\u001b[38;5;241;43m.\u001b[39;49m\u001b[43mfunction\u001b[49m\u001b[43m(\u001b[49m\u001b[38;5;241;43m*\u001b[39;49m\u001b[43margs\u001b[49m\u001b[43m,\u001b[49m\u001b[43m \u001b[49m\u001b[38;5;241;43m*\u001b[39;49m\u001b[38;5;241;43m*\u001b[39;49m\u001b[43mkwargs\u001b[49m\u001b[43m)\u001b[49m\n",
      "File \u001b[0;32m/usr/local/lib/python3.9/site-packages/sklearn/model_selection/_validation.py:702\u001b[0m, in \u001b[0;36m_fit_and_score\u001b[0;34m(estimator, X, y, scorer, train, test, verbose, parameters, fit_params, return_train_score, return_parameters, return_n_test_samples, return_times, return_estimator, split_progress, candidate_progress, error_score)\u001b[0m\n\u001b[1;32m    699\u001b[0m result[\u001b[38;5;124m\"\u001b[39m\u001b[38;5;124mfit_error\u001b[39m\u001b[38;5;124m\"\u001b[39m] \u001b[38;5;241m=\u001b[39m \u001b[38;5;28;01mNone\u001b[39;00m\n\u001b[1;32m    701\u001b[0m fit_time \u001b[38;5;241m=\u001b[39m time\u001b[38;5;241m.\u001b[39mtime() \u001b[38;5;241m-\u001b[39m start_time\n\u001b[0;32m--> 702\u001b[0m test_scores \u001b[38;5;241m=\u001b[39m \u001b[43m_score\u001b[49m\u001b[43m(\u001b[49m\u001b[43mestimator\u001b[49m\u001b[43m,\u001b[49m\u001b[43m \u001b[49m\u001b[43mX_test\u001b[49m\u001b[43m,\u001b[49m\u001b[43m \u001b[49m\u001b[43my_test\u001b[49m\u001b[43m,\u001b[49m\u001b[43m \u001b[49m\u001b[43mscorer\u001b[49m\u001b[43m,\u001b[49m\u001b[43m \u001b[49m\u001b[43merror_score\u001b[49m\u001b[43m)\u001b[49m\n\u001b[1;32m    703\u001b[0m score_time \u001b[38;5;241m=\u001b[39m time\u001b[38;5;241m.\u001b[39mtime() \u001b[38;5;241m-\u001b[39m start_time \u001b[38;5;241m-\u001b[39m fit_time\n\u001b[1;32m    704\u001b[0m \u001b[38;5;28;01mif\u001b[39;00m return_train_score:\n",
      "File \u001b[0;32m/usr/local/lib/python3.9/site-packages/sklearn/model_selection/_validation.py:761\u001b[0m, in \u001b[0;36m_score\u001b[0;34m(estimator, X_test, y_test, scorer, error_score)\u001b[0m\n\u001b[1;32m    759\u001b[0m         scores \u001b[38;5;241m=\u001b[39m scorer(estimator, X_test)\n\u001b[1;32m    760\u001b[0m     \u001b[38;5;28;01melse\u001b[39;00m:\n\u001b[0;32m--> 761\u001b[0m         scores \u001b[38;5;241m=\u001b[39m \u001b[43mscorer\u001b[49m\u001b[43m(\u001b[49m\u001b[43mestimator\u001b[49m\u001b[43m,\u001b[49m\u001b[43m \u001b[49m\u001b[43mX_test\u001b[49m\u001b[43m,\u001b[49m\u001b[43m \u001b[49m\u001b[43my_test\u001b[49m\u001b[43m)\u001b[49m\n\u001b[1;32m    762\u001b[0m \u001b[38;5;28;01mexcept\u001b[39;00m \u001b[38;5;167;01mException\u001b[39;00m:\n\u001b[1;32m    763\u001b[0m     \u001b[38;5;28;01mif\u001b[39;00m error_score \u001b[38;5;241m==\u001b[39m \u001b[38;5;124m\"\u001b[39m\u001b[38;5;124mraise\u001b[39m\u001b[38;5;124m\"\u001b[39m:\n",
      "File \u001b[0;32m/usr/local/lib/python3.9/site-packages/sklearn/metrics/_scorer.py:216\u001b[0m, in \u001b[0;36m_BaseScorer.__call__\u001b[0;34m(self, estimator, X, y_true, sample_weight)\u001b[0m\n\u001b[1;32m    193\u001b[0m \u001b[38;5;28;01mdef\u001b[39;00m \u001b[38;5;21m__call__\u001b[39m(\u001b[38;5;28mself\u001b[39m, estimator, X, y_true, sample_weight\u001b[38;5;241m=\u001b[39m\u001b[38;5;28;01mNone\u001b[39;00m):\n\u001b[1;32m    194\u001b[0m     \u001b[38;5;124;03m\"\"\"Evaluate predicted target values for X relative to y_true.\u001b[39;00m\n\u001b[1;32m    195\u001b[0m \n\u001b[1;32m    196\u001b[0m \u001b[38;5;124;03m    Parameters\u001b[39;00m\n\u001b[0;32m   (...)\u001b[0m\n\u001b[1;32m    214\u001b[0m \u001b[38;5;124;03m        Score function applied to prediction of estimator on X.\u001b[39;00m\n\u001b[1;32m    215\u001b[0m \u001b[38;5;124;03m    \"\"\"\u001b[39;00m\n\u001b[0;32m--> 216\u001b[0m     \u001b[38;5;28;01mreturn\u001b[39;00m \u001b[38;5;28;43mself\u001b[39;49m\u001b[38;5;241;43m.\u001b[39;49m\u001b[43m_score\u001b[49m\u001b[43m(\u001b[49m\n\u001b[1;32m    217\u001b[0m \u001b[43m        \u001b[49m\u001b[43mpartial\u001b[49m\u001b[43m(\u001b[49m\u001b[43m_cached_call\u001b[49m\u001b[43m,\u001b[49m\u001b[43m \u001b[49m\u001b[38;5;28;43;01mNone\u001b[39;49;00m\u001b[43m)\u001b[49m\u001b[43m,\u001b[49m\n\u001b[1;32m    218\u001b[0m \u001b[43m        \u001b[49m\u001b[43mestimator\u001b[49m\u001b[43m,\u001b[49m\n\u001b[1;32m    219\u001b[0m \u001b[43m        \u001b[49m\u001b[43mX\u001b[49m\u001b[43m,\u001b[49m\n\u001b[1;32m    220\u001b[0m \u001b[43m        \u001b[49m\u001b[43my_true\u001b[49m\u001b[43m,\u001b[49m\n\u001b[1;32m    221\u001b[0m \u001b[43m        \u001b[49m\u001b[43msample_weight\u001b[49m\u001b[38;5;241;43m=\u001b[39;49m\u001b[43msample_weight\u001b[49m\u001b[43m,\u001b[49m\n\u001b[1;32m    222\u001b[0m \u001b[43m    \u001b[49m\u001b[43m)\u001b[49m\n",
      "File \u001b[0;32m/usr/local/lib/python3.9/site-packages/sklearn/metrics/_scorer.py:258\u001b[0m, in \u001b[0;36m_PredictScorer._score\u001b[0;34m(self, method_caller, estimator, X, y_true, sample_weight)\u001b[0m\n\u001b[1;32m    230\u001b[0m \u001b[38;5;28;01mdef\u001b[39;00m \u001b[38;5;21m_score\u001b[39m(\u001b[38;5;28mself\u001b[39m, method_caller, estimator, X, y_true, sample_weight\u001b[38;5;241m=\u001b[39m\u001b[38;5;28;01mNone\u001b[39;00m):\n\u001b[1;32m    231\u001b[0m     \u001b[38;5;124;03m\"\"\"Evaluate predicted target values for X relative to y_true.\u001b[39;00m\n\u001b[1;32m    232\u001b[0m \n\u001b[1;32m    233\u001b[0m \u001b[38;5;124;03m    Parameters\u001b[39;00m\n\u001b[0;32m   (...)\u001b[0m\n\u001b[1;32m    255\u001b[0m \u001b[38;5;124;03m        Score function applied to prediction of estimator on X.\u001b[39;00m\n\u001b[1;32m    256\u001b[0m \u001b[38;5;124;03m    \"\"\"\u001b[39;00m\n\u001b[0;32m--> 258\u001b[0m     y_pred \u001b[38;5;241m=\u001b[39m \u001b[43mmethod_caller\u001b[49m\u001b[43m(\u001b[49m\u001b[43mestimator\u001b[49m\u001b[43m,\u001b[49m\u001b[43m \u001b[49m\u001b[38;5;124;43m\"\u001b[39;49m\u001b[38;5;124;43mpredict\u001b[39;49m\u001b[38;5;124;43m\"\u001b[39;49m\u001b[43m,\u001b[49m\u001b[43m \u001b[49m\u001b[43mX\u001b[49m\u001b[43m)\u001b[49m\n\u001b[1;32m    259\u001b[0m     \u001b[38;5;28;01mif\u001b[39;00m sample_weight \u001b[38;5;129;01mis\u001b[39;00m \u001b[38;5;129;01mnot\u001b[39;00m \u001b[38;5;28;01mNone\u001b[39;00m:\n\u001b[1;32m    260\u001b[0m         \u001b[38;5;28;01mreturn\u001b[39;00m \u001b[38;5;28mself\u001b[39m\u001b[38;5;241m.\u001b[39m_sign \u001b[38;5;241m*\u001b[39m \u001b[38;5;28mself\u001b[39m\u001b[38;5;241m.\u001b[39m_score_func(\n\u001b[1;32m    261\u001b[0m             y_true, y_pred, sample_weight\u001b[38;5;241m=\u001b[39msample_weight, \u001b[38;5;241m*\u001b[39m\u001b[38;5;241m*\u001b[39m\u001b[38;5;28mself\u001b[39m\u001b[38;5;241m.\u001b[39m_kwargs\n\u001b[1;32m    262\u001b[0m         )\n",
      "File \u001b[0;32m/usr/local/lib/python3.9/site-packages/sklearn/metrics/_scorer.py:68\u001b[0m, in \u001b[0;36m_cached_call\u001b[0;34m(cache, estimator, method, *args, **kwargs)\u001b[0m\n\u001b[1;32m     66\u001b[0m \u001b[38;5;124;03m\"\"\"Call estimator with method and args and kwargs.\"\"\"\u001b[39;00m\n\u001b[1;32m     67\u001b[0m \u001b[38;5;28;01mif\u001b[39;00m cache \u001b[38;5;129;01mis\u001b[39;00m \u001b[38;5;28;01mNone\u001b[39;00m:\n\u001b[0;32m---> 68\u001b[0m     \u001b[38;5;28;01mreturn\u001b[39;00m \u001b[38;5;28;43mgetattr\u001b[39;49m\u001b[43m(\u001b[49m\u001b[43mestimator\u001b[49m\u001b[43m,\u001b[49m\u001b[43m \u001b[49m\u001b[43mmethod\u001b[49m\u001b[43m)\u001b[49m\u001b[43m(\u001b[49m\u001b[38;5;241;43m*\u001b[39;49m\u001b[43margs\u001b[49m\u001b[43m,\u001b[49m\u001b[43m \u001b[49m\u001b[38;5;241;43m*\u001b[39;49m\u001b[38;5;241;43m*\u001b[39;49m\u001b[43mkwargs\u001b[49m\u001b[43m)\u001b[49m\n\u001b[1;32m     70\u001b[0m \u001b[38;5;28;01mtry\u001b[39;00m:\n\u001b[1;32m     71\u001b[0m     \u001b[38;5;28;01mreturn\u001b[39;00m cache[method]\n",
      "File \u001b[0;32m/usr/local/lib/python3.9/site-packages/sklearn/utils/metaestimators.py:113\u001b[0m, in \u001b[0;36m_AvailableIfDescriptor.__get__.<locals>.<lambda>\u001b[0;34m(*args, **kwargs)\u001b[0m\n\u001b[1;32m    110\u001b[0m         \u001b[38;5;28;01mraise\u001b[39;00m attr_err\n\u001b[1;32m    112\u001b[0m     \u001b[38;5;66;03m# lambda, but not partial, allows help() to work with update_wrapper\u001b[39;00m\n\u001b[0;32m--> 113\u001b[0m     out \u001b[38;5;241m=\u001b[39m \u001b[38;5;28;01mlambda\u001b[39;00m \u001b[38;5;241m*\u001b[39margs, \u001b[38;5;241m*\u001b[39m\u001b[38;5;241m*\u001b[39mkwargs: \u001b[38;5;28;43mself\u001b[39;49m\u001b[38;5;241;43m.\u001b[39;49m\u001b[43mfn\u001b[49m\u001b[43m(\u001b[49m\u001b[43mobj\u001b[49m\u001b[43m,\u001b[49m\u001b[43m \u001b[49m\u001b[38;5;241;43m*\u001b[39;49m\u001b[43margs\u001b[49m\u001b[43m,\u001b[49m\u001b[43m \u001b[49m\u001b[38;5;241;43m*\u001b[39;49m\u001b[38;5;241;43m*\u001b[39;49m\u001b[43mkwargs\u001b[49m\u001b[43m)\u001b[49m  \u001b[38;5;66;03m# noqa\u001b[39;00m\n\u001b[1;32m    114\u001b[0m \u001b[38;5;28;01melse\u001b[39;00m:\n\u001b[1;32m    116\u001b[0m     \u001b[38;5;28;01mdef\u001b[39;00m \u001b[38;5;21mfn\u001b[39m(\u001b[38;5;241m*\u001b[39margs, \u001b[38;5;241m*\u001b[39m\u001b[38;5;241m*\u001b[39mkwargs):\n",
      "File \u001b[0;32m/usr/local/lib/python3.9/site-packages/sklearn/pipeline.py:469\u001b[0m, in \u001b[0;36mPipeline.predict\u001b[0;34m(self, X, **predict_params)\u001b[0m\n\u001b[1;32m    467\u001b[0m Xt \u001b[38;5;241m=\u001b[39m X\n\u001b[1;32m    468\u001b[0m \u001b[38;5;28;01mfor\u001b[39;00m _, name, transform \u001b[38;5;129;01min\u001b[39;00m \u001b[38;5;28mself\u001b[39m\u001b[38;5;241m.\u001b[39m_iter(with_final\u001b[38;5;241m=\u001b[39m\u001b[38;5;28;01mFalse\u001b[39;00m):\n\u001b[0;32m--> 469\u001b[0m     Xt \u001b[38;5;241m=\u001b[39m \u001b[43mtransform\u001b[49m\u001b[38;5;241;43m.\u001b[39;49m\u001b[43mtransform\u001b[49m\u001b[43m(\u001b[49m\u001b[43mXt\u001b[49m\u001b[43m)\u001b[49m\n\u001b[1;32m    470\u001b[0m \u001b[38;5;28;01mreturn\u001b[39;00m \u001b[38;5;28mself\u001b[39m\u001b[38;5;241m.\u001b[39msteps[\u001b[38;5;241m-\u001b[39m\u001b[38;5;241m1\u001b[39m][\u001b[38;5;241m1\u001b[39m]\u001b[38;5;241m.\u001b[39mpredict(Xt, \u001b[38;5;241m*\u001b[39m\u001b[38;5;241m*\u001b[39mpredict_params)\n",
      "File \u001b[0;32m/usr/local/lib/python3.9/site-packages/sklearn/feature_extraction/text.py:1379\u001b[0m, in \u001b[0;36mCountVectorizer.transform\u001b[0;34m(self, raw_documents)\u001b[0m\n\u001b[1;32m   1376\u001b[0m \u001b[38;5;28mself\u001b[39m\u001b[38;5;241m.\u001b[39m_check_vocabulary()\n\u001b[1;32m   1378\u001b[0m \u001b[38;5;66;03m# use the same matrix-building strategy as fit_transform\u001b[39;00m\n\u001b[0;32m-> 1379\u001b[0m _, X \u001b[38;5;241m=\u001b[39m \u001b[38;5;28;43mself\u001b[39;49m\u001b[38;5;241;43m.\u001b[39;49m\u001b[43m_count_vocab\u001b[49m\u001b[43m(\u001b[49m\u001b[43mraw_documents\u001b[49m\u001b[43m,\u001b[49m\u001b[43m \u001b[49m\u001b[43mfixed_vocab\u001b[49m\u001b[38;5;241;43m=\u001b[39;49m\u001b[38;5;28;43;01mTrue\u001b[39;49;00m\u001b[43m)\u001b[49m\n\u001b[1;32m   1380\u001b[0m \u001b[38;5;28;01mif\u001b[39;00m \u001b[38;5;28mself\u001b[39m\u001b[38;5;241m.\u001b[39mbinary:\n\u001b[1;32m   1381\u001b[0m     X\u001b[38;5;241m.\u001b[39mdata\u001b[38;5;241m.\u001b[39mfill(\u001b[38;5;241m1\u001b[39m)\n",
      "File \u001b[0;32m/usr/local/lib/python3.9/site-packages/sklearn/feature_extraction/text.py:1203\u001b[0m, in \u001b[0;36mCountVectorizer._count_vocab\u001b[0;34m(self, raw_documents, fixed_vocab)\u001b[0m\n\u001b[1;32m   1201\u001b[0m \u001b[38;5;28;01mfor\u001b[39;00m feature \u001b[38;5;129;01min\u001b[39;00m analyze(doc):\n\u001b[1;32m   1202\u001b[0m     \u001b[38;5;28;01mtry\u001b[39;00m:\n\u001b[0;32m-> 1203\u001b[0m         feature_idx \u001b[38;5;241m=\u001b[39m \u001b[43mvocabulary\u001b[49m\u001b[43m[\u001b[49m\u001b[43mfeature\u001b[49m\u001b[43m]\u001b[49m\n\u001b[1;32m   1204\u001b[0m         \u001b[38;5;28;01mif\u001b[39;00m feature_idx \u001b[38;5;129;01mnot\u001b[39;00m \u001b[38;5;129;01min\u001b[39;00m feature_counter:\n\u001b[1;32m   1205\u001b[0m             feature_counter[feature_idx] \u001b[38;5;241m=\u001b[39m \u001b[38;5;241m1\u001b[39m\n",
      "\u001b[0;31mKeyboardInterrupt\u001b[0m: "
     ]
    }
   ],
   "source": [
    "count_subsampling_model.fit(entities, Y_train)"
   ]
  },
  {
   "cell_type": "markdown",
   "id": "0eb300e0",
   "metadata": {},
   "source": [
    "### Pipeline 5: Vectorización con Count-Vectorizer y oversampling.\n",
    "Como dijimos previamente, usamos CountVectorizer puesto que en las entidades médicas las palabras importantes salen varias veces repetidas en el arreglo y queremos evitar reducir su importancia usando TF-iDF. Asimismo, intentamos de nuevo usar el SMOTE modificado, pero esta vez no hacemos PCA porque las palabras extraídas como entidades usando la librería entrenada sobre el corpus biomédico en el notebook anterior son relativamente pocas y hacer reducción de dimensionalidad puede alterar los resultados obtenidos:\n",
    "\n"
   ]
  },
  {
   "cell_type": "code",
   "execution_count": null,
   "id": "860e2c42",
   "metadata": {},
   "outputs": [],
   "source": [
    "count_oversampling_pipe = imbpipeline(steps = [\n",
    "    (\"drop_na\", deleteEmptyRows),\n",
    "    (\"tf_idf_vec\", CountVectorizer()),\n",
    "    (\"sampling\", SMOTEENN(random_state=28)),\n",
    "    (\"algorithm\", MultinomialNB())\n",
    "])\n",
    "count_oversampling_pipe"
   ]
  },
  {
   "cell_type": "markdown",
   "id": "93df5c18",
   "metadata": {},
   "source": [
    "### Pipeline 6: Sin resampling, usando Count-Vectorizer (sólo para Álvarlo)\n",
    "Usamos ComplementNB():"
   ]
  },
  {
   "cell_type": "code",
   "execution_count": null,
   "id": "d40cee62",
   "metadata": {},
   "outputs": [],
   "source": [
    "count_sin_oversampling = imbpipeline(steps = [\n",
    "    (\"drop_na\", deleteEmptyRows),\n",
    "    (\"count_vec\",CountVectorizer()),\n",
    "    (\"algorithm\", ComplementNB())\n",
    "])\n",
    "count_sin_oversampling"
   ]
  },
  {
   "cell_type": "markdown",
   "id": "35f677e2",
   "metadata": {},
   "source": [
    "# TO DO: Después de correr y comentar todo, guardar el mejor modelo"
   ]
  },
  {
   "cell_type": "markdown",
   "id": "e7d5328a",
   "metadata": {},
   "source": [
    "## Bibliografía\n",
    "\n",
    "[5] Dennis L Wilson. Asymptotic properties of nearest neighbor rules using edited data. IEEE Transactions on Systems, Man, and Cybernetics, pages 408–421, 1972.\n",
    "[6] https://imbalanced-learn.org/stable/combine.html"
   ]
  },
  {
   "cell_type": "code",
   "execution_count": null,
   "id": "004d6897",
   "metadata": {},
   "outputs": [],
   "source": []
  }
 ],
 "metadata": {
  "kernelspec": {
   "display_name": "Python 3 (ipykernel)",
   "language": "python",
   "name": "python3"
  },
  "language_info": {
   "codemirror_mode": {
    "name": "ipython",
    "version": 3
   },
   "file_extension": ".py",
   "mimetype": "text/x-python",
   "name": "python",
   "nbconvert_exporter": "python",
   "pygments_lexer": "ipython3",
   "version": "3.9.6"
  }
 },
 "nbformat": 4,
 "nbformat_minor": 5
}
