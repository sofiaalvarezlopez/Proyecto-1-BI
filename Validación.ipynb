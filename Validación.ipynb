{
 "cells": [
  {
   "cell_type": "markdown",
   "id": "8fa70b6a",
   "metadata": {},
   "source": [
    "# Validación de los modelos"
   ]
  },
  {
   "cell_type": "code",
   "execution_count": 1,
   "id": "76048f5e",
   "metadata": {},
   "outputs": [],
   "source": [
    "import keras\n",
    "import joblib\n",
    "import sent2vec\n",
    "import numpy as np\n",
    "import pandas as pd\n",
    "import matplotlib.pyplot as plt\n",
    "from keras.models import load_model\n",
    "from sklearn.metrics import classification_report, confusion_matrix, ConfusionMatrixDisplay"
   ]
  },
  {
   "cell_type": "code",
   "execution_count": 2,
   "id": "d0d79e57",
   "metadata": {},
   "outputs": [],
   "source": [
    "data_test = pd.read_csv('test_Data.csv', sep=',', encoding = 'utf-8')\n",
    "data_test.drop([\"Unnamed: 0\"], axis = 1)\n",
    "X_test = data_test[\"tokenized_abstracts\"]\n",
    "Y_test = data_test['problems_described']"
   ]
  },
  {
   "cell_type": "markdown",
   "id": "339f3185",
   "metadata": {},
   "source": [
    "## Validación Multinomial Naive Bayes"
   ]
  },
  {
   "cell_type": "code",
   "execution_count": 3,
   "id": "6b5cfe93",
   "metadata": {},
   "outputs": [],
   "source": [
    "file_name_modelo_mnb = \"multinomial_nb.joblib\"\n",
    "\n",
    "modelo_mnb = joblib.load(file_name_modelo_mnb)\n",
    "\n",
    "Y_predicted_problems_mnb = modelo_mnb.predict(X_test)"
   ]
  },
  {
   "cell_type": "code",
   "execution_count": 4,
   "id": "921c788c",
   "metadata": {},
   "outputs": [
    {
     "data": {
      "text/plain": [
       "0.56"
      ]
     },
     "execution_count": 4,
     "metadata": {},
     "output_type": "execute_result"
    }
   ],
   "source": [
    "modelo_mnb.score(X_test, Y_test)"
   ]
  },
  {
   "cell_type": "code",
   "execution_count": 5,
   "id": "b80e5885",
   "metadata": {
    "scrolled": true
   },
   "outputs": [
    {
     "name": "stdout",
     "output_type": "stream",
     "text": [
      "              precision    recall  f1-score   support\n",
      "\n",
      "           1       0.64      0.80      0.71       526\n",
      "           2       0.56      0.56      0.56       248\n",
      "           3       0.47      0.46      0.46       320\n",
      "           4       0.54      0.85      0.66       507\n",
      "           5       0.55      0.26      0.35       799\n",
      "\n",
      "    accuracy                           0.56      2400\n",
      "   macro avg       0.55      0.59      0.55      2400\n",
      "weighted avg       0.56      0.56      0.53      2400\n",
      "\n"
     ]
    }
   ],
   "source": [
    "print(classification_report(Y_test, Y_predicted_problems_mnb))"
   ]
  },
  {
   "cell_type": "code",
   "execution_count": 6,
   "id": "b3c52131",
   "metadata": {
    "scrolled": true
   },
   "outputs": [
    {
     "data": {
      "image/png": "[encoded data removed]",
      "text/plain": [
       "<Figure size 432x288 with 2 Axes>"
      ]
     },
     "metadata": {
      "needs_background": "light"
     },
     "output_type": "display_data"
    }
   ],
   "source": [
    "cm_2 = confusion_matrix(Y_test, Y_predicted_problems_mnb)\n",
    "disp_2 = ConfusionMatrixDisplay(confusion_matrix=cm_2, display_labels= np.arange(1,6))\n",
    "disp_2.plot()\n",
    "plt.show()"
   ]
  },
  {
   "cell_type": "markdown",
   "id": "0bc5c8ee",
   "metadata": {},
   "source": [
    "## Validación OneVSRest"
   ]
  },
  {
   "cell_type": "code",
   "execution_count": 7,
   "id": "45155372",
   "metadata": {},
   "outputs": [],
   "source": [
    "file_name_modelo_ovr = \"OneVsRest.joblib\"\n",
    "\n",
    "modelo_ovr = joblib.load(file_name_modelo_ovr)\n",
    "\n",
    "Y_predicted_problems_ovr = modelo_ovr.predict(X_test)"
   ]
  },
  {
   "cell_type": "code",
   "execution_count": 8,
   "id": "aa12b165",
   "metadata": {},
   "outputs": [
    {
     "data": {
      "text/plain": [
       "0.54875"
      ]
     },
     "execution_count": 8,
     "metadata": {},
     "output_type": "execute_result"
    }
   ],
   "source": [
    "modelo_ovr.score(X_test, Y_test)"
   ]
  },
  {
   "cell_type": "code",
   "execution_count": 9,
   "id": "157fdec9",
   "metadata": {
    "scrolled": true
   },
   "outputs": [
    {
     "name": "stdout",
     "output_type": "stream",
     "text": [
      "              precision    recall  f1-score   support\n",
      "\n",
      "           1       0.68      0.80      0.74       526\n",
      "           2       0.47      0.81      0.60       248\n",
      "           3       0.41      0.83      0.55       320\n",
      "           4       0.61      0.83      0.71       507\n",
      "           5       1.00      0.00      0.01       799\n",
      "\n",
      "    accuracy                           0.55      2400\n",
      "   macro avg       0.63      0.66      0.52      2400\n",
      "weighted avg       0.71      0.55      0.45      2400\n",
      "\n"
     ]
    }
   ],
   "source": [
    "print(classification_report(Y_test, Y_predicted_problems_ovr))"
   ]
  },
  {
   "cell_type": "code",
   "execution_count": 10,
   "id": "fa39e47b",
   "metadata": {
    "scrolled": false
   },
   "outputs": [
    {
     "data": {
      "image/png": "[encoded data removed]",
      "text/plain": [
       "<Figure size 432x288 with 2 Axes>"
      ]
     },
     "metadata": {
      "needs_background": "light"
     },
     "output_type": "display_data"
    }
   ],
   "source": [
    "cm = confusion_matrix(Y_test, Y_predicted_problems_ovr)\n",
    "disp = ConfusionMatrixDisplay(confusion_matrix=cm, display_labels= np.arange(1,6))\n",
    "disp.plot()\n",
    "plt.show()"
   ]
  },
  {
   "cell_type": "markdown",
   "id": "41d83723",
   "metadata": {},
   "source": [
    "## Validación LSTM"
   ]
  },
  {
   "cell_type": "code",
   "execution_count": 11,
   "id": "864a6b60",
   "metadata": {},
   "outputs": [],
   "source": [
    "modelo_lstm = \"model_94.h5\""
   ]
  },
  {
   "cell_type": "markdown",
   "id": "9cdef16b",
   "metadata": {},
   "source": [
    "Debido a que este modelo usa un embedding especial que no puede utilizarse en una pipeline, debemos traerlo al notebook de validación. Así,"
   ]
  },
  {
   "cell_type": "code",
   "execution_count": 12,
   "id": "fdd8b276",
   "metadata": {},
   "outputs": [
    {
     "name": "stdout",
     "output_type": "stream",
     "text": [
      "model successfully loaded\n"
     ]
    }
   ],
   "source": [
    "model_path = 'BioSentVec_PubMed_MIMICIII-bigram_d700.bin'\n",
    "model = sent2vec.Sent2vecModel()\n",
    "try:\n",
    "    model.load_model(model_path)\n",
    "except Exception as e:\n",
    "    print(e)\n",
    "print('model successfully loaded')"
   ]
  },
  {
   "cell_type": "markdown",
   "id": "4a8ab7ca",
   "metadata": {},
   "source": [
    "Asimismo, aplicamos las transformaciones necesarias. Las labels de Y las volvemos One-Hot también."
   ]
  },
  {
   "cell_type": "code",
   "execution_count": 13,
   "id": "fee7a843",
   "metadata": {},
   "outputs": [],
   "source": [
    "embedded_abstracts = model.embed_sentences(data_test['non_tokenized_abstracts'])\n",
    "embedded_abstracts = embedded_abstracts.reshape(-1, 1, embedded_abstracts.shape[1])"
   ]
  },
  {
   "cell_type": "code",
   "execution_count": 14,
   "id": "95cca90b",
   "metadata": {},
   "outputs": [],
   "source": [
    "Y_test = keras.utils.np_utils.to_categorical(Y_test)[:,1:]"
   ]
  },
  {
   "cell_type": "markdown",
   "id": "2748357f",
   "metadata": {},
   "source": [
    "Ahora cargamos el modelo y predecimos:"
   ]
  },
  {
   "cell_type": "code",
   "execution_count": 15,
   "id": "737baf00",
   "metadata": {},
   "outputs": [
    {
     "name": "stderr",
     "output_type": "stream",
     "text": [
      "2022-03-28 23:41:32.857502: I tensorflow/core/platform/cpu_feature_guard.cc:151] This TensorFlow binary is optimized with oneAPI Deep Neural Network Library (oneDNN) to use the following CPU instructions in performance-critical operations:  AVX2 FMA\n",
      "To enable them in other operations, rebuild TensorFlow with the appropriate compiler flags.\n"
     ]
    }
   ],
   "source": [
    "lstm = load_model(modelo_lstm)"
   ]
  },
  {
   "cell_type": "code",
   "execution_count": 16,
   "id": "e4855563",
   "metadata": {},
   "outputs": [],
   "source": [
    "y_pred = lstm.predict(embedded_abstracts)\n",
    "y_pred = y_pred.argmax(1) + 1 # Sumamos 1 para que las clases nos queden entre 1 y 5 \n",
    "Y_test = Y_test.argmax(1) + 1 # Sumamos 1 para que las clases nos queden entre 1 y 5 "
   ]
  },
  {
   "cell_type": "code",
   "execution_count": 17,
   "id": "49f21caf",
   "metadata": {},
   "outputs": [
    {
     "name": "stdout",
     "output_type": "stream",
     "text": [
      "---Reporte para el modelo construido---\n",
      "              precision    recall  f1-score   support\n",
      "\n",
      "           1       0.73      0.81      0.77       526\n",
      "           2       0.47      0.75      0.58       248\n",
      "           3       0.51      0.69      0.58       320\n",
      "           4       0.67      0.83      0.74       507\n",
      "           5       0.66      0.30      0.41       799\n",
      "\n",
      "    accuracy                           0.62      2400\n",
      "   macro avg       0.61      0.67      0.62      2400\n",
      "weighted avg       0.64      0.62      0.60      2400\n",
      "\n"
     ]
    }
   ],
   "source": [
    "print('---Reporte para el modelo construido---')\n",
    "print(classification_report(Y_test, y_pred))"
   ]
  },
  {
   "cell_type": "code",
   "execution_count": 18,
   "id": "3a515601",
   "metadata": {},
   "outputs": [
    {
     "data": {
      "image/png": "[encoded data removed]",
      "text/plain": [
       "<Figure size 432x288 with 2 Axes>"
      ]
     },
     "metadata": {
      "needs_background": "light"
     },
     "output_type": "display_data"
    }
   ],
   "source": [
    "cm = confusion_matrix(Y_test, y_pred)\n",
    "disp = ConfusionMatrixDisplay(confusion_matrix=cm, display_labels= np.arange(1,6))\n",
    "disp.plot()\n",
    "plt.show()"
   ]
  },
  {
   "cell_type": "code",
   "execution_count": null,
   "id": "90edfe3c",
   "metadata": {},
   "outputs": [],
   "source": []
  }
 ],
 "metadata": {
  "kernelspec": {
   "display_name": "Python 3 (ipykernel)",
   "language": "python",
   "name": "python3"
  },
  "language_info": {
   "codemirror_mode": {
    "name": "ipython",
    "version": 3
   },
   "file_extension": ".py",
   "mimetype": "text/x-python",
   "name": "python",
   "nbconvert_exporter": "python",
   "pygments_lexer": "ipython3",
   "version": "3.9.6"
  },
  "toc": {
   "base_numbering": 1,
   "nav_menu": {},
   "number_sections": true,
   "sideBar": true,
   "skip_h1_title": false,
   "title_cell": "Table of Contents",
   "title_sidebar": "Contents",
   "toc_cell": false,
   "toc_position": {},
   "toc_section_display": true,
   "toc_window_display": false
  },
  "varInspector": {
   "cols": {
    "lenName": 16,
    "lenType": 16,
    "lenVar": 40
   },
   "kernels_config": {
    "python": {
     "delete_cmd_postfix": "",
     "delete_cmd_prefix": "del ",
     "library": "var_list.py",
     "varRefreshCmd": "print(var_dic_list())"
    },
    "r": {
     "delete_cmd_postfix": ") ",
     "delete_cmd_prefix": "rm(",
     "library": "var_list.r",
     "varRefreshCmd": "cat(var_dic_list()) "
    }
   },
   "types_to_exclude": [
    "module",
    "function",
    "builtin_function_or_method",
    "instance",
    "_Feature"
   ],
   "window_display": false
  }
 },
 "nbformat": 4,
 "nbformat_minor": 5
}
