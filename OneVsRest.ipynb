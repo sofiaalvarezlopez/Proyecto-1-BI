{
 "cells": [
  {
   "cell_type": "markdown",
   "id": "4d7b11e6",
   "metadata": {},
   "source": [
    "# Algoritmo OneVsRest"
   ]
  },
  {
   "cell_type": "code",
   "execution_count": 1,
   "id": "3f541880",
   "metadata": {},
   "outputs": [],
   "source": [
    "import pandas as pd\n",
    "import numpy as np\n",
    "import matplotlib.pyplot as plt\n",
    "import seaborn as sns\n",
    "from sklearn.multiclass import OneVsRestClassifier\n",
    "from sklearn.svm import SVC\n",
    "from imblearn.combine import SMOTEENN\n",
    "from sklearn.decomposition import PCA\n",
    "from sklearn.impute import SimpleImputer\n",
    "from sklearn.feature_extraction.text import CountVectorizer, TfidfVectorizer\n",
    "from imblearn.pipeline import Pipeline as imbpipeline\n",
    "from sklearn.metrics import precision_score, make_scorer\n",
    "from imblearn.under_sampling import EditedNearestNeighbours\n",
    "from sklearn.model_selection import GridSearchCV\n",
    "from sklearn.model_selection import KFold \n",
    "from imblearn.pipeline import Pipeline\n",
    "from sklearn.feature_extraction.text import TfidfVectorizer, CountVectorizer\n",
    "from sklearn.metrics import classification_report, confusion_matrix, ConfusionMatrixDisplay\n",
    "import joblib"
   ]
  },
  {
   "cell_type": "markdown",
   "id": "322c39d4",
   "metadata": {},
   "source": [
    "## Creación del modelo\n",
    "Cargar los datos"
   ]
  },
  {
   "cell_type": "code",
   "execution_count": 2,
   "id": "995dd877",
   "metadata": {},
   "outputs": [
    {
     "data": {
      "text/html": [
       "<div>\n",
       "<style scoped>\n",
       "    .dataframe tbody tr th:only-of-type {\n",
       "        vertical-align: middle;\n",
       "    }\n",
       "\n",
       "    .dataframe tbody tr th {\n",
       "        vertical-align: top;\n",
       "    }\n",
       "\n",
       "    .dataframe thead th {\n",
       "        text-align: right;\n",
       "    }\n",
       "</style>\n",
       "<table border=\"1\" class=\"dataframe\">\n",
       "  <thead>\n",
       "    <tr style=\"text-align: right;\">\n",
       "      <th></th>\n",
       "      <th>problems_described</th>\n",
       "      <th>tokenized_abstracts</th>\n",
       "      <th>non_tokenized_abstracts</th>\n",
       "      <th>non_tokenized_entities</th>\n",
       "      <th>tokenized_entities</th>\n",
       "    </tr>\n",
       "  </thead>\n",
       "  <tbody>\n",
       "    <tr>\n",
       "      <th>0</th>\n",
       "      <td>4</td>\n",
       "      <td>['placebo', 'control', 'trial', 'xamoterol', '...</td>\n",
       "      <td>placebo control trial xamoterol versus digoxin...</td>\n",
       "      <td>xamoterol digoxin heart xamoterol digoxin xamo...</td>\n",
       "      <td>['xamoterol', 'digoxin', 'heart', 'xamoterol',...</td>\n",
       "    </tr>\n",
       "    <tr>\n",
       "      <th>1</th>\n",
       "      <td>1</td>\n",
       "      <td>['signific', 'blast', 'lowcellcount', 'cerebro...</td>\n",
       "      <td>signific blast lowcellcount cerebrospin fluid ...</td>\n",
       "      <td>blast lowcellcount cerebrospin fluid specimen ...</td>\n",
       "      <td>['blast', 'lowcellcount', 'cerebrospin', 'flui...</td>\n",
       "    </tr>\n",
       "    <tr>\n",
       "      <th>2</th>\n",
       "      <td>5</td>\n",
       "      <td>['obstruct', 'sleep', 'apnea', 'follow', 'topi...</td>\n",
       "      <td>obstruct sleep apnea follow topic oropharyng a...</td>\n",
       "      <td>oropharyng airway upper airway sem oropharyng ...</td>\n",
       "      <td>['oropharyng', 'airway', 'upper', 'airway', 's...</td>\n",
       "    </tr>\n",
       "    <tr>\n",
       "      <th>3</th>\n",
       "      <td>5</td>\n",
       "      <td>['experi', 'sarn', 'centrifug', 'pump', 'ventr...</td>\n",
       "      <td>experi sarn centrifug pump ventricular assist ...</td>\n",
       "      <td>sarn centrifug ventricular sarn centrifug pump...</td>\n",
       "      <td>['sarn', 'centrifug', 'ventricular', 'sarn', '...</td>\n",
       "    </tr>\n",
       "    <tr>\n",
       "      <th>4</th>\n",
       "      <td>3</td>\n",
       "      <td>['fine', 'surfac', 'structur', 'intraspin', 'n...</td>\n",
       "      <td>fine surfac structur intraspin neurenter cyst ...</td>\n",
       "      <td>fine surfac intraspin neurenter cyst electron ...</td>\n",
       "      <td>['fine', 'surfac', 'intraspin', 'neurenter', '...</td>\n",
       "    </tr>\n",
       "    <tr>\n",
       "      <th>...</th>\n",
       "      <td>...</td>\n",
       "      <td>...</td>\n",
       "      <td>...</td>\n",
       "      <td>...</td>\n",
       "      <td>...</td>\n",
       "    </tr>\n",
       "    <tr>\n",
       "      <th>9595</th>\n",
       "      <td>1</td>\n",
       "      <td>['chondrosarcoma', 'soft', 'tissu', 'differ', ...</td>\n",
       "      <td>chondrosarcoma soft tissu differ subgroup chon...</td>\n",
       "      <td>chondrosarcoma soft tissu chondrosarcoma soft ...</td>\n",
       "      <td>['chondrosarcoma', 'soft', 'tissu', 'chondrosa...</td>\n",
       "    </tr>\n",
       "    <tr>\n",
       "      <th>9596</th>\n",
       "      <td>4</td>\n",
       "      <td>['prolong', 'ventricular', 'refractori', 'clas...</td>\n",
       "      <td>prolong ventricular refractori class ia antiar...</td>\n",
       "      <td>ventricular class ia ventricular procainamid q...</td>\n",
       "      <td>['ventricular', 'class', 'ia', 'ventricular', ...</td>\n",
       "    </tr>\n",
       "    <tr>\n",
       "      <th>9597</th>\n",
       "      <td>1</td>\n",
       "      <td>['regress', 'atyp', 'histiocytosi', 'aberr', '...</td>\n",
       "      <td>regress atyp histiocytosi aberr prothymocyt di...</td>\n",
       "      <td>prothymocyt tcell receptor nodal cd1 histiocyt...</td>\n",
       "      <td>['prothymocyt', 'tcell', 'receptor', 'nodal', ...</td>\n",
       "    </tr>\n",
       "    <tr>\n",
       "      <th>9598</th>\n",
       "      <td>2</td>\n",
       "      <td>['role', 'gastric', 'resect', 'manag', 'multic...</td>\n",
       "      <td>role gastric resect manag multicentr argyrophi...</td>\n",
       "      <td>gastric multicentr argyrophil gastric carcinoi...</td>\n",
       "      <td>['gastric', 'multicentr', 'argyrophil', 'gastr...</td>\n",
       "    </tr>\n",
       "    <tr>\n",
       "      <th>9599</th>\n",
       "      <td>5</td>\n",
       "      <td>['sympathomimet', 'acut', 'sever', 'asthma', '...</td>\n",
       "      <td>sympathomimet acut sever asthma beta agonist u...</td>\n",
       "      <td>beta highdos beta agonist beta beta agonist be...</td>\n",
       "      <td>['beta', 'highdos', 'beta', 'agonist', 'beta',...</td>\n",
       "    </tr>\n",
       "  </tbody>\n",
       "</table>\n",
       "<p>9600 rows × 5 columns</p>\n",
       "</div>"
      ],
      "text/plain": [
       "      problems_described                                tokenized_abstracts  \\\n",
       "0                      4  ['placebo', 'control', 'trial', 'xamoterol', '...   \n",
       "1                      1  ['signific', 'blast', 'lowcellcount', 'cerebro...   \n",
       "2                      5  ['obstruct', 'sleep', 'apnea', 'follow', 'topi...   \n",
       "3                      5  ['experi', 'sarn', 'centrifug', 'pump', 'ventr...   \n",
       "4                      3  ['fine', 'surfac', 'structur', 'intraspin', 'n...   \n",
       "...                  ...                                                ...   \n",
       "9595                   1  ['chondrosarcoma', 'soft', 'tissu', 'differ', ...   \n",
       "9596                   4  ['prolong', 'ventricular', 'refractori', 'clas...   \n",
       "9597                   1  ['regress', 'atyp', 'histiocytosi', 'aberr', '...   \n",
       "9598                   2  ['role', 'gastric', 'resect', 'manag', 'multic...   \n",
       "9599                   5  ['sympathomimet', 'acut', 'sever', 'asthma', '...   \n",
       "\n",
       "                                non_tokenized_abstracts  \\\n",
       "0     placebo control trial xamoterol versus digoxin...   \n",
       "1     signific blast lowcellcount cerebrospin fluid ...   \n",
       "2     obstruct sleep apnea follow topic oropharyng a...   \n",
       "3     experi sarn centrifug pump ventricular assist ...   \n",
       "4     fine surfac structur intraspin neurenter cyst ...   \n",
       "...                                                 ...   \n",
       "9595  chondrosarcoma soft tissu differ subgroup chon...   \n",
       "9596  prolong ventricular refractori class ia antiar...   \n",
       "9597  regress atyp histiocytosi aberr prothymocyt di...   \n",
       "9598  role gastric resect manag multicentr argyrophi...   \n",
       "9599  sympathomimet acut sever asthma beta agonist u...   \n",
       "\n",
       "                                 non_tokenized_entities  \\\n",
       "0     xamoterol digoxin heart xamoterol digoxin xamo...   \n",
       "1     blast lowcellcount cerebrospin fluid specimen ...   \n",
       "2     oropharyng airway upper airway sem oropharyng ...   \n",
       "3     sarn centrifug ventricular sarn centrifug pump...   \n",
       "4     fine surfac intraspin neurenter cyst electron ...   \n",
       "...                                                 ...   \n",
       "9595  chondrosarcoma soft tissu chondrosarcoma soft ...   \n",
       "9596  ventricular class ia ventricular procainamid q...   \n",
       "9597  prothymocyt tcell receptor nodal cd1 histiocyt...   \n",
       "9598  gastric multicentr argyrophil gastric carcinoi...   \n",
       "9599  beta highdos beta agonist beta beta agonist be...   \n",
       "\n",
       "                                     tokenized_entities  \n",
       "0     ['xamoterol', 'digoxin', 'heart', 'xamoterol',...  \n",
       "1     ['blast', 'lowcellcount', 'cerebrospin', 'flui...  \n",
       "2     ['oropharyng', 'airway', 'upper', 'airway', 's...  \n",
       "3     ['sarn', 'centrifug', 'ventricular', 'sarn', '...  \n",
       "4     ['fine', 'surfac', 'intraspin', 'neurenter', '...  \n",
       "...                                                 ...  \n",
       "9595  ['chondrosarcoma', 'soft', 'tissu', 'chondrosa...  \n",
       "9596  ['ventricular', 'class', 'ia', 'ventricular', ...  \n",
       "9597  ['prothymocyt', 'tcell', 'receptor', 'nodal', ...  \n",
       "9598  ['gastric', 'multicentr', 'argyrophil', 'gastr...  \n",
       "9599  ['beta', 'highdos', 'beta', 'agonist', 'beta',...  \n",
       "\n",
       "[9600 rows x 5 columns]"
      ]
     },
     "execution_count": 2,
     "metadata": {},
     "output_type": "execute_result"
    }
   ],
   "source": [
    "datos = pd.read_csv('train_Data.csv', sep=',', encoding = 'utf-8')\n",
    "def drop_na(df):\n",
    "    return df[df['non_tokenized_entities'] != '']\n",
    "\n",
    "datos = drop_na(datos)\n",
    "datos=datos.drop([\"Unnamed: 0\"], axis = 1)\n",
    "datos"
   ]
  },
  {
   "cell_type": "markdown",
   "id": "2a659345",
   "metadata": {},
   "source": [
    "Separamos los datos entre palabras y categoría"
   ]
  },
  {
   "cell_type": "code",
   "execution_count": 3,
   "id": "314c10ea",
   "metadata": {},
   "outputs": [],
   "source": [
    "abstracts = datos['tokenized_abstracts']\n",
    "entities = datos['tokenized_entities']\n",
    "Y_train = datos[\"problems_described\"]"
   ]
  },
  {
   "cell_type": "code",
   "execution_count": 4,
   "id": "36860436",
   "metadata": {},
   "outputs": [],
   "source": [
    "# Definimos la metrica\n",
    "custom_scorer = make_scorer(precision_score, greater_is_better=True,  average='micro')"
   ]
  },
  {
   "cell_type": "markdown",
   "id": "6ffa0ab0",
   "metadata": {},
   "source": [
    "## Pipeline1\n",
    "Creamos el modelo"
   ]
  },
  {
   "cell_type": "code",
   "execution_count": 5,
   "id": "c62e7e01",
   "metadata": {},
   "outputs": [
    {
     "data": {
      "text/plain": [
       "Pipeline(steps=[('tf_idf_vec', TfidfVectorizer()),\n",
       "                ('sampling', EditedNearestNeighbours()),\n",
       "                ('ovsr', OneVsRestClassifier(estimator=SVC(kernel='poly')))])"
      ]
     },
     "execution_count": 5,
     "metadata": {},
     "output_type": "execute_result"
    }
   ],
   "source": [
    "p1_tfidf_subsampling_pipe = imbpipeline(steps = [\n",
    "    (\"tf_idf_vec\",TfidfVectorizer()),\n",
    "    (\"sampling\", EditedNearestNeighbours()),\n",
    "    (\"ovsr\",OneVsRestClassifier(SVC(kernel=\"poly\")))\n",
    "])\n",
    "p1_tfidf_subsampling_pipe"
   ]
  },
  {
   "cell_type": "code",
   "execution_count": 6,
   "id": "9f5db852",
   "metadata": {},
   "outputs": [
    {
     "data": {
      "text/plain": [
       "Pipeline(steps=[('tf_idf_vec', TfidfVectorizer()),\n",
       "                ('sampling', SMOTEENN(random_state=28)),\n",
       "                ('ovsr', OneVsRestClassifier(estimator=SVC(kernel='poly')))])"
      ]
     },
     "execution_count": 6,
     "metadata": {},
     "output_type": "execute_result"
    }
   ],
   "source": [
    "p2_tfidf_oversampling_pipe = imbpipeline(steps = [\n",
    "    (\"tf_idf_vec\",TfidfVectorizer()),\n",
    "    (\"sampling\", SMOTEENN(random_state=28)),\n",
    "    (\"ovsr\", OneVsRestClassifier(SVC(kernel=\"poly\")))\n",
    "])\n",
    "p2_tfidf_oversampling_pipe"
   ]
  },
  {
   "cell_type": "code",
   "execution_count": 7,
   "id": "5ad5eae3",
   "metadata": {},
   "outputs": [
    {
     "data": {
      "text/plain": [
       "Pipeline(steps=[('count_vec', CountVectorizer()),\n",
       "                ('sampling', EditedNearestNeighbours()),\n",
       "                ('ovsr', OneVsRestClassifier(estimator=SVC(kernel='poly')))])"
      ]
     },
     "execution_count": 7,
     "metadata": {},
     "output_type": "execute_result"
    }
   ],
   "source": [
    "p3_count_subsampling_pipe = imbpipeline(steps = [\n",
    "    (\"count_vec\",CountVectorizer()),\n",
    "    (\"sampling\", EditedNearestNeighbours()),\n",
    "    (\"ovsr\", OneVsRestClassifier(SVC(kernel=\"poly\")))\n",
    "])\n",
    "p3_count_subsampling_pipe"
   ]
  },
  {
   "cell_type": "code",
   "execution_count": 8,
   "id": "11ef3ef8",
   "metadata": {},
   "outputs": [
    {
     "data": {
      "text/plain": [
       "Pipeline(steps=[('tf_idf_vec', CountVectorizer()),\n",
       "                ('sampling', SMOTEENN(random_state=28)),\n",
       "                ('ovsr', OneVsRestClassifier(estimator=SVC(kernel='poly')))])"
      ]
     },
     "execution_count": 8,
     "metadata": {},
     "output_type": "execute_result"
    }
   ],
   "source": [
    "p4_count_oversampling_pipe = imbpipeline(steps = [\n",
    "    (\"tf_idf_vec\", CountVectorizer()),\n",
    "    (\"sampling\", SMOTEENN(random_state=28)),\n",
    "    (\"ovsr\", OneVsRestClassifier(SVC(kernel=\"poly\")))\n",
    "])\n",
    "p4_count_oversampling_pipe"
   ]
  },
  {
   "cell_type": "code",
   "execution_count": 9,
   "id": "e83c186f",
   "metadata": {},
   "outputs": [],
   "source": [
    "#param_grid = {\"ovsr__estimator__C\": [1,2,3,4,8],\"ovsr__estimator__kernel\": [\"poly\",\"rbf\"],\"ovsr__estimator__degree\":[1,2,3,4], \n",
    "#\"tf_id_vec__ngram_range\":[(1,1),(1,2)}\n",
    "param_grid = {\"ovsr__estimator__C\": [1,2],\"ovsr__estimator__kernel\": [\"poly\",\"rbf\"],\"ovsr__estimator__degree\":[1,2]}\n",
    "#param_grid = {\"ovsr__estimator__C\": [1],\"ovsr__estimator__kernel\": [\"poly\"],\"ovsr__estimator__degree\":[1]}"
   ]
  },
  {
   "cell_type": "code",
   "execution_count": 10,
   "id": "8ae4b8c3",
   "metadata": {},
   "outputs": [],
   "source": [
    "grid_selector1 = GridSearchCV(estimator = p1_tfidf_subsampling_pipe, param_grid = param_grid, \n",
    "                              cv=2, verbose=3,scoring=custom_scorer)\n",
    "grid_selector2 = GridSearchCV(estimator = p2_tfidf_oversampling_pipe, param_grid = param_grid, \n",
    "                              cv=2, verbose=3,scoring=custom_scorer)\n",
    "grid_selector3 = GridSearchCV(estimator = p3_count_subsampling_pipe, param_grid = param_grid, \n",
    "                              cv=2, verbose=3,scoring=custom_scorer)\n",
    "grid_selector4 = GridSearchCV(estimator = p4_count_oversampling_pipe, param_grid = param_grid, \n",
    "                              cv=2, verbose=3,scoring=custom_scorer)"
   ]
  },
  {
   "cell_type": "code",
   "execution_count": 11,
   "id": "302e1086",
   "metadata": {},
   "outputs": [
    {
     "name": "stdout",
     "output_type": "stream",
     "text": [
      "Fitting 2 folds for each of 8 candidates, totalling 16 fits\n",
      "[CV 1/2] END ovsr__estimator__C=1, ovsr__estimator__degree=1, ovsr__estimator__kernel=poly;, score=0.458 total time=  27.0s\n",
      "[CV 2/2] END ovsr__estimator__C=1, ovsr__estimator__degree=1, ovsr__estimator__kernel=poly;, score=0.470 total time=  26.6s\n",
      "[CV 1/2] END ovsr__estimator__C=1, ovsr__estimator__degree=1, ovsr__estimator__kernel=rbf;, score=0.379 total time=  39.3s\n",
      "[CV 2/2] END ovsr__estimator__C=1, ovsr__estimator__degree=1, ovsr__estimator__kernel=rbf;, score=0.387 total time=  37.5s\n",
      "[CV 1/2] END ovsr__estimator__C=1, ovsr__estimator__degree=2, ovsr__estimator__kernel=poly;, score=0.263 total time=  43.4s\n",
      "[CV 2/2] END ovsr__estimator__C=1, ovsr__estimator__degree=2, ovsr__estimator__kernel=poly;, score=0.263 total time=  41.4s\n",
      "[CV 1/2] END ovsr__estimator__C=1, ovsr__estimator__degree=2, ovsr__estimator__kernel=rbf;, score=0.379 total time=  51.1s\n",
      "[CV 2/2] END ovsr__estimator__C=1, ovsr__estimator__degree=2, ovsr__estimator__kernel=rbf;, score=0.387 total time=  44.7s\n",
      "[CV 1/2] END ovsr__estimator__C=2, ovsr__estimator__degree=1, ovsr__estimator__kernel=poly;, score=0.476 total time=  28.7s\n",
      "[CV 2/2] END ovsr__estimator__C=2, ovsr__estimator__degree=1, ovsr__estimator__kernel=poly;, score=0.476 total time=  28.5s\n",
      "[CV 1/2] END ovsr__estimator__C=2, ovsr__estimator__degree=1, ovsr__estimator__kernel=rbf;, score=0.405 total time=  44.1s\n",
      "[CV 2/2] END ovsr__estimator__C=2, ovsr__estimator__degree=1, ovsr__estimator__kernel=rbf;, score=0.407 total time=  40.4s\n",
      "[CV 1/2] END ovsr__estimator__C=2, ovsr__estimator__degree=2, ovsr__estimator__kernel=poly;, score=0.287 total time=  43.9s\n",
      "[CV 2/2] END ovsr__estimator__C=2, ovsr__estimator__degree=2, ovsr__estimator__kernel=poly;, score=0.283 total time=  56.4s\n",
      "[CV 1/2] END ovsr__estimator__C=2, ovsr__estimator__degree=2, ovsr__estimator__kernel=rbf;, score=0.405 total time= 1.0min\n",
      "[CV 2/2] END ovsr__estimator__C=2, ovsr__estimator__degree=2, ovsr__estimator__kernel=rbf;, score=0.407 total time=  40.8s\n"
     ]
    },
    {
     "data": {
      "text/plain": [
       "{'ovsr__estimator__C': 2,\n",
       " 'ovsr__estimator__degree': 1,\n",
       " 'ovsr__estimator__kernel': 'poly'}"
      ]
     },
     "execution_count": 11,
     "metadata": {},
     "output_type": "execute_result"
    }
   ],
   "source": [
    "grid_selector1.fit(abstracts,Y_train)\n",
    "grid_selector1.best_params_"
   ]
  },
  {
   "cell_type": "code",
   "execution_count": 12,
   "id": "dfd08256",
   "metadata": {},
   "outputs": [
    {
     "name": "stdout",
     "output_type": "stream",
     "text": [
      "Fitting 2 folds for each of 8 candidates, totalling 16 fits\n",
      "[CV 1/2] END ovsr__estimator__C=1, ovsr__estimator__degree=1, ovsr__estimator__kernel=poly;, score=0.525 total time= 1.2min\n",
      "[CV 2/2] END ovsr__estimator__C=1, ovsr__estimator__degree=1, ovsr__estimator__kernel=poly;, score=0.521 total time= 1.3min\n",
      "[CV 1/2] END ovsr__estimator__C=1, ovsr__estimator__degree=1, ovsr__estimator__kernel=rbf;, score=0.525 total time= 2.1min\n",
      "[CV 2/2] END ovsr__estimator__C=1, ovsr__estimator__degree=1, ovsr__estimator__kernel=rbf;, score=0.525 total time= 2.1min\n",
      "[CV 1/2] END ovsr__estimator__C=1, ovsr__estimator__degree=2, ovsr__estimator__kernel=poly;, score=0.500 total time= 3.6min\n",
      "[CV 2/2] END ovsr__estimator__C=1, ovsr__estimator__degree=2, ovsr__estimator__kernel=poly;, score=0.504 total time= 3.4min\n",
      "[CV 1/2] END ovsr__estimator__C=1, ovsr__estimator__degree=2, ovsr__estimator__kernel=rbf;, score=0.525 total time= 2.2min\n",
      "[CV 2/2] END ovsr__estimator__C=1, ovsr__estimator__degree=2, ovsr__estimator__kernel=rbf;, score=0.525 total time= 2.2min\n",
      "[CV 1/2] END ovsr__estimator__C=2, ovsr__estimator__degree=1, ovsr__estimator__kernel=poly;, score=0.525 total time= 1.3min\n",
      "[CV 2/2] END ovsr__estimator__C=2, ovsr__estimator__degree=1, ovsr__estimator__kernel=poly;, score=0.520 total time= 1.3min\n",
      "[CV 1/2] END ovsr__estimator__C=2, ovsr__estimator__degree=1, ovsr__estimator__kernel=rbf;, score=0.526 total time= 2.1min\n",
      "[CV 2/2] END ovsr__estimator__C=2, ovsr__estimator__degree=1, ovsr__estimator__kernel=rbf;, score=0.527 total time= 2.1min\n",
      "[CV 1/2] END ovsr__estimator__C=2, ovsr__estimator__degree=2, ovsr__estimator__kernel=poly;, score=0.498 total time= 3.5min\n",
      "[CV 2/2] END ovsr__estimator__C=2, ovsr__estimator__degree=2, ovsr__estimator__kernel=poly;, score=0.503 total time= 3.4min\n",
      "[CV 1/2] END ovsr__estimator__C=2, ovsr__estimator__degree=2, ovsr__estimator__kernel=rbf;, score=0.526 total time= 2.1min\n",
      "[CV 2/2] END ovsr__estimator__C=2, ovsr__estimator__degree=2, ovsr__estimator__kernel=rbf;, score=0.527 total time= 2.1min\n"
     ]
    },
    {
     "data": {
      "text/plain": [
       "{'ovsr__estimator__C': 2,\n",
       " 'ovsr__estimator__degree': 1,\n",
       " 'ovsr__estimator__kernel': 'rbf'}"
      ]
     },
     "execution_count": 12,
     "metadata": {},
     "output_type": "execute_result"
    }
   ],
   "source": [
    "grid_selector2.fit(abstracts,Y_train)\n",
    "grid_selector2.best_params_"
   ]
  },
  {
   "cell_type": "code",
   "execution_count": 13,
   "id": "da74ef50",
   "metadata": {},
   "outputs": [
    {
     "name": "stdout",
     "output_type": "stream",
     "text": [
      "Fitting 2 folds for each of 8 candidates, totalling 16 fits\n",
      "[CV 1/2] END ovsr__estimator__C=1, ovsr__estimator__degree=1, ovsr__estimator__kernel=poly;, score=0.354 total time=   2.8s\n",
      "[CV 2/2] END ovsr__estimator__C=1, ovsr__estimator__degree=1, ovsr__estimator__kernel=poly;, score=0.371 total time=   3.0s\n",
      "[CV 1/2] END ovsr__estimator__C=1, ovsr__estimator__degree=1, ovsr__estimator__kernel=rbf;, score=0.334 total time=   4.4s\n",
      "[CV 2/2] END ovsr__estimator__C=1, ovsr__estimator__degree=1, ovsr__estimator__kernel=rbf;, score=0.341 total time=   4.7s\n",
      "[CV 1/2] END ovsr__estimator__C=1, ovsr__estimator__degree=2, ovsr__estimator__kernel=poly;, score=0.223 total time=   3.6s\n",
      "[CV 2/2] END ovsr__estimator__C=1, ovsr__estimator__degree=2, ovsr__estimator__kernel=poly;, score=0.271 total time=   4.2s\n",
      "[CV 1/2] END ovsr__estimator__C=1, ovsr__estimator__degree=2, ovsr__estimator__kernel=rbf;, score=0.334 total time=   4.5s\n",
      "[CV 2/2] END ovsr__estimator__C=1, ovsr__estimator__degree=2, ovsr__estimator__kernel=rbf;, score=0.341 total time=   4.4s\n",
      "[CV 1/2] END ovsr__estimator__C=2, ovsr__estimator__degree=1, ovsr__estimator__kernel=poly;, score=0.379 total time=   2.7s\n",
      "[CV 2/2] END ovsr__estimator__C=2, ovsr__estimator__degree=1, ovsr__estimator__kernel=poly;, score=0.386 total time=   2.9s\n",
      "[CV 1/2] END ovsr__estimator__C=2, ovsr__estimator__degree=1, ovsr__estimator__kernel=rbf;, score=0.360 total time=   6.4s\n",
      "[CV 2/2] END ovsr__estimator__C=2, ovsr__estimator__degree=1, ovsr__estimator__kernel=rbf;, score=0.369 total time=   6.2s\n",
      "[CV 1/2] END ovsr__estimator__C=2, ovsr__estimator__degree=2, ovsr__estimator__kernel=poly;, score=0.241 total time=   3.8s\n",
      "[CV 2/2] END ovsr__estimator__C=2, ovsr__estimator__degree=2, ovsr__estimator__kernel=poly;, score=0.287 total time=   3.9s\n",
      "[CV 1/2] END ovsr__estimator__C=2, ovsr__estimator__degree=2, ovsr__estimator__kernel=rbf;, score=0.360 total time=   5.2s\n",
      "[CV 2/2] END ovsr__estimator__C=2, ovsr__estimator__degree=2, ovsr__estimator__kernel=rbf;, score=0.369 total time=   4.7s\n"
     ]
    },
    {
     "data": {
      "text/plain": [
       "{'ovsr__estimator__C': 2,\n",
       " 'ovsr__estimator__degree': 1,\n",
       " 'ovsr__estimator__kernel': 'poly'}"
      ]
     },
     "execution_count": 13,
     "metadata": {},
     "output_type": "execute_result"
    }
   ],
   "source": [
    "grid_selector3.fit(entities,Y_train)\n",
    "grid_selector3.best_params_"
   ]
  },
  {
   "cell_type": "code",
   "execution_count": 14,
   "id": "c2a67af6",
   "metadata": {},
   "outputs": [
    {
     "name": "stdout",
     "output_type": "stream",
     "text": [
      "Fitting 2 folds for each of 8 candidates, totalling 16 fits\n",
      "[CV 1/2] END ovsr__estimator__C=1, ovsr__estimator__degree=1, ovsr__estimator__kernel=poly;, score=0.496 total time=   7.2s\n",
      "[CV 2/2] END ovsr__estimator__C=1, ovsr__estimator__degree=1, ovsr__estimator__kernel=poly;, score=0.480 total time=   7.9s\n",
      "[CV 1/2] END ovsr__estimator__C=1, ovsr__estimator__degree=1, ovsr__estimator__kernel=rbf;, score=0.483 total time=  10.9s\n",
      "[CV 2/2] END ovsr__estimator__C=1, ovsr__estimator__degree=1, ovsr__estimator__kernel=rbf;, score=0.485 total time=  11.8s\n",
      "[CV 1/2] END ovsr__estimator__C=1, ovsr__estimator__degree=2, ovsr__estimator__kernel=poly;, score=0.474 total time=   9.4s\n",
      "[CV 2/2] END ovsr__estimator__C=1, ovsr__estimator__degree=2, ovsr__estimator__kernel=poly;, score=0.454 total time=  10.6s\n",
      "[CV 1/2] END ovsr__estimator__C=1, ovsr__estimator__degree=2, ovsr__estimator__kernel=rbf;, score=0.483 total time=  11.2s\n",
      "[CV 2/2] END ovsr__estimator__C=1, ovsr__estimator__degree=2, ovsr__estimator__kernel=rbf;, score=0.485 total time=  11.4s\n",
      "[CV 1/2] END ovsr__estimator__C=2, ovsr__estimator__degree=1, ovsr__estimator__kernel=poly;, score=0.495 total time=   6.6s\n",
      "[CV 2/2] END ovsr__estimator__C=2, ovsr__estimator__degree=1, ovsr__estimator__kernel=poly;, score=0.495 total time=   7.5s\n",
      "[CV 1/2] END ovsr__estimator__C=2, ovsr__estimator__degree=1, ovsr__estimator__kernel=rbf;, score=0.485 total time=  10.9s\n",
      "[CV 2/2] END ovsr__estimator__C=2, ovsr__estimator__degree=1, ovsr__estimator__kernel=rbf;, score=0.485 total time=  13.0s\n",
      "[CV 1/2] END ovsr__estimator__C=2, ovsr__estimator__degree=2, ovsr__estimator__kernel=poly;, score=0.469 total time=   9.1s\n",
      "[CV 2/2] END ovsr__estimator__C=2, ovsr__estimator__degree=2, ovsr__estimator__kernel=poly;, score=0.451 total time=   9.8s\n",
      "[CV 1/2] END ovsr__estimator__C=2, ovsr__estimator__degree=2, ovsr__estimator__kernel=rbf;, score=0.485 total time=   9.9s\n",
      "[CV 2/2] END ovsr__estimator__C=2, ovsr__estimator__degree=2, ovsr__estimator__kernel=rbf;, score=0.485 total time=  11.2s\n"
     ]
    },
    {
     "data": {
      "text/plain": [
       "{'ovsr__estimator__C': 2,\n",
       " 'ovsr__estimator__degree': 1,\n",
       " 'ovsr__estimator__kernel': 'poly'}"
      ]
     },
     "execution_count": 14,
     "metadata": {},
     "output_type": "execute_result"
    }
   ],
   "source": [
    "grid_selector4.fit(entities,Y_train)\n",
    "grid_selector4.best_params_"
   ]
  },
  {
   "cell_type": "code",
   "execution_count": 15,
   "id": "026810a0",
   "metadata": {},
   "outputs": [
    {
     "name": "stdout",
     "output_type": "stream",
     "text": [
      "Test Report for Multinomial NB Pipe 1\n",
      "               precision    recall  f1-score   support\n",
      "\n",
      "           1       0.71      0.73      0.72      2103\n",
      "           2       0.30      0.99      0.46       994\n",
      "           3       0.68      0.33      0.45      1280\n",
      "           4       0.68      0.77      0.72      2029\n",
      "           5       0.70      0.27      0.39      3194\n",
      "\n",
      "    accuracy                           0.56      9600\n",
      "   macro avg       0.61      0.62      0.55      9600\n",
      "weighted avg       0.65      0.56      0.55      9600\n",
      "\n"
     ]
    },
    {
     "data": {
      "text/plain": [
       "<sklearn.metrics._plot.confusion_matrix.ConfusionMatrixDisplay at 0x277b4fc8190>"
      ]
     },
     "execution_count": 15,
     "metadata": {},
     "output_type": "execute_result"
    },
    {
     "data": {
      "image/png": "[encoded data removed]",
      "text/plain": [
       "<Figure size 432x288 with 2 Axes>"
      ]
     },
     "metadata": {
      "needs_background": "light"
     },
     "output_type": "display_data"
    }
   ],
   "source": [
    "y_pred1 = grid_selector1.predict(abstracts)\n",
    "report_pipe_p1 = classification_report(Y_train, y_pred1)\n",
    "print(\"Test Report for Multinomial NB Pipe 1\\n\", report_pipe_p1)\n",
    "cm = confusion_matrix(Y_train, y_pred1)\n",
    "disp = ConfusionMatrixDisplay(confusion_matrix=cm, display_labels= grid_selector1.classes_)\n",
    "disp.plot()"
   ]
  },
  {
   "cell_type": "code",
   "execution_count": 16,
   "id": "71f055dc",
   "metadata": {},
   "outputs": [
    {
     "name": "stdout",
     "output_type": "stream",
     "text": [
      "Test Report for Multinomial NB Pipe 2\n",
      "               precision    recall  f1-score   support\n",
      "\n",
      "           1       0.73      0.81      0.77      2103\n",
      "           2       0.49      0.94      0.64       994\n",
      "           3       0.45      0.92      0.60      1280\n",
      "           4       0.66      0.87      0.75      2029\n",
      "           5       0.97      0.01      0.02      3194\n",
      "\n",
      "    accuracy                           0.58      9600\n",
      "   macro avg       0.66      0.71      0.56      9600\n",
      "weighted avg       0.73      0.58      0.48      9600\n",
      "\n"
     ]
    },
    {
     "data": {
      "text/plain": [
       "<sklearn.metrics._plot.confusion_matrix.ConfusionMatrixDisplay at 0x277b4fc8df0>"
      ]
     },
     "execution_count": 16,
     "metadata": {},
     "output_type": "execute_result"
    },
    {
     "data": {
      "image/png": "[encoded data removed]",
      "text/plain": [
       "<Figure size 432x288 with 2 Axes>"
      ]
     },
     "metadata": {
      "needs_background": "light"
     },
     "output_type": "display_data"
    }
   ],
   "source": [
    "y_pred2 = grid_selector2.predict(abstracts)\n",
    "report_pipe_p2 = classification_report(Y_train, y_pred2)\n",
    "print(\"Test Report for Multinomial NB Pipe 2\\n\", report_pipe_p2)\n",
    "cm = confusion_matrix(Y_train, y_pred2)\n",
    "disp = ConfusionMatrixDisplay(confusion_matrix=cm, display_labels= grid_selector2.classes_)\n",
    "disp.plot()"
   ]
  },
  {
   "cell_type": "code",
   "execution_count": 17,
   "id": "55daf8ec",
   "metadata": {},
   "outputs": [
    {
     "name": "stdout",
     "output_type": "stream",
     "text": [
      "Test Report for Multinomial NB Pipe 3\n",
      "               precision    recall  f1-score   support\n",
      "\n",
      "           1       0.75      0.58      0.65      2103\n",
      "           2       0.22      0.98      0.36       994\n",
      "           3       0.55      0.22      0.31      1280\n",
      "           4       0.67      0.68      0.67      2029\n",
      "           5       0.58      0.19      0.28      3194\n",
      "\n",
      "    accuracy                           0.46      9600\n",
      "   macro avg       0.55      0.53      0.46      9600\n",
      "weighted avg       0.59      0.46      0.46      9600\n",
      "\n"
     ]
    },
    {
     "data": {
      "text/plain": [
       "<sklearn.metrics._plot.confusion_matrix.ConfusionMatrixDisplay at 0x277bd493fa0>"
      ]
     },
     "execution_count": 17,
     "metadata": {},
     "output_type": "execute_result"
    },
    {
     "data": {
      "image/png": "[encoded data removed]",
      "text/plain": [
       "<Figure size 432x288 with 2 Axes>"
      ]
     },
     "metadata": {
      "needs_background": "light"
     },
     "output_type": "display_data"
    }
   ],
   "source": [
    "y_pred3 = grid_selector3.predict(entities)\n",
    "report_pipe_p3 = classification_report(Y_train, y_pred3)\n",
    "print(\"Test Report for Multinomial NB Pipe 3\\n\", report_pipe_p3)\n",
    "cm = confusion_matrix(Y_train, y_pred3)\n",
    "disp = ConfusionMatrixDisplay(confusion_matrix=cm, display_labels= grid_selector3.classes_)\n",
    "disp.plot()"
   ]
  },
  {
   "cell_type": "code",
   "execution_count": 18,
   "id": "2f9cebca",
   "metadata": {},
   "outputs": [
    {
     "name": "stdout",
     "output_type": "stream",
     "text": [
      "Test Report for Multinomial NB Pipe 4\n",
      "               precision    recall  f1-score   support\n",
      "\n",
      "           1       0.71      0.74      0.72      2103\n",
      "           2       0.44      0.85      0.58       994\n",
      "           3       0.37      0.81      0.50      1280\n",
      "           4       0.63      0.77      0.69      2029\n",
      "           5       0.76      0.04      0.07      3194\n",
      "\n",
      "    accuracy                           0.53      9600\n",
      "   macro avg       0.58      0.64      0.52      9600\n",
      "weighted avg       0.64      0.53      0.46      9600\n",
      "\n"
     ]
    },
    {
     "data": {
      "text/plain": [
       "<sklearn.metrics._plot.confusion_matrix.ConfusionMatrixDisplay at 0x277c2db57c0>"
      ]
     },
     "execution_count": 18,
     "metadata": {},
     "output_type": "execute_result"
    },
    {
     "data": {
      "image/png": "[encoded data removed]",
      "text/plain": [
       "<Figure size 432x288 with 2 Axes>"
      ]
     },
     "metadata": {
      "needs_background": "light"
     },
     "output_type": "display_data"
    }
   ],
   "source": [
    "y_pred4 = grid_selector4.predict(entities)\n",
    "report_pipe_p4 = classification_report(Y_train, y_pred4)\n",
    "print(\"Test Report for Multinomial NB Pipe 4\\n\", report_pipe_p4)\n",
    "cm = confusion_matrix(Y_train, y_pred4)\n",
    "disp = ConfusionMatrixDisplay(confusion_matrix=cm, display_labels= grid_selector4.classes_)\n",
    "disp.plot()"
   ]
  },
  {
   "cell_type": "code",
   "execution_count": null,
   "id": "8991d787",
   "metadata": {},
   "outputs": [],
   "source": []
  },
  {
   "cell_type": "markdown",
   "id": "77d15f5b",
   "metadata": {},
   "source": [
    "## Guardar Modelo"
   ]
  },
  {
   "cell_type": "code",
   "execution_count": 19,
   "id": "d22f4a44",
   "metadata": {},
   "outputs": [],
   "source": [
    "Escogemos el modelo que mejor precision tiene, este es el de la pipeline 2, asi que ese es el que guardaremos \n",
    "#file = open(\"OneVsRest.joblib\",\"wb\")\n",
    "#joblib.dump(final_model,file)\n",
    "#file.close()"
   ]
  },
  {
   "cell_type": "code",
   "execution_count": null,
   "id": "d7ea219f",
   "metadata": {},
   "outputs": [],
   "source": []
  }
 ],
 "metadata": {
  "kernelspec": {
   "display_name": "Python 3",
   "language": "python",
   "name": "python3"
  },
  "language_info": {
   "codemirror_mode": {
    "name": "ipython",
    "version": 3
   },
   "file_extension": ".py",
   "mimetype": "text/x-python",
   "name": "python",
   "nbconvert_exporter": "python",
   "pygments_lexer": "ipython3",
   "version": "3.8.8"
  },
  "toc": {
   "base_numbering": 1,
   "nav_menu": {},
   "number_sections": true,
   "sideBar": true,
   "skip_h1_title": false,
   "title_cell": "Table of Contents",
   "title_sidebar": "Contents",
   "toc_cell": false,
   "toc_position": {},
   "toc_section_display": true,
   "toc_window_display": false
  },
  "varInspector": {
   "cols": {
    "lenName": 16,
    "lenType": 16,
    "lenVar": 40
   },
   "kernels_config": {
    "python": {
     "delete_cmd_postfix": "",
     "delete_cmd_prefix": "del ",
     "library": "var_list.py",
     "varRefreshCmd": "print(var_dic_list())"
    },
    "r": {
     "delete_cmd_postfix": ") ",
     "delete_cmd_prefix": "rm(",
     "library": "var_list.r",
     "varRefreshCmd": "cat(var_dic_list()) "
    }
   },
   "types_to_exclude": [
    "module",
    "function",
    "builtin_function_or_method",
    "instance",
    "_Feature"
   ],
   "window_display": false
  }
 },
 "nbformat": 4,
 "nbformat_minor": 5
}
